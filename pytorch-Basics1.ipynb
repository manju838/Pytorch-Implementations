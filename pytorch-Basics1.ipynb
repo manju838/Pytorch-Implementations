{
 "metadata": {
  "language_info": {
   "codemirror_mode": {
    "name": "ipython",
    "version": 3
   },
   "file_extension": ".py",
   "mimetype": "text/x-python",
   "name": "python",
   "nbconvert_exporter": "python",
   "pygments_lexer": "ipython3",
   "version": "3.6.9-final"
  },
  "orig_nbformat": 2,
  "kernelspec": {
   "name": "python3",
   "display_name": "Python 3.6.9 64-bit ('pytorch_env': venv)",
   "metadata": {
    "interpreter": {
     "hash": "1806376677c8b7d13a490fec5ea446823ad786c23886db3b0e0bc74d0bf6d737"
    }
   }
  }
 },
 "nbformat": 4,
 "nbformat_minor": 2,
 "cells": [
  {
   "cell_type": "code",
   "execution_count": 1,
   "metadata": {},
   "outputs": [
    {
     "output_type": "stream",
     "name": "stdout",
     "text": [
      "1.7.1\n"
     ]
    }
   ],
   "source": [
    "import torch\n",
    "print(torch.__version__)"
   ]
  },
  {
   "source": [
    "A PyTorch Tensor is basically the same as a numpy array: it does not know anything about deep learning or computational graphs or gradients, and is just a generic n-dimensional array to be used for arbitrary numeric computation.\n",
    "\n",
    "The biggest difference between a numpy array and a PyTorch Tensor is that a PyTorch Tensor can run on either CPU or GPU.    \n",
    "To get more clarity about physical significance of tensors: https://www.youtube.com/watch?v=uaQeXi4E7gA"
   ],
   "cell_type": "markdown",
   "metadata": {}
  },
  {
   "cell_type": "code",
   "execution_count": 2,
   "metadata": {},
   "outputs": [
    {
     "output_type": "stream",
     "name": "stdout",
     "text": [
      "tensor([10.,  3.])\n"
     ]
    }
   ],
   "source": [
    "x = torch.Tensor([5,3])\n",
    "y = torch.Tensor([2,1])\n",
    "\n",
    "print(x*y)"
   ]
  },
  {
   "cell_type": "code",
   "execution_count": 19,
   "metadata": {},
   "outputs": [
    {
     "output_type": "stream",
     "name": "stdout",
     "text": [
      "tensor([[1., 2., 3.],\n        [4., 5., 6.]], dtype=torch.float64, requires_grad=True)\ntorch.float64\ncpu\ntorch.Size([2, 3])\nTrue\n"
     ]
    }
   ],
   "source": [
    "device = \"cuda\" if torch.cuda.is_available() else \"cpu\" #This is the best practice as it runs both on CPU and GPU machines\n",
    "z = torch.tensor([[1,2,3], [4,5,6]],device =device, dtype = torch.float64,requires_grad = True) #device = \"cuda\" is part of attribute for running tensors on GPU,requires_grad is set to True if we need gradient computation later on in gradient descent type problems\n",
    "print(z)\n",
    "print(z.dtype)\n",
    "print(z.device)\n",
    "print(z.shape)\n",
    "print(z.requires_grad)"
   ]
  },
  {
   "source": [
    "In PyTorch torch.Tensor is the main tensor class. So all tensors are just instances of torch.Tensor.\n",
    "\n",
    "When you call torch.Tensor() you will get an empty tensor without any data.\n",
    "\n",
    "In contrast torch.tensor is a function which returns a tensor.\n",
    "\n",
    "So,torch.Tensor() can be used as a standalone fn. but torch.tensor() needs data in it,else it gives an error"
   ],
   "cell_type": "markdown",
   "metadata": {}
  },
  {
   "cell_type": "code",
   "execution_count": 3,
   "metadata": {},
   "outputs": [
    {
     "output_type": "stream",
     "name": "stdout",
     "text": [
      "tensor([[0., 0., 0., 0., 0.],\n        [0., 0., 0., 0., 0.]])\n"
     ]
    }
   ],
   "source": [
    "x = torch.zeros([2,5])\n",
    "print(x)"
   ]
  },
  {
   "cell_type": "code",
   "execution_count": 5,
   "metadata": {},
   "outputs": [
    {
     "output_type": "stream",
     "name": "stdout",
     "text": [
      "torch.Size([2, 5])\n"
     ]
    }
   ],
   "source": [
    "print(x.shape)"
   ]
  },
  {
   "cell_type": "code",
   "execution_count": 7,
   "metadata": {},
   "outputs": [
    {
     "output_type": "stream",
     "name": "stdout",
     "text": [
      "tensor([[0.6528, 0.1557, 0.4163, 0.4541, 0.8711],\n        [0.9251, 0.3352, 0.7357, 0.9102, 0.0534]])\n"
     ]
    }
   ],
   "source": [
    "y = torch.rand([2,5]) #rand is used to randomly initialise an array just like in numpy\n",
    "print(y)"
   ]
  },
  {
   "cell_type": "code",
   "execution_count": 9,
   "metadata": {},
   "outputs": [
    {
     "output_type": "execute_result",
     "data": {
      "text/plain": [
       "tensor([[0.6528, 0.1557, 0.4163, 0.4541, 0.8711, 0.9251, 0.3352, 0.7357, 0.9102,\n",
       "         0.0534]])"
      ]
     },
     "metadata": {},
     "execution_count": 9
    }
   ],
   "source": [
    "y.view([1,10]) #reshape in numpy as view in pytorch,but inplace is false,so when we print y in the next cell,the value is the same"
   ]
  },
  {
   "cell_type": "code",
   "execution_count": 10,
   "metadata": {},
   "outputs": [
    {
     "output_type": "stream",
     "name": "stdout",
     "text": [
      "tensor([[0.6528, 0.1557, 0.4163, 0.4541, 0.8711],\n        [0.9251, 0.3352, 0.7357, 0.9102, 0.0534]])\n"
     ]
    }
   ],
   "source": [
    "print(y)"
   ]
  },
  {
   "cell_type": "code",
   "execution_count": 11,
   "metadata": {},
   "outputs": [],
   "source": [
    "y = y.view([1,10])"
   ]
  },
  {
   "cell_type": "code",
   "execution_count": 12,
   "metadata": {},
   "outputs": [
    {
     "output_type": "stream",
     "name": "stdout",
     "text": [
      "tensor([[0.6528, 0.1557, 0.4163, 0.4541, 0.8711, 0.9251, 0.3352, 0.7357, 0.9102,\n         0.0534]])\n"
     ]
    }
   ],
   "source": [
    "print(y)"
   ]
  },
  {
   "cell_type": "code",
   "execution_count": 20,
   "metadata": {},
   "outputs": [
    {
     "output_type": "stream",
     "name": "stdout",
     "text": [
      "tensor([[0.0000e+00, 0.0000e+00, 2.2599e-37],\n        [0.0000e+00, 1.5695e-43, 0.0000e+00],\n        [6.7262e-44, 0.0000e+00, 2.2615e-37]])\ntensor([[0., 0., 0.],\n        [0., 0., 0.],\n        [0., 0., 0.]])\ntensor([[0.3749, 0.7887, 0.7627],\n        [0.0587, 0.0465, 0.5615],\n        [0.1756, 0.7525, 0.1821]])\ntensor([[1., 1., 1.],\n        [1., 1., 1.],\n        [1., 1., 1.]])\ntensor([[1., 0., 0., 0., 0.],\n        [0., 1., 0., 0., 0.],\n        [0., 0., 1., 0., 0.],\n        [0., 0., 0., 1., 0.],\n        [0., 0., 0., 0., 1.]])\ntensor([0, 1, 2, 3, 4])\ntensor([0.1000, 0.2000, 0.3000, 0.4000, 0.5000, 0.6000, 0.7000, 0.8000, 0.9000,\n        1.0000])\ntensor([[-0.5634, -0.1857,  2.6034, -0.6528,  0.3820]])\ntensor([[0.8093, 0.7155, 0.8856, 0.9557, 0.3918]])\ntensor([[1., 0., 0.],\n        [0., 1., 0.],\n        [0., 0., 1.]])\n"
     ]
    }
   ],
   "source": [
    "# Other common initialization methods,these are usually used for initialisations when we write a class's __init__ method.\n",
    "x = torch.empty(size=(3, 3))  # Tensor of shape 3x3 with uninitialized data\n",
    "print(x)\n",
    "x = torch.zeros((3, 3))  # Tensor of shape 3x3 with values of 0\n",
    "print(x)\n",
    "x = torch.rand((3, 3))  # Tensor of shape 3x3 with values from uniform distribution in interval [0,1)\n",
    "print(x)\n",
    "x = torch.ones((3, 3))  # Tensor of shape 3x3 with values of 1\n",
    "print(x)\n",
    "x = torch.eye(5, 5)  # Returns Identity Matrix I, (I <-> Eye), matrix of shape 2x3\n",
    "print(x)\n",
    "x = torch.arange(start=0, end=5, step=1)  # Tensor [0, 1, 2, 3, 4], note, can also do: torch.arange(11)\n",
    "print(x)\n",
    "x = torch.linspace(start=0.1, end=1, steps=10)  # x = [0.1, 0.2, ..., 1]\n",
    "print(x)\n",
    "x = torch.empty(size=(1, 5)).normal_(mean=0, std=1)  # Normally distributed with mean=0, std=1\n",
    "print(x)\n",
    "x = torch.empty(size=(1, 5)).uniform_(0, 1)  # Values from a uniform distribution low=0, high=1\n",
    "print(x)\n",
    "x = torch.diag(torch.ones(3))  # Diagonal matrix of shape 3x3\n",
    "print(x)"
   ]
  },
  {
   "cell_type": "code",
   "execution_count": 21,
   "metadata": {},
   "outputs": [
    {
     "output_type": "stream",
     "name": "stdout",
     "text": [
      "Converted Boolean: tensor([False,  True,  True,  True])\nConverted int16 tensor([0, 1, 2, 3], dtype=torch.int16)\nConverted int64 tensor([0, 1, 2, 3])\nConverted float16 tensor([0., 1., 2., 3.], dtype=torch.float16)\nConverted float32 tensor([0., 1., 2., 3.])\nConverted float64 tensor([0., 1., 2., 3.], dtype=torch.float64)\n"
     ]
    }
   ],
   "source": [
    "# How to make initialized tensors to other types (int, float, double)\n",
    "# These will work even if you're on CPU or CUDA!\n",
    "tensor = torch.arange(4)  # [0, 1, 2, 3] Initialized as int64 by default\n",
    "print(f\"Converted Boolean: {tensor.bool()}\")  # Converted to Boolean: 1 if nonzero\n",
    "print(f\"Converted int16 {tensor.short()}\")  # Converted to int16\n",
    "print(f\"Converted int64 {tensor.long()}\")  # Converted to int64 (This one is very important, used super often)\n",
    "print(f\"Converted float16 {tensor.half()}\")  # Converted to float16\n",
    "print(f\"Converted float32 {tensor.float()}\")  # Converted to float32 (This one is very important, used super often)\n",
    "print(f\"Converted float64 {tensor.double()}\")  # Converted to float64\n"
   ]
  },
  {
   "cell_type": "code",
   "execution_count": 22,
   "metadata": {},
   "outputs": [],
   "source": [
    "# Array to Tensor conversion and vice-versa\n",
    "import numpy as np\n",
    "\n",
    "np_array = np.zeros((5, 5))\n",
    "tensor = torch.from_numpy(np_array)\n",
    "np_array_again = (tensor.numpy())  # np_array_again will be same as np_array (perhaps with numerical round offs)"
   ]
  },
  {
   "source": [
    "Tensor Math & Comparison Operations"
   ],
   "cell_type": "markdown",
   "metadata": {}
  },
  {
   "cell_type": "code",
   "execution_count": 4,
   "metadata": {},
   "outputs": [
    {
     "output_type": "stream",
     "name": "stdout",
     "text": [
      "x tensor([1, 2, 3])\ny tensor([9, 8, 7])\n"
     ]
    }
   ],
   "source": [
    "x = torch.tensor([1, 2, 3])\n",
    "y = torch.tensor([9, 8, 7])\n",
    "print(\"x\",x)\n",
    "print(\"y\",y)\n"
   ]
  },
  {
   "cell_type": "code",
   "execution_count": 24,
   "metadata": {},
   "outputs": [
    {
     "output_type": "stream",
     "name": "stdout",
     "text": [
      "z1 tensor([-4.4614e-15,  4.5787e-41,  2.1928e-37])\nz1 tensor([10., 10., 10.])\nz2 tensor([10, 10, 10])\n"
     ]
    }
   ],
   "source": [
    "# -- Addition --\n",
    "z1 = torch.empty(3)\n",
    "print(\"z1\",z1)\n",
    "torch.add(x, y, out=z1)  # This is one way\n",
    "print(\"z1\",z1)\n",
    "z2 = torch.add(x, y)  # This is another way\n",
    "print(\"z2\",z2)\n",
    "z = x + y  # This is my preferred way, simple and clean."
   ]
  },
  {
   "source": [
    "Initially z1 was empty so it initialised by using some garbage values   \n",
    ".add() function takes both adding inputs and also an output here z1,so we got tensor as (10 10 10) i.e(1+9 2+8 3+7)     \n",
    "Other methods are just doing it the pythonic way"
   ],
   "cell_type": "markdown",
   "metadata": {}
  },
  {
   "cell_type": "code",
   "execution_count": 26,
   "metadata": {},
   "outputs": [
    {
     "output_type": "stream",
     "name": "stdout",
     "text": [
      "tensor([-8, -6, -4])\n"
     ]
    }
   ],
   "source": [
    "# -- Subtraction --\n",
    "z = x - y  # We can do similarly as the preferred way of addition\n",
    "print(z)"
   ]
  },
  {
   "cell_type": "code",
   "execution_count": 4,
   "metadata": {},
   "outputs": [
    {
     "output_type": "stream",
     "name": "stdout",
     "text": [
      "tensor([0.1111, 0.2500, 0.4286])\nz by true_divide: tensor([0.1111, 0.2500, 0.4286])\n"
     ]
    }
   ],
   "source": [
    "# -- Division (A bit clunky) --\n",
    "z = x/y\n",
    "print(z)\n",
    "z = torch.true_divide(x, y)  # Will do element wise division if of equal shape\n",
    "print(\"z by true_divide:\",z)\n",
    "#Note that true_divide() will work only in torch version 1.7 or above,I upgraded my library from 1.3 to 1.7 to run it"
   ]
  },
  {
   "cell_type": "code",
   "execution_count": 33,
   "metadata": {},
   "outputs": [],
   "source": [
    "# -- Inplace Operations --\n",
    "t = torch.zeros(3)\n",
    "\n",
    "t.add_(x)  # Whenever we have operation followed by _ it will mutate the tensor inplace(similar to inplace = True in pandas)\n",
    "t += x  # Also inplace: t = t + x is not inplace, bit confusing.\n"
   ]
  },
  {
   "cell_type": "code",
   "execution_count": 34,
   "metadata": {},
   "outputs": [
    {
     "output_type": "stream",
     "name": "stdout",
     "text": [
      "tensor([2., 4., 6.])\n"
     ]
    }
   ],
   "source": [
    "print(t) #Here we did inplace using add_() fn as well as we added inplace the pythonic way so t = 2x"
   ]
  },
  {
   "cell_type": "code",
   "execution_count": 37,
   "metadata": {},
   "outputs": [
    {
     "output_type": "stream",
     "name": "stdout",
     "text": [
      "tensor([1, 4, 9])\n"
     ]
    }
   ],
   "source": [
    "# -- Exponentiation (Element wise if vector or matrices) --\n",
    "z = x.pow(2)  # z = [1, 4, 9]\n",
    "z = x ** 2  # z = [1, 4, 9]\n",
    "\n",
    "print(z)"
   ]
  },
  {
   "cell_type": "code",
   "execution_count": 39,
   "metadata": {},
   "outputs": [
    {
     "output_type": "stream",
     "name": "stdout",
     "text": [
      "tensor([True, True, True])\ntensor([False, False, False])\n"
     ]
    }
   ],
   "source": [
    "# -- Simple Comparison --\n",
    "z = x > 0  # Returns [True, True, True]\n",
    "print(z)\n",
    "z = x < 0  # Returns [False, False, False]\n",
    "print(z)\n"
   ]
  },
  {
   "cell_type": "code",
   "execution_count": 40,
   "metadata": {},
   "outputs": [
    {
     "output_type": "stream",
     "name": "stdout",
     "text": [
      "tensor([[1.3463, 1.4367, 1.0308],\n        [1.8441, 2.0100, 1.0919]])\ntensor([[1.3463, 1.4367, 1.0308],\n        [1.8441, 2.0100, 1.0919]])\n"
     ]
    }
   ],
   "source": [
    "# -- Matrix Multiplication --\n",
    "x1 = torch.rand((2, 5))\n",
    "x2 = torch.rand((5, 3))\n",
    "x3 = torch.mm(x1, x2)  # Matrix multiplication of x1 and x2, out shape: 2x3\n",
    "print(x3)\n",
    "x3 = x1.mm(x2)  # Similar as line above\n",
    "print(x3)\n",
    "#Matrix multiplication is done using the fn .mm()"
   ]
  },
  {
   "cell_type": "code",
   "execution_count": 5,
   "metadata": {},
   "outputs": [
    {
     "output_type": "stream",
     "name": "stdout",
     "text": [
      "tensor([[4.9631, 7.4081, 5.7920, 6.7411, 6.0805],\n        [4.0699, 6.2339, 4.8884, 5.5674, 5.0909],\n        [5.3770, 8.2195, 6.3010, 7.3865, 6.8073],\n        [4.1232, 5.9994, 4.5968, 5.5170, 4.9846],\n        [3.3668, 5.1938, 3.8890, 4.5114, 4.3595]])\n"
     ]
    }
   ],
   "source": [
    "# -- Matrix Exponentiation -- #Matrix multiplication(matrix cube here) can either be done as matrix*matrix*matrix or matrix_power(3)\n",
    "matrix_exp = torch.rand(5, 5)\n",
    "print(matrix_exp.matrix_power(3))  # is same as matrix_exp (mm) matrix_exp (mm) matrix_exp i.e multiplying the matrix with itself thrice here"
   ]
  },
  {
   "cell_type": "code",
   "execution_count": 6,
   "metadata": {},
   "outputs": [
    {
     "output_type": "stream",
     "name": "stdout",
     "text": [
      "tensor([ 9, 16, 21])\ntensor(46)\n"
     ]
    }
   ],
   "source": [
    "# -- Element wise Multiplication --\n",
    "z = x * y  # z = [9, 16, 21] = [1*9, 2*8, 3*7]\n",
    "print(z)\n",
    "\n",
    "# -- Dot product --\n",
    "z = torch.dot(x, y)  # Dot product, in this case z = 1*9 + 2*8 + 3*7\n",
    "print(z)\n"
   ]
  },
  {
   "source": [
    "Lets understand shapes in general.  \n",
    "In the first shape (3,2) => three groups of two elements each\n",
    "In the second shape (4,3,2) => four groups of three groups of two elements each i.e Total elements = ({2(per array)} * 3(per group1) ) * 4(per group2) = 24   \n",
    "This is exactly what is printed when I flattened the matrix,I got 24 elements printed as length\n",
    "Similarly,the last shape (5,4,3,2) => Total elements = (5) 4 (3) * 2 = 120"
   ],
   "cell_type": "markdown",
   "metadata": {}
  },
  {
   "cell_type": "code",
   "execution_count": 8,
   "metadata": {},
   "outputs": [
    {
     "output_type": "stream",
     "name": "stdout",
     "text": [
      "[[1. 1.]\n [1. 1.]\n [1. 1.]]\n----\n[[[1. 1.]\n  [1. 1.]\n  [1. 1.]]\n\n [[1. 1.]\n  [1. 1.]\n  [1. 1.]]\n\n [[1. 1.]\n  [1. 1.]\n  [1. 1.]]\n\n [[1. 1.]\n  [1. 1.]\n  [1. 1.]]]\n24\n----\n[[[[1. 1.]\n   [1. 1.]\n   [1. 1.]]\n\n  [[1. 1.]\n   [1. 1.]\n   [1. 1.]]\n\n  [[1. 1.]\n   [1. 1.]\n   [1. 1.]]\n\n  [[1. 1.]\n   [1. 1.]\n   [1. 1.]]]\n\n\n [[[1. 1.]\n   [1. 1.]\n   [1. 1.]]\n\n  [[1. 1.]\n   [1. 1.]\n   [1. 1.]]\n\n  [[1. 1.]\n   [1. 1.]\n   [1. 1.]]\n\n  [[1. 1.]\n   [1. 1.]\n   [1. 1.]]]\n\n\n [[[1. 1.]\n   [1. 1.]\n   [1. 1.]]\n\n  [[1. 1.]\n   [1. 1.]\n   [1. 1.]]\n\n  [[1. 1.]\n   [1. 1.]\n   [1. 1.]]\n\n  [[1. 1.]\n   [1. 1.]\n   [1. 1.]]]\n\n\n [[[1. 1.]\n   [1. 1.]\n   [1. 1.]]\n\n  [[1. 1.]\n   [1. 1.]\n   [1. 1.]]\n\n  [[1. 1.]\n   [1. 1.]\n   [1. 1.]]\n\n  [[1. 1.]\n   [1. 1.]\n   [1. 1.]]]\n\n\n [[[1. 1.]\n   [1. 1.]\n   [1. 1.]]\n\n  [[1. 1.]\n   [1. 1.]\n   [1. 1.]]\n\n  [[1. 1.]\n   [1. 1.]\n   [1. 1.]]\n\n  [[1. 1.]\n   [1. 1.]\n   [1. 1.]]]]\n"
     ]
    }
   ],
   "source": [
    "import numpy as np\n",
    "p = np.ones((3,2))\n",
    "print(p)\n",
    "print(\"----\")\n",
    "q = np.ones((4,3,2))\n",
    "print(q)\n",
    "print(len(q.reshape(-1,1)))\n",
    "print(\"----\")\n",
    "r = np.ones((5,4,3,2))\n",
    "print(r)"
   ]
  },
  {
   "cell_type": "code",
   "execution_count": 11,
   "metadata": {},
   "outputs": [
    {
     "output_type": "stream",
     "name": "stdout",
     "text": [
      "tensor([[[5.0801, 5.8107, 4.3462,  ..., 4.7078, 5.5737, 4.8651],\n         [5.3864, 5.9596, 4.7107,  ..., 5.6850, 5.1224, 5.3643],\n         [4.6892, 4.7288, 3.4866,  ..., 4.9047, 4.0650, 3.8128],\n         ...,\n         [4.0437, 4.4266, 3.4323,  ..., 3.7891, 3.1812, 3.6197],\n         [6.9458, 7.0410, 5.5873,  ..., 6.1765, 6.0298, 5.7099],\n         [5.2996, 5.0030, 3.5179,  ..., 5.3515, 4.9107, 4.0785]],\n\n        [[6.2235, 6.9336, 6.0647,  ..., 6.3257, 5.9475, 6.1217],\n         [7.6693, 8.1500, 5.8221,  ..., 6.3652, 7.6206, 6.6013],\n         [7.1662, 7.1425, 6.1693,  ..., 5.1591, 6.7365, 5.6577],\n         ...,\n         [6.0033, 6.1650, 5.9129,  ..., 4.6656, 5.5435, 5.8572],\n         [6.5486, 6.8060, 5.6628,  ..., 5.2217, 6.0811, 6.6942],\n         [7.1288, 6.9807, 6.1084,  ..., 6.0383, 6.7269, 6.7827]],\n\n        [[5.1248, 6.7672, 6.0734,  ..., 5.2271, 5.0484, 5.4493],\n         [4.2199, 5.7447, 4.9908,  ..., 5.4502, 5.1859, 5.9011],\n         [5.6054, 7.4857, 6.1310,  ..., 5.4573, 5.5505, 5.9954],\n         ...,\n         [4.8594, 6.1708, 5.1481,  ..., 4.3481, 5.1229, 4.9061],\n         [5.7629, 7.5300, 6.5328,  ..., 5.8137, 5.3911, 6.3467],\n         [4.5010, 5.3939, 4.7458,  ..., 4.8459, 4.0852, 4.5694]],\n\n        ...,\n\n        [[4.8951, 3.5440, 4.5373,  ..., 4.2606, 4.0688, 4.5432],\n         [3.6951, 2.6070, 3.1546,  ..., 3.3642, 2.3657, 3.1506],\n         [4.3165, 4.4822, 5.5758,  ..., 5.0611, 4.4043, 4.8402],\n         ...,\n         [6.7002, 4.4960, 6.4228,  ..., 5.6845, 4.8779, 5.7171],\n         [4.6937, 3.1382, 4.2476,  ..., 4.3597, 3.1580, 4.1139],\n         [4.8488, 4.6976, 5.2949,  ..., 4.1879, 3.5683, 4.7566]],\n\n        [[4.3029, 3.2050, 4.3937,  ..., 4.5612, 4.9916, 3.9260],\n         [4.6220, 4.1181, 4.3972,  ..., 4.4348, 5.2506, 3.9157],\n         [5.2822, 4.1701, 4.4625,  ..., 4.5131, 5.5758, 5.0488],\n         ...,\n         [5.5478, 4.3473, 4.6046,  ..., 4.9465, 5.8252, 4.8490],\n         [5.1208, 3.6075, 4.4682,  ..., 5.1299, 5.5984, 5.0054],\n         [4.8664, 3.4523, 4.0663,  ..., 5.0169, 5.5990, 4.2839]],\n\n        [[6.2144, 4.2697, 4.9554,  ..., 4.8915, 5.6968, 4.3189],\n         [4.1809, 4.1246, 3.7858,  ..., 2.7714, 4.9648, 2.9078],\n         [4.4461, 3.3733, 4.0792,  ..., 2.8563, 4.5401, 2.9321],\n         ...,\n         [5.2557, 4.2848, 5.0501,  ..., 3.8421, 5.8022, 3.6018],\n         [4.4919, 3.8248, 3.7553,  ..., 2.7531, 4.4216, 2.5279],\n         [6.6677, 5.2219, 5.4047,  ..., 4.4405, 6.9791, 4.0925]]])\n"
     ]
    }
   ],
   "source": [
    "# -- Batch Matrix Multiplication --\n",
    "batch = 32\n",
    "n = 10\n",
    "m = 20\n",
    "p = 30\n",
    "tensor1 = torch.rand((batch, n, m))\n",
    "tensor2 = torch.rand((batch, m, p))\n",
    "out_bmm = torch.bmm(tensor1, tensor2)  # Will be shape: (batch x n x p)\n",
    "print(out_bmm)\n",
    "\n",
    "#This is like let tensors be of shape(4,3,2) and (4,2,5) then first tensor has 4 groups of (3,2) shape while second tensor has 4 groups of (2,5) shape,so result is matrix multiplication of 0th element of first tensor with 0th element of second tensor and so on.So we are doing internal matrix multiplication."
   ]
  },
  {
   "cell_type": "code",
   "execution_count": 12,
   "metadata": {},
   "outputs": [],
   "source": [
    "# -- Example of broadcasting --\n",
    "x1 = torch.rand((5, 5))\n",
    "x2 = torch.ones((1, 5))\n",
    "#x2 increased from (1,5) to (5,5) and then operations like subtraction is done\n",
    "z = (x1 - x2)  # Shape of z is 5x5: How? The 1x5 vector (x2) is subtracted for each row in the 5x5 (x1)\n",
    "z = (x1 ** x2)  # Shape of z is 5x5: How? Broadcasting! Element wise exponentiation for every row\n",
    "\n"
   ]
  },
  {
   "cell_type": "code",
   "execution_count": 5,
   "metadata": {},
   "outputs": [],
   "source": [
    "# Other useful tensor operations\n",
    "sum_x = torch.sum(x, dim=0)  # Sum of x across dim=0 (which is the only dim in our case), sum_x = 6\n",
    "values, indices = torch.max(x, dim=0)  # Can also do x.max(dim=0)\n",
    "values, indices = torch.min(x, dim=0)  # Can also do x.min(dim=0)\n",
    "abs_x = torch.abs(x)  # Returns x where abs function has been applied to every element\n",
    "z = torch.argmax(x, dim=0)  # Gets index of the maximum value\n",
    "z = torch.argmin(x, dim=0)  # Gets index of the minimum value\n",
    "mean_x = torch.mean(x.float(), dim=0)  # mean requires x to be float\n",
    "z = torch.eq(x, y)  # Element wise comparison which elements are equal, in this case z = [False, False, False](x and y are defined in first cell of Tensor Math & Comparison Operations section)\n",
    "sorted_y, indices = torch.sort(y, dim=0, descending=False)\n",
    "\n",
    "z = torch.clamp(x, min=0)\n",
    "# All values < 0 set to 0 and values > 0 unchanged (this is exactly ReLU function)\n",
    "# If you want to values over max_val to be clamped, do torch.clamp(x, min=min_val, max=max_val)\n",
    "\n",
    "x = torch.tensor([1, 0, 1, 1, 1], dtype=torch.bool)  # True/False values\n",
    "z = torch.any(x)  # will return True, can also do x.any() instead of torch.any(x)\n",
    "z = torch.all(x)  # will return False (since not all are True), can also do x.all() instead of torch.all()"
   ]
  },
  {
   "source": [
    "Tensor Indexing"
   ],
   "cell_type": "markdown",
   "metadata": {}
  },
  {
   "cell_type": "code",
   "execution_count": 6,
   "metadata": {},
   "outputs": [
    {
     "output_type": "stream",
     "name": "stdout",
     "text": [
      "torch.Size([25])\ntorch.Size([10])\ntorch.Size([10])\ntensor([2, 5, 8])\ntensor([0.4701, 0.3722])\ntensor([0, 1, 9])\ntensor([0, 2, 4, 6, 8])\ntensor([ 0,  2,  4,  6,  8, 10,  6,  7,  8,  9])\n2\n10\n"
     ]
    }
   ],
   "source": [
    "batch_size = 10\n",
    "features = 25\n",
    "x = torch.rand((batch_size, features)) #This gives us a tensor of batch_size groups with tensor of 25 elements\n",
    "\n",
    "# Get first examples features\n",
    "print(x[0].shape)  # shape [25], this is same as doing x[0,:]\n",
    "\n",
    "# Get the first feature for all examples\n",
    "print(x[:, 0].shape)  # shape [10]\n",
    "\n",
    "# For example: Want to access third example in the batch and the first ten features\n",
    "print(x[2, 0:10].shape)  # shape: [10]\n",
    "\n",
    "# For example we can use this to, assign certain elements\n",
    "x[0, 0] = 100\n",
    "\n",
    "# Fancy Indexing\n",
    "x = torch.arange(10)\n",
    "indices = [2, 5, 8]\n",
    "print(x[indices])  # x[indices] = [2, 5, 8]\n",
    "\n",
    "x = torch.rand((3, 5))\n",
    "rows = torch.tensor([1, 0])\n",
    "cols = torch.tensor([4, 0])\n",
    "print(x[rows, cols])  # In this we define the rows list as a tensor, the columns list as a tensor and get the rows,cols value as a whole for tensor\n",
    "\n",
    "# More advanced indexing\n",
    "x = torch.arange(10)\n",
    "print(x[(x < 2) | (x > 8)])  # This will give out all values less than 2 or greater than 8 in range [0,10),  i.e [0, 1, 9]\n",
    "print(x[x.remainder(2) == 0])  # This will give values of x such that remainder of x divided by 2 is 0\n",
    "\n",
    "# Useful operations for indexing\n",
    "print(torch.where(x > 5, x, x * 2))  # If values of x > 5 then give x, else x*2 i.e values of [0,5] given [2,10] and others are left unchanged \n",
    "#i.e [0, 2, 4, 6, 8, 10, 6, 7, 8, 9], \n",
    "x = torch.tensor([0, 0, 1, 2, 2, 3, 4]).unique()  # x = [0, 1, 2, 3, 4]\n",
    "y = torch.tensor([[1,2,3],[4,5,6],[7,8,9]])\n",
    "print(y.ndimension())  # The number of dimensions, in this case its 2\n",
    "x = torch.arange(10)\n",
    "print(x.numel())  # The number of elements in x (in this case it's trivial because it's just a vector)\n",
    "\n"
   ]
  },
  {
   "source": [
    "Tensor Reshaping"
   ],
   "cell_type": "markdown",
   "metadata": {}
  },
  {
   "cell_type": "code",
   "execution_count": 7,
   "metadata": {},
   "outputs": [
    {
     "output_type": "stream",
     "name": "stdout",
     "text": [
      "tensor([[0, 1, 2],\n        [3, 4, 5],\n        [6, 7, 8]])\ntensor([[0, 1, 2],\n        [3, 4, 5],\n        [6, 7, 8]])\ntensor([[0, 3, 6],\n        [1, 4, 7],\n        [2, 5, 8]])\n"
     ]
    }
   ],
   "source": [
    "x = torch.arange(9)\n",
    "\n",
    "# Let's say we want to reshape it to be 3x3\n",
    "x_3x3 = x.view(3, 3)\n",
    "print(x_3x3)\n",
    "x_3x3 = x.reshape(3, 3)\n",
    "print(x_3x3)\n",
    "#.view() and .reshape() are similar and both can be used to reshape tensors but view acts on contiguous block of data which is usually the case whereas reshape just copies the data and so it will work but slows down a bit due to extra copying.We may find some difference when we deal on parallel processing using GPU\n",
    "\n",
    "y = x_3x3.t() #.t() is used for transpose\n",
    "print(y)\n"
   ]
  },
  {
   "cell_type": "code",
   "execution_count": null,
   "metadata": {},
   "outputs": [],
   "source": [
    "Note that when we did the transpose for a 3*3 matrix we are indirectly jumping three spots before we print the numbers."
   ]
  },
  {
   "cell_type": "code",
   "execution_count": 8,
   "metadata": {},
   "outputs": [
    {
     "output_type": "error",
     "ename": "RuntimeError",
     "evalue": "view size is not compatible with input tensor's size and stride (at least one dimension spans across two contiguous subspaces). Use .reshape(...) instead.",
     "traceback": [
      "\u001b[0;31m---------------------------------------------------------------------------\u001b[0m",
      "\u001b[0;31mRuntimeError\u001b[0m                              Traceback (most recent call last)",
      "\u001b[0;32m<ipython-input-8-7d231e9e947f>\u001b[0m in \u001b[0;36m<module>\u001b[0;34m\u001b[0m\n\u001b[0;32m----> 1\u001b[0;31m \u001b[0mprint\u001b[0m\u001b[0;34m(\u001b[0m\u001b[0my\u001b[0m\u001b[0;34m.\u001b[0m\u001b[0mview\u001b[0m\u001b[0;34m(\u001b[0m\u001b[0;36m9\u001b[0m\u001b[0;34m)\u001b[0m\u001b[0;34m)\u001b[0m\u001b[0;34m\u001b[0m\u001b[0;34m\u001b[0m\u001b[0m\n\u001b[0m",
      "\u001b[0;31mRuntimeError\u001b[0m: view size is not compatible with input tensor's size and stride (at least one dimension spans across two contiguous subspaces). Use .reshape(...) instead."
     ]
    }
   ],
   "source": [
    "print(y.view(9))"
   ]
  },
  {
   "source": [
    "As we can see,we get an error stating that view size is not compatible and to use reshape fn."
   ],
   "cell_type": "markdown",
   "metadata": {}
  },
  {
   "cell_type": "code",
   "execution_count": 9,
   "metadata": {},
   "outputs": [
    {
     "output_type": "stream",
     "name": "stdout",
     "text": [
      "tensor([0, 3, 6, 1, 4, 7, 2, 5, 8])\n"
     ]
    }
   ],
   "source": [
    "print(y.reshape(9)) #Now this works fine.This can be attributed to the fact that our view doesn't copy the whole tensor so its unable to work on non-contiguous memory locations.reshape on the other hand was able to do this fine."
   ]
  },
  {
   "cell_type": "code",
   "execution_count": 10,
   "metadata": {},
   "outputs": [
    {
     "output_type": "stream",
     "name": "stdout",
     "text": [
      "False\n"
     ]
    }
   ],
   "source": [
    "print(y.is_contiguous()) #Since our y is not contiguous it returned false."
   ]
  },
  {
   "cell_type": "code",
   "execution_count": 11,
   "metadata": {},
   "outputs": [
    {
     "output_type": "stream",
     "name": "stdout",
     "text": [
      "tensor([0, 3, 6, 1, 4, 7, 2, 5, 8])\n"
     ]
    }
   ],
   "source": [
    "print(y.contiguous().view(9))  # Calling .contiguous() before view and it works"
   ]
  },
  {
   "cell_type": "code",
   "execution_count": 12,
   "metadata": {},
   "outputs": [
    {
     "output_type": "stream",
     "name": "stdout",
     "text": [
      "torch.Size([4, 5])\ntorch.Size([2, 10])\n"
     ]
    }
   ],
   "source": [
    "# Moving on to another operation, let's say we want to add two tensors dimensions togethor\n",
    "x1 = torch.rand(2, 5)\n",
    "x2 = torch.rand(2, 5)\n",
    "print(torch.cat((x1, x2), dim=0).shape)  # We are concatenating along dimension:0(i.e along rows),so Shape: (2+2)x5 = 4x5\n",
    "print(torch.cat((x1, x2), dim=1).shape)  # We are concatenating along dimension:1(i.e along columns),so Shape: 2x(5+5) = 2x10"
   ]
  },
  {
   "cell_type": "code",
   "execution_count": 13,
   "metadata": {},
   "outputs": [
    {
     "output_type": "stream",
     "name": "stdout",
     "text": [
      "tensor([0.8809, 0.6489, 0.2104, 0.7858, 0.3837, 0.5788, 0.4812, 0.4150, 0.0668,\n        0.2525])\ntensor([[0.2279, 0.0743, 0.2565, 0.5150, 0.9447, 0.2360, 0.0143, 0.5955, 0.0713,\n         0.8698],\n        [0.3947, 0.1064, 0.4843, 0.3005, 0.9483, 0.0177, 0.4836, 0.6562, 0.9366,\n         0.7811],\n        [0.6170, 0.8206, 0.4830, 0.6206, 0.3691, 0.0333, 0.2067, 0.2904, 0.0341,\n         0.9367],\n        [0.5740, 0.6102, 0.3692, 0.9628, 0.9683, 0.7497, 0.4691, 0.4902, 0.0681,\n         0.8908],\n        [0.5045, 0.4768, 0.3775, 0.4484, 0.1774, 0.5315, 0.0501, 0.5063, 0.3207,\n         0.5223],\n        [0.1407, 0.6007, 0.2579, 0.0281, 0.9029, 0.9788, 0.3740, 0.5434, 0.9750,\n         0.0315],\n        [0.4572, 0.6740, 0.1211, 0.2490, 0.0948, 0.4227, 0.4666, 0.0139, 0.0512,\n         0.6678],\n        [0.8679, 0.6320, 0.2281, 0.2132, 0.8399, 0.3568, 0.2513, 0.9805, 0.0980,\n         0.0162],\n        [0.4636, 0.4058, 0.8052, 0.6095, 0.5273, 0.4704, 0.4250, 0.3084, 0.1446,\n         0.0507],\n        [0.9820, 0.9181, 0.4039, 0.1889, 0.2453, 0.0144, 0.0319, 0.3667, 0.7101,\n         0.2893],\n        [0.2646, 0.3144, 0.3320, 0.7714, 0.0705, 0.1758, 0.2789, 0.5133, 0.7528,\n         0.2650],\n        [0.6175, 0.3879, 0.5397, 0.1638, 0.4906, 0.7789, 0.4845, 0.2939, 0.0752,\n         0.5272],\n        [0.2185, 0.9603, 0.2949, 0.9548, 0.5297, 0.8937, 0.4798, 0.4733, 0.1824,\n         0.8690],\n        [0.2488, 0.3074, 0.4481, 0.0378, 0.4127, 0.9563, 0.0200, 0.5497, 0.8852,\n         0.9803],\n        [0.7521, 0.4100, 0.2516, 0.9988, 0.3240, 0.3153, 0.8180, 0.1197, 0.5691,\n         0.4546],\n        [0.6886, 0.3872, 0.8612, 0.3892, 0.5999, 0.8355, 0.4424, 0.3292, 0.5193,\n         0.4464],\n        [0.3421, 0.0892, 0.1621, 0.7861, 0.7524, 0.0662, 0.8828, 0.4293, 0.1979,\n         0.1608],\n        [0.1236, 0.3125, 0.2958, 0.6067, 0.6359, 0.2906, 0.1862, 0.4590, 0.5102,\n         0.6540],\n        [0.9541, 0.8201, 0.2537, 0.0506, 0.3845, 0.9843, 0.0219, 0.3871, 0.8528,\n         0.4578],\n        [0.6821, 0.4191, 0.1634, 0.8753, 0.1630, 0.4078, 0.1682, 0.3188, 0.0393,\n         0.0375],\n        [0.1489, 0.3072, 0.2796, 0.1313, 0.4383, 0.3751, 0.9786, 0.0223, 0.8212,\n         0.5137],\n        [0.4200, 0.8851, 0.8659, 0.1957, 0.6460, 0.7025, 0.9281, 0.1590, 0.0616,\n         0.2729],\n        [0.3632, 0.5154, 0.4449, 0.7576, 0.5725, 0.8220, 0.9079, 0.5084, 0.1919,\n         0.3069],\n        [0.6374, 0.8652, 0.8136, 0.9789, 0.2434, 0.6446, 0.6121, 0.0231, 0.2138,\n         0.9068],\n        [0.9149, 0.4618, 0.6804, 0.7156, 0.3857, 0.9756, 0.3989, 0.4523, 0.8171,\n         0.1028],\n        [0.8238, 0.6525, 0.5924, 0.2589, 0.5744, 0.0502, 0.8195, 0.3108, 0.7512,\n         0.8308],\n        [0.9131, 0.8006, 0.7643, 0.9313, 0.5631, 0.1010, 0.0709, 0.4205, 0.6000,\n         0.5255],\n        [0.4161, 0.6317, 0.9210, 0.5825, 0.4682, 0.2906, 0.5909, 0.0867, 0.9665,\n         0.4778],\n        [0.8986, 0.0823, 0.7355, 0.0240, 0.8421, 0.7895, 0.8472, 0.0212, 0.5856,\n         0.6468],\n        [0.1244, 0.4968, 0.2316, 0.0212, 0.1857, 0.2128, 0.7829, 0.9038, 0.4652,\n         0.8178],\n        [0.5700, 0.8969, 0.5185, 0.0350, 0.0140, 0.3492, 0.3178, 0.2194, 0.8381,\n         0.5182],\n        [0.8231, 0.6508, 0.9638, 0.9569, 0.9146, 0.5550, 0.0976, 0.9887, 0.4789,\n         0.1105],\n        [0.4111, 0.3279, 0.3088, 0.6212, 0.7233, 0.5574, 0.4731, 0.5873, 0.5477,\n         0.4608],\n        [0.8066, 0.4896, 0.2213, 0.8428, 0.1997, 0.9396, 0.1376, 0.2423, 0.9007,\n         0.3521],\n        [0.1032, 0.3594, 0.2731, 0.9028, 0.6281, 0.4263, 0.2997, 0.0229, 0.9917,\n         0.7230],\n        [0.2901, 0.4117, 0.6185, 0.7175, 0.4269, 0.7436, 0.0178, 0.6061, 0.5297,\n         0.0781],\n        [0.4785, 0.7245, 0.1109, 0.6611, 0.6848, 0.4202, 0.6340, 0.9176, 0.8209,\n         0.5152],\n        [0.5737, 0.5624, 0.4702, 0.5307, 0.1039, 0.0199, 0.7514, 0.2102, 0.6602,\n         0.6444],\n        [0.8007, 0.6480, 0.9034, 0.9569, 0.1128, 0.4742, 0.7505, 0.3655, 0.4760,\n         0.0945],\n        [0.0394, 0.0591, 0.8563, 0.3779, 0.6605, 0.7020, 0.0274, 0.3034, 0.3016,\n         0.5878],\n        [0.0767, 0.8087, 0.8205, 0.2423, 0.1163, 0.6272, 0.8320, 0.9243, 0.5314,\n         0.9886],\n        [0.7598, 0.0093, 0.4841, 0.0121, 0.6482, 0.7576, 0.2627, 0.7559, 0.4570,\n         0.4440],\n        [0.5330, 0.5106, 0.7435, 0.3949, 0.1769, 0.8879, 0.2738, 0.3157, 0.9992,\n         0.9354],\n        [0.3248, 0.8188, 0.4012, 0.9312, 0.6876, 0.5614, 0.7262, 0.8547, 0.6094,\n         0.7076],\n        [0.3056, 0.1853, 0.1736, 0.6701, 0.0408, 0.8843, 0.7824, 0.3298, 0.3359,\n         0.4201],\n        [0.9081, 0.7901, 0.3785, 0.7729, 0.1264, 0.8580, 0.9110, 0.9017, 0.8340,\n         0.7836],\n        [0.8500, 0.5172, 0.6856, 0.4785, 0.6823, 0.0689, 0.0685, 0.5948, 0.0674,\n         0.0979],\n        [0.8952, 0.0838, 0.1067, 0.5949, 0.4625, 0.1496, 0.0571, 0.3494, 0.4184,\n         0.5471],\n        [0.2755, 0.3735, 0.3881, 0.9545, 0.2282, 0.5693, 0.4811, 0.2238, 0.9723,\n         0.8149],\n        [0.3024, 0.1992, 0.8648, 0.2158, 0.2758, 0.7006, 0.4468, 0.9998, 0.4497,\n         0.8920],\n        [0.8873, 0.6192, 0.4504, 0.5902, 0.3649, 0.4191, 0.8095, 0.2649, 0.8314,\n         0.5163],\n        [0.6587, 0.7278, 0.4902, 0.4797, 0.3569, 0.1198, 0.7329, 0.4043, 0.4727,\n         0.7133],\n        [0.1282, 0.0608, 0.9719, 0.7635, 0.8266, 0.2723, 0.5861, 0.9441, 0.3498,\n         0.4826],\n        [0.9383, 0.1586, 0.6559, 0.9915, 0.7033, 0.1132, 0.2838, 0.6488, 0.5629,\n         0.4233],\n        [0.9276, 0.4095, 0.4879, 0.7735, 0.9076, 0.2394, 0.1476, 0.1979, 0.6951,\n         0.6731],\n        [0.6627, 0.4504, 0.6363, 0.0407, 0.9766, 0.1075, 0.2442, 0.3503, 0.1661,\n         0.7839],\n        [0.5445, 0.3912, 0.4067, 0.6902, 0.3583, 0.1218, 0.9760, 0.4957, 0.7476,\n         0.6335],\n        [0.6200, 0.3222, 0.4401, 0.9169, 0.8742, 0.8101, 0.2362, 0.9238, 0.3253,\n         0.6946],\n        [0.7574, 0.2580, 0.0192, 0.8584, 0.9759, 0.0883, 0.5978, 0.7211, 0.3267,\n         0.9195],\n        [0.8593, 0.5842, 0.4864, 0.5410, 0.4840, 0.2934, 0.3949, 0.4929, 0.2442,\n         0.4541],\n        [0.2617, 0.3921, 0.9577, 0.9386, 0.8210, 0.9214, 0.4689, 0.3033, 0.1297,\n         0.5458],\n        [0.7433, 0.4083, 0.9764, 0.7271, 0.8212, 0.2198, 0.4833, 0.5285, 0.1798,\n         0.5209],\n        [0.5256, 0.6862, 0.9115, 0.0925, 0.1300, 0.5707, 0.2816, 0.1882, 0.6223,\n         0.1498],\n        [0.1932, 0.0486, 0.3935, 0.9230, 0.4208, 0.7980, 0.7552, 0.5400, 0.0860,\n         0.2050]])\n"
     ]
    }
   ],
   "source": [
    "#-1 is used to take all the elements available in its scope,so lets say you have 3 dimensions and you used -1 in the second dimension, then all the elements in first and second dimensions would be flattended.This logic applies to both Python and ofcourse Pytorch \n",
    "z = x1.view(-1)  \n",
    "print(z)\n",
    "\n",
    "# If we instead have an additional dimension and we wish to keep those as is we can do:\n",
    "batch = 64\n",
    "x = torch.rand((batch, 2, 5))\n",
    "z = x.view(batch, -1)  # And z.shape would be 64x10, this is very useful stuff and is used all the time\n",
    "print(z)"
   ]
  },
  {
   "cell_type": "code",
   "execution_count": 14,
   "metadata": {},
   "outputs": [
    {
     "output_type": "stream",
     "name": "stdout",
     "text": [
      "tensor([[[0.2279, 0.0743, 0.2565, 0.5150, 0.9447],\n         [0.2360, 0.0143, 0.5955, 0.0713, 0.8698]],\n\n        [[0.3947, 0.1064, 0.4843, 0.3005, 0.9483],\n         [0.0177, 0.4836, 0.6562, 0.9366, 0.7811]],\n\n        [[0.6170, 0.8206, 0.4830, 0.6206, 0.3691],\n         [0.0333, 0.2067, 0.2904, 0.0341, 0.9367]],\n\n        [[0.5740, 0.6102, 0.3692, 0.9628, 0.9683],\n         [0.7497, 0.4691, 0.4902, 0.0681, 0.8908]],\n\n        [[0.5045, 0.4768, 0.3775, 0.4484, 0.1774],\n         [0.5315, 0.0501, 0.5063, 0.3207, 0.5223]],\n\n        [[0.1407, 0.6007, 0.2579, 0.0281, 0.9029],\n         [0.9788, 0.3740, 0.5434, 0.9750, 0.0315]],\n\n        [[0.4572, 0.6740, 0.1211, 0.2490, 0.0948],\n         [0.4227, 0.4666, 0.0139, 0.0512, 0.6678]],\n\n        [[0.8679, 0.6320, 0.2281, 0.2132, 0.8399],\n         [0.3568, 0.2513, 0.9805, 0.0980, 0.0162]],\n\n        [[0.4636, 0.4058, 0.8052, 0.6095, 0.5273],\n         [0.4704, 0.4250, 0.3084, 0.1446, 0.0507]],\n\n        [[0.9820, 0.9181, 0.4039, 0.1889, 0.2453],\n         [0.0144, 0.0319, 0.3667, 0.7101, 0.2893]],\n\n        [[0.2646, 0.3144, 0.3320, 0.7714, 0.0705],\n         [0.1758, 0.2789, 0.5133, 0.7528, 0.2650]],\n\n        [[0.6175, 0.3879, 0.5397, 0.1638, 0.4906],\n         [0.7789, 0.4845, 0.2939, 0.0752, 0.5272]],\n\n        [[0.2185, 0.9603, 0.2949, 0.9548, 0.5297],\n         [0.8937, 0.4798, 0.4733, 0.1824, 0.8690]],\n\n        [[0.2488, 0.3074, 0.4481, 0.0378, 0.4127],\n         [0.9563, 0.0200, 0.5497, 0.8852, 0.9803]],\n\n        [[0.7521, 0.4100, 0.2516, 0.9988, 0.3240],\n         [0.3153, 0.8180, 0.1197, 0.5691, 0.4546]],\n\n        [[0.6886, 0.3872, 0.8612, 0.3892, 0.5999],\n         [0.8355, 0.4424, 0.3292, 0.5193, 0.4464]],\n\n        [[0.3421, 0.0892, 0.1621, 0.7861, 0.7524],\n         [0.0662, 0.8828, 0.4293, 0.1979, 0.1608]],\n\n        [[0.1236, 0.3125, 0.2958, 0.6067, 0.6359],\n         [0.2906, 0.1862, 0.4590, 0.5102, 0.6540]],\n\n        [[0.9541, 0.8201, 0.2537, 0.0506, 0.3845],\n         [0.9843, 0.0219, 0.3871, 0.8528, 0.4578]],\n\n        [[0.6821, 0.4191, 0.1634, 0.8753, 0.1630],\n         [0.4078, 0.1682, 0.3188, 0.0393, 0.0375]],\n\n        [[0.1489, 0.3072, 0.2796, 0.1313, 0.4383],\n         [0.3751, 0.9786, 0.0223, 0.8212, 0.5137]],\n\n        [[0.4200, 0.8851, 0.8659, 0.1957, 0.6460],\n         [0.7025, 0.9281, 0.1590, 0.0616, 0.2729]],\n\n        [[0.3632, 0.5154, 0.4449, 0.7576, 0.5725],\n         [0.8220, 0.9079, 0.5084, 0.1919, 0.3069]],\n\n        [[0.6374, 0.8652, 0.8136, 0.9789, 0.2434],\n         [0.6446, 0.6121, 0.0231, 0.2138, 0.9068]],\n\n        [[0.9149, 0.4618, 0.6804, 0.7156, 0.3857],\n         [0.9756, 0.3989, 0.4523, 0.8171, 0.1028]],\n\n        [[0.8238, 0.6525, 0.5924, 0.2589, 0.5744],\n         [0.0502, 0.8195, 0.3108, 0.7512, 0.8308]],\n\n        [[0.9131, 0.8006, 0.7643, 0.9313, 0.5631],\n         [0.1010, 0.0709, 0.4205, 0.6000, 0.5255]],\n\n        [[0.4161, 0.6317, 0.9210, 0.5825, 0.4682],\n         [0.2906, 0.5909, 0.0867, 0.9665, 0.4778]],\n\n        [[0.8986, 0.0823, 0.7355, 0.0240, 0.8421],\n         [0.7895, 0.8472, 0.0212, 0.5856, 0.6468]],\n\n        [[0.1244, 0.4968, 0.2316, 0.0212, 0.1857],\n         [0.2128, 0.7829, 0.9038, 0.4652, 0.8178]],\n\n        [[0.5700, 0.8969, 0.5185, 0.0350, 0.0140],\n         [0.3492, 0.3178, 0.2194, 0.8381, 0.5182]],\n\n        [[0.8231, 0.6508, 0.9638, 0.9569, 0.9146],\n         [0.5550, 0.0976, 0.9887, 0.4789, 0.1105]],\n\n        [[0.4111, 0.3279, 0.3088, 0.6212, 0.7233],\n         [0.5574, 0.4731, 0.5873, 0.5477, 0.4608]],\n\n        [[0.8066, 0.4896, 0.2213, 0.8428, 0.1997],\n         [0.9396, 0.1376, 0.2423, 0.9007, 0.3521]],\n\n        [[0.1032, 0.3594, 0.2731, 0.9028, 0.6281],\n         [0.4263, 0.2997, 0.0229, 0.9917, 0.7230]],\n\n        [[0.2901, 0.4117, 0.6185, 0.7175, 0.4269],\n         [0.7436, 0.0178, 0.6061, 0.5297, 0.0781]],\n\n        [[0.4785, 0.7245, 0.1109, 0.6611, 0.6848],\n         [0.4202, 0.6340, 0.9176, 0.8209, 0.5152]],\n\n        [[0.5737, 0.5624, 0.4702, 0.5307, 0.1039],\n         [0.0199, 0.7514, 0.2102, 0.6602, 0.6444]],\n\n        [[0.8007, 0.6480, 0.9034, 0.9569, 0.1128],\n         [0.4742, 0.7505, 0.3655, 0.4760, 0.0945]],\n\n        [[0.0394, 0.0591, 0.8563, 0.3779, 0.6605],\n         [0.7020, 0.0274, 0.3034, 0.3016, 0.5878]],\n\n        [[0.0767, 0.8087, 0.8205, 0.2423, 0.1163],\n         [0.6272, 0.8320, 0.9243, 0.5314, 0.9886]],\n\n        [[0.7598, 0.0093, 0.4841, 0.0121, 0.6482],\n         [0.7576, 0.2627, 0.7559, 0.4570, 0.4440]],\n\n        [[0.5330, 0.5106, 0.7435, 0.3949, 0.1769],\n         [0.8879, 0.2738, 0.3157, 0.9992, 0.9354]],\n\n        [[0.3248, 0.8188, 0.4012, 0.9312, 0.6876],\n         [0.5614, 0.7262, 0.8547, 0.6094, 0.7076]],\n\n        [[0.3056, 0.1853, 0.1736, 0.6701, 0.0408],\n         [0.8843, 0.7824, 0.3298, 0.3359, 0.4201]],\n\n        [[0.9081, 0.7901, 0.3785, 0.7729, 0.1264],\n         [0.8580, 0.9110, 0.9017, 0.8340, 0.7836]],\n\n        [[0.8500, 0.5172, 0.6856, 0.4785, 0.6823],\n         [0.0689, 0.0685, 0.5948, 0.0674, 0.0979]],\n\n        [[0.8952, 0.0838, 0.1067, 0.5949, 0.4625],\n         [0.1496, 0.0571, 0.3494, 0.4184, 0.5471]],\n\n        [[0.2755, 0.3735, 0.3881, 0.9545, 0.2282],\n         [0.5693, 0.4811, 0.2238, 0.9723, 0.8149]],\n\n        [[0.3024, 0.1992, 0.8648, 0.2158, 0.2758],\n         [0.7006, 0.4468, 0.9998, 0.4497, 0.8920]],\n\n        [[0.8873, 0.6192, 0.4504, 0.5902, 0.3649],\n         [0.4191, 0.8095, 0.2649, 0.8314, 0.5163]],\n\n        [[0.6587, 0.7278, 0.4902, 0.4797, 0.3569],\n         [0.1198, 0.7329, 0.4043, 0.4727, 0.7133]],\n\n        [[0.1282, 0.0608, 0.9719, 0.7635, 0.8266],\n         [0.2723, 0.5861, 0.9441, 0.3498, 0.4826]],\n\n        [[0.9383, 0.1586, 0.6559, 0.9915, 0.7033],\n         [0.1132, 0.2838, 0.6488, 0.5629, 0.4233]],\n\n        [[0.9276, 0.4095, 0.4879, 0.7735, 0.9076],\n         [0.2394, 0.1476, 0.1979, 0.6951, 0.6731]],\n\n        [[0.6627, 0.4504, 0.6363, 0.0407, 0.9766],\n         [0.1075, 0.2442, 0.3503, 0.1661, 0.7839]],\n\n        [[0.5445, 0.3912, 0.4067, 0.6902, 0.3583],\n         [0.1218, 0.9760, 0.4957, 0.7476, 0.6335]],\n\n        [[0.6200, 0.3222, 0.4401, 0.9169, 0.8742],\n         [0.8101, 0.2362, 0.9238, 0.3253, 0.6946]],\n\n        [[0.7574, 0.2580, 0.0192, 0.8584, 0.9759],\n         [0.0883, 0.5978, 0.7211, 0.3267, 0.9195]],\n\n        [[0.8593, 0.5842, 0.4864, 0.5410, 0.4840],\n         [0.2934, 0.3949, 0.4929, 0.2442, 0.4541]],\n\n        [[0.2617, 0.3921, 0.9577, 0.9386, 0.8210],\n         [0.9214, 0.4689, 0.3033, 0.1297, 0.5458]],\n\n        [[0.7433, 0.4083, 0.9764, 0.7271, 0.8212],\n         [0.2198, 0.4833, 0.5285, 0.1798, 0.5209]],\n\n        [[0.5256, 0.6862, 0.9115, 0.0925, 0.1300],\n         [0.5707, 0.2816, 0.1882, 0.6223, 0.1498]],\n\n        [[0.1932, 0.0486, 0.3935, 0.9230, 0.4208],\n         [0.7980, 0.7552, 0.5400, 0.0860, 0.2050]]])\ntensor([[[0.2279, 0.2360],\n         [0.0743, 0.0143],\n         [0.2565, 0.5955],\n         [0.5150, 0.0713],\n         [0.9447, 0.8698]],\n\n        [[0.3947, 0.0177],\n         [0.1064, 0.4836],\n         [0.4843, 0.6562],\n         [0.3005, 0.9366],\n         [0.9483, 0.7811]],\n\n        [[0.6170, 0.0333],\n         [0.8206, 0.2067],\n         [0.4830, 0.2904],\n         [0.6206, 0.0341],\n         [0.3691, 0.9367]],\n\n        [[0.5740, 0.7497],\n         [0.6102, 0.4691],\n         [0.3692, 0.4902],\n         [0.9628, 0.0681],\n         [0.9683, 0.8908]],\n\n        [[0.5045, 0.5315],\n         [0.4768, 0.0501],\n         [0.3775, 0.5063],\n         [0.4484, 0.3207],\n         [0.1774, 0.5223]],\n\n        [[0.1407, 0.9788],\n         [0.6007, 0.3740],\n         [0.2579, 0.5434],\n         [0.0281, 0.9750],\n         [0.9029, 0.0315]],\n\n        [[0.4572, 0.4227],\n         [0.6740, 0.4666],\n         [0.1211, 0.0139],\n         [0.2490, 0.0512],\n         [0.0948, 0.6678]],\n\n        [[0.8679, 0.3568],\n         [0.6320, 0.2513],\n         [0.2281, 0.9805],\n         [0.2132, 0.0980],\n         [0.8399, 0.0162]],\n\n        [[0.4636, 0.4704],\n         [0.4058, 0.4250],\n         [0.8052, 0.3084],\n         [0.6095, 0.1446],\n         [0.5273, 0.0507]],\n\n        [[0.9820, 0.0144],\n         [0.9181, 0.0319],\n         [0.4039, 0.3667],\n         [0.1889, 0.7101],\n         [0.2453, 0.2893]],\n\n        [[0.2646, 0.1758],\n         [0.3144, 0.2789],\n         [0.3320, 0.5133],\n         [0.7714, 0.7528],\n         [0.0705, 0.2650]],\n\n        [[0.6175, 0.7789],\n         [0.3879, 0.4845],\n         [0.5397, 0.2939],\n         [0.1638, 0.0752],\n         [0.4906, 0.5272]],\n\n        [[0.2185, 0.8937],\n         [0.9603, 0.4798],\n         [0.2949, 0.4733],\n         [0.9548, 0.1824],\n         [0.5297, 0.8690]],\n\n        [[0.2488, 0.9563],\n         [0.3074, 0.0200],\n         [0.4481, 0.5497],\n         [0.0378, 0.8852],\n         [0.4127, 0.9803]],\n\n        [[0.7521, 0.3153],\n         [0.4100, 0.8180],\n         [0.2516, 0.1197],\n         [0.9988, 0.5691],\n         [0.3240, 0.4546]],\n\n        [[0.6886, 0.8355],\n         [0.3872, 0.4424],\n         [0.8612, 0.3292],\n         [0.3892, 0.5193],\n         [0.5999, 0.4464]],\n\n        [[0.3421, 0.0662],\n         [0.0892, 0.8828],\n         [0.1621, 0.4293],\n         [0.7861, 0.1979],\n         [0.7524, 0.1608]],\n\n        [[0.1236, 0.2906],\n         [0.3125, 0.1862],\n         [0.2958, 0.4590],\n         [0.6067, 0.5102],\n         [0.6359, 0.6540]],\n\n        [[0.9541, 0.9843],\n         [0.8201, 0.0219],\n         [0.2537, 0.3871],\n         [0.0506, 0.8528],\n         [0.3845, 0.4578]],\n\n        [[0.6821, 0.4078],\n         [0.4191, 0.1682],\n         [0.1634, 0.3188],\n         [0.8753, 0.0393],\n         [0.1630, 0.0375]],\n\n        [[0.1489, 0.3751],\n         [0.3072, 0.9786],\n         [0.2796, 0.0223],\n         [0.1313, 0.8212],\n         [0.4383, 0.5137]],\n\n        [[0.4200, 0.7025],\n         [0.8851, 0.9281],\n         [0.8659, 0.1590],\n         [0.1957, 0.0616],\n         [0.6460, 0.2729]],\n\n        [[0.3632, 0.8220],\n         [0.5154, 0.9079],\n         [0.4449, 0.5084],\n         [0.7576, 0.1919],\n         [0.5725, 0.3069]],\n\n        [[0.6374, 0.6446],\n         [0.8652, 0.6121],\n         [0.8136, 0.0231],\n         [0.9789, 0.2138],\n         [0.2434, 0.9068]],\n\n        [[0.9149, 0.9756],\n         [0.4618, 0.3989],\n         [0.6804, 0.4523],\n         [0.7156, 0.8171],\n         [0.3857, 0.1028]],\n\n        [[0.8238, 0.0502],\n         [0.6525, 0.8195],\n         [0.5924, 0.3108],\n         [0.2589, 0.7512],\n         [0.5744, 0.8308]],\n\n        [[0.9131, 0.1010],\n         [0.8006, 0.0709],\n         [0.7643, 0.4205],\n         [0.9313, 0.6000],\n         [0.5631, 0.5255]],\n\n        [[0.4161, 0.2906],\n         [0.6317, 0.5909],\n         [0.9210, 0.0867],\n         [0.5825, 0.9665],\n         [0.4682, 0.4778]],\n\n        [[0.8986, 0.7895],\n         [0.0823, 0.8472],\n         [0.7355, 0.0212],\n         [0.0240, 0.5856],\n         [0.8421, 0.6468]],\n\n        [[0.1244, 0.2128],\n         [0.4968, 0.7829],\n         [0.2316, 0.9038],\n         [0.0212, 0.4652],\n         [0.1857, 0.8178]],\n\n        [[0.5700, 0.3492],\n         [0.8969, 0.3178],\n         [0.5185, 0.2194],\n         [0.0350, 0.8381],\n         [0.0140, 0.5182]],\n\n        [[0.8231, 0.5550],\n         [0.6508, 0.0976],\n         [0.9638, 0.9887],\n         [0.9569, 0.4789],\n         [0.9146, 0.1105]],\n\n        [[0.4111, 0.5574],\n         [0.3279, 0.4731],\n         [0.3088, 0.5873],\n         [0.6212, 0.5477],\n         [0.7233, 0.4608]],\n\n        [[0.8066, 0.9396],\n         [0.4896, 0.1376],\n         [0.2213, 0.2423],\n         [0.8428, 0.9007],\n         [0.1997, 0.3521]],\n\n        [[0.1032, 0.4263],\n         [0.3594, 0.2997],\n         [0.2731, 0.0229],\n         [0.9028, 0.9917],\n         [0.6281, 0.7230]],\n\n        [[0.2901, 0.7436],\n         [0.4117, 0.0178],\n         [0.6185, 0.6061],\n         [0.7175, 0.5297],\n         [0.4269, 0.0781]],\n\n        [[0.4785, 0.4202],\n         [0.7245, 0.6340],\n         [0.1109, 0.9176],\n         [0.6611, 0.8209],\n         [0.6848, 0.5152]],\n\n        [[0.5737, 0.0199],\n         [0.5624, 0.7514],\n         [0.4702, 0.2102],\n         [0.5307, 0.6602],\n         [0.1039, 0.6444]],\n\n        [[0.8007, 0.4742],\n         [0.6480, 0.7505],\n         [0.9034, 0.3655],\n         [0.9569, 0.4760],\n         [0.1128, 0.0945]],\n\n        [[0.0394, 0.7020],\n         [0.0591, 0.0274],\n         [0.8563, 0.3034],\n         [0.3779, 0.3016],\n         [0.6605, 0.5878]],\n\n        [[0.0767, 0.6272],\n         [0.8087, 0.8320],\n         [0.8205, 0.9243],\n         [0.2423, 0.5314],\n         [0.1163, 0.9886]],\n\n        [[0.7598, 0.7576],\n         [0.0093, 0.2627],\n         [0.4841, 0.7559],\n         [0.0121, 0.4570],\n         [0.6482, 0.4440]],\n\n        [[0.5330, 0.8879],\n         [0.5106, 0.2738],\n         [0.7435, 0.3157],\n         [0.3949, 0.9992],\n         [0.1769, 0.9354]],\n\n        [[0.3248, 0.5614],\n         [0.8188, 0.7262],\n         [0.4012, 0.8547],\n         [0.9312, 0.6094],\n         [0.6876, 0.7076]],\n\n        [[0.3056, 0.8843],\n         [0.1853, 0.7824],\n         [0.1736, 0.3298],\n         [0.6701, 0.3359],\n         [0.0408, 0.4201]],\n\n        [[0.9081, 0.8580],\n         [0.7901, 0.9110],\n         [0.3785, 0.9017],\n         [0.7729, 0.8340],\n         [0.1264, 0.7836]],\n\n        [[0.8500, 0.0689],\n         [0.5172, 0.0685],\n         [0.6856, 0.5948],\n         [0.4785, 0.0674],\n         [0.6823, 0.0979]],\n\n        [[0.8952, 0.1496],\n         [0.0838, 0.0571],\n         [0.1067, 0.3494],\n         [0.5949, 0.4184],\n         [0.4625, 0.5471]],\n\n        [[0.2755, 0.5693],\n         [0.3735, 0.4811],\n         [0.3881, 0.2238],\n         [0.9545, 0.9723],\n         [0.2282, 0.8149]],\n\n        [[0.3024, 0.7006],\n         [0.1992, 0.4468],\n         [0.8648, 0.9998],\n         [0.2158, 0.4497],\n         [0.2758, 0.8920]],\n\n        [[0.8873, 0.4191],\n         [0.6192, 0.8095],\n         [0.4504, 0.2649],\n         [0.5902, 0.8314],\n         [0.3649, 0.5163]],\n\n        [[0.6587, 0.1198],\n         [0.7278, 0.7329],\n         [0.4902, 0.4043],\n         [0.4797, 0.4727],\n         [0.3569, 0.7133]],\n\n        [[0.1282, 0.2723],\n         [0.0608, 0.5861],\n         [0.9719, 0.9441],\n         [0.7635, 0.3498],\n         [0.8266, 0.4826]],\n\n        [[0.9383, 0.1132],\n         [0.1586, 0.2838],\n         [0.6559, 0.6488],\n         [0.9915, 0.5629],\n         [0.7033, 0.4233]],\n\n        [[0.9276, 0.2394],\n         [0.4095, 0.1476],\n         [0.4879, 0.1979],\n         [0.7735, 0.6951],\n         [0.9076, 0.6731]],\n\n        [[0.6627, 0.1075],\n         [0.4504, 0.2442],\n         [0.6363, 0.3503],\n         [0.0407, 0.1661],\n         [0.9766, 0.7839]],\n\n        [[0.5445, 0.1218],\n         [0.3912, 0.9760],\n         [0.4067, 0.4957],\n         [0.6902, 0.7476],\n         [0.3583, 0.6335]],\n\n        [[0.6200, 0.8101],\n         [0.3222, 0.2362],\n         [0.4401, 0.9238],\n         [0.9169, 0.3253],\n         [0.8742, 0.6946]],\n\n        [[0.7574, 0.0883],\n         [0.2580, 0.5978],\n         [0.0192, 0.7211],\n         [0.8584, 0.3267],\n         [0.9759, 0.9195]],\n\n        [[0.8593, 0.2934],\n         [0.5842, 0.3949],\n         [0.4864, 0.4929],\n         [0.5410, 0.2442],\n         [0.4840, 0.4541]],\n\n        [[0.2617, 0.9214],\n         [0.3921, 0.4689],\n         [0.9577, 0.3033],\n         [0.9386, 0.1297],\n         [0.8210, 0.5458]],\n\n        [[0.7433, 0.2198],\n         [0.4083, 0.4833],\n         [0.9764, 0.5285],\n         [0.7271, 0.1798],\n         [0.8212, 0.5209]],\n\n        [[0.5256, 0.5707],\n         [0.6862, 0.2816],\n         [0.9115, 0.1882],\n         [0.0925, 0.6223],\n         [0.1300, 0.1498]],\n\n        [[0.1932, 0.7980],\n         [0.0486, 0.7552],\n         [0.3935, 0.5400],\n         [0.9230, 0.0860],\n         [0.4208, 0.2050]]])\n"
     ]
    }
   ],
   "source": [
    "# Let's say we want to switch x axis so that instead of 64x2x5 we have 64x5x2\n",
    "# I.e we want dimension 0 to stay, dimension 1 to become dimension 2, dimension 2 to become dimension 1\n",
    "print(x)\n",
    "z = x.permute(0, 2, 1)\n",
    "print(z)"
   ]
  },
  {
   "cell_type": "code",
   "execution_count": null,
   "metadata": {},
   "outputs": [],
   "source": [
    "# Splits x last dimension into chunks of 2 (since 5 is not integer div by 2) the last dimension\n",
    "# will be smaller, so it will split it into two tensors: 64x2x3 and 64x2x2\n",
    "z = torch.chunk(x, chunks=2, dim=1)\n",
    "print(z[0].shape)\n",
    "print(z[1].shape)\n",
    "\n",
    "# Let's say we want to add an additional dimension\n",
    "x = torch.arange(10)  # Shape is [10], let's say we want to add an additional so we have 1x10\n",
    "print(x.unsqueeze(0).shape)  # 1x10\n",
    "print(x.unsqueeze(1).shape)  # 10x1\n",
    "\n",
    "# Let's say we have x which is 1x1x10 and we want to remove a dim so we have 1x10\n",
    "x = torch.arange(10).unsqueeze(0).unsqueeze(1)\n",
    "\n",
    "# Perhaps unsurprisingly\n",
    "z = x.squeeze(1)  # can also do .squeeze(0) both returns 1x10\n",
    "\n"
   ]
  },
  {
   "source": [
    "Lets now analyse how to use a dataset from torch vision"
   ],
   "cell_type": "markdown",
   "metadata": {}
  },
  {
   "cell_type": "code",
   "execution_count": 13,
   "metadata": {},
   "outputs": [],
   "source": [
    "import torchvision #The torchvision package consists of popular datasets, model architectures, and common image transformations for computer vision.\n",
    "from torchvision import transforms, datasets"
   ]
  },
  {
   "cell_type": "code",
   "execution_count": 15,
   "metadata": {},
   "outputs": [
    {
     "output_type": "stream",
     "name": "stdout",
     "text": [
      "Downloading http://yann.lecun.com/exdb/mnist/train-images-idx3-ubyte.gz to /home/manju838/coding/env/pytorch_env/Datasets/MNIST/MNIST/raw/train-images-idx3-ubyte.gz\n",
      "100.1%Extracting /home/manju838/coding/env/pytorch_env/Datasets/MNIST/MNIST/raw/train-images-idx3-ubyte.gz to /home/manju838/coding/env/pytorch_env/Datasets/MNIST/MNIST/raw\n",
      "Downloading http://yann.lecun.com/exdb/mnist/train-labels-idx1-ubyte.gz to /home/manju838/coding/env/pytorch_env/Datasets/MNIST/MNIST/raw/train-labels-idx1-ubyte.gz\n",
      "113.5%Extracting /home/manju838/coding/env/pytorch_env/Datasets/MNIST/MNIST/raw/train-labels-idx1-ubyte.gz to /home/manju838/coding/env/pytorch_env/Datasets/MNIST/MNIST/raw\n",
      "Downloading http://yann.lecun.com/exdb/mnist/t10k-images-idx3-ubyte.gz to /home/manju838/coding/env/pytorch_env/Datasets/MNIST/MNIST/raw/t10k-images-idx3-ubyte.gz\n",
      "100.4%Extracting /home/manju838/coding/env/pytorch_env/Datasets/MNIST/MNIST/raw/t10k-images-idx3-ubyte.gz to /home/manju838/coding/env/pytorch_env/Datasets/MNIST/MNIST/raw\n",
      "Downloading http://yann.lecun.com/exdb/mnist/t10k-labels-idx1-ubyte.gz to /home/manju838/coding/env/pytorch_env/Datasets/MNIST/MNIST/raw/t10k-labels-idx1-ubyte.gz\n",
      "180.4%Extracting /home/manju838/coding/env/pytorch_env/Datasets/MNIST/MNIST/raw/t10k-labels-idx1-ubyte.gz to /home/manju838/coding/env/pytorch_env/Datasets/MNIST/MNIST/raw\n",
      "Processing...\n",
      "Done!\n"
     ]
    }
   ],
   "source": [
    "train = datasets.MNIST(\"/home/manju838/coding/env/pytorch_env/Datasets/MNIST\", train=True, download=True,transform=transforms.Compose([transforms.ToTensor()]))\n",
    "test = datasets.MNIST(\"/home/manju838/coding/env/pytorch_env/Datasets/MNIST\", train=False, download=True,transform=transforms.Compose([transforms.ToTensor()]))\n",
    "# Both train and test datasets are obtained from torchvision.datasets,datasets have MNIST and a few others,so we call that dataset using that particular name\n",
    "#First parameter is where to store the dataset,I stored it in Datasets/MNIST folder,if train is true then its training data or its for testing,download is set to true,these datasets are not in form of tensors so convert them into tensors.\n"
   ]
  },
  {
   "cell_type": "code",
   "execution_count": 18,
   "metadata": {},
   "outputs": [],
   "source": [
    "trainset = torch.utils.data.DataLoader(train, batch_size=3, shuffle=True) #Batch size is training data in batches of size,shuffle is for randomising data\n",
    "testset = torch.utils.data.DataLoader(test, batch_size=10, shuffle=False)"
   ]
  },
  {
   "cell_type": "code",
   "execution_count": 19,
   "metadata": {},
   "outputs": [
    {
     "output_type": "stream",
     "name": "stdout",
     "text": [
      "[tensor([[[[0., 0., 0.,  ..., 0., 0., 0.],\n          [0., 0., 0.,  ..., 0., 0., 0.],\n          [0., 0., 0.,  ..., 0., 0., 0.],\n          ...,\n          [0., 0., 0.,  ..., 0., 0., 0.],\n          [0., 0., 0.,  ..., 0., 0., 0.],\n          [0., 0., 0.,  ..., 0., 0., 0.]]],\n\n\n        [[[0., 0., 0.,  ..., 0., 0., 0.],\n          [0., 0., 0.,  ..., 0., 0., 0.],\n          [0., 0., 0.,  ..., 0., 0., 0.],\n          ...,\n          [0., 0., 0.,  ..., 0., 0., 0.],\n          [0., 0., 0.,  ..., 0., 0., 0.],\n          [0., 0., 0.,  ..., 0., 0., 0.]]],\n\n\n        [[[0., 0., 0.,  ..., 0., 0., 0.],\n          [0., 0., 0.,  ..., 0., 0., 0.],\n          [0., 0., 0.,  ..., 0., 0., 0.],\n          ...,\n          [0., 0., 0.,  ..., 0., 0., 0.],\n          [0., 0., 0.,  ..., 0., 0., 0.],\n          [0., 0., 0.,  ..., 0., 0., 0.]]]]), tensor([4, 0, 3])]\n"
     ]
    }
   ],
   "source": [
    "for data in trainset:\n",
    "    print(data)\n",
    "    break"
   ]
  },
  {
   "cell_type": "code",
   "execution_count": 21,
   "metadata": {},
   "outputs": [
    {
     "output_type": "stream",
     "name": "stdout",
     "text": [
      "tensor(4)\n"
     ]
    }
   ],
   "source": [
    "image, label = data[0][0],data[1][0]\n",
    "print(label)"
   ]
  },
  {
   "source": [
    "These data are from MNIST Dataset,so you get handwritten digits and their corresponding labels between 0-9 inclusive.So for convenience,I iterated three handwritten digit images so I get a tensor of two tensors,the first representing tensor of images and the second representing tensor of corresponding labels."
   ],
   "cell_type": "markdown",
   "metadata": {}
  },
  {
   "cell_type": "code",
   "execution_count": 22,
   "metadata": {},
   "outputs": [
    {
     "output_type": "execute_result",
     "data": {
      "text/plain": [
       "'torch.FloatTensor'"
      ]
     },
     "metadata": {},
     "execution_count": 22
    }
   ],
   "source": [
    "data[0][0].type()"
   ]
  },
  {
   "cell_type": "code",
   "execution_count": 25,
   "metadata": {},
   "outputs": [
    {
     "output_type": "stream",
     "name": "stdout",
     "text": [
      "torch.Size([1, 28, 28])\n"
     ]
    }
   ],
   "source": [
    "print(data[0][0].shape)"
   ]
  },
  {
   "source": [
    "This is wierd since even grayscale images are (28,28) shape while we get an extra 1"
   ],
   "cell_type": "markdown",
   "metadata": {}
  },
  {
   "cell_type": "code",
   "execution_count": 26,
   "metadata": {},
   "outputs": [],
   "source": [
    "import matplotlib.pyplot as plt "
   ]
  },
  {
   "cell_type": "code",
   "execution_count": 27,
   "metadata": {},
   "outputs": [
    {
     "output_type": "execute_result",
     "data": {
      "text/plain": [
       "<matplotlib.image.AxesImage at 0x7f0189903c18>"
      ]
     },
     "metadata": {},
     "execution_count": 27
    },
    {
     "output_type": "display_data",
     "data": {
      "text/plain": "<Figure size 432x288 with 1 Axes>",
      "image/svg+xml": "<?xml version=\"1.0\" encoding=\"utf-8\" standalone=\"no\"?>\n<!DOCTYPE svg PUBLIC \"-//W3C//DTD SVG 1.1//EN\"\n  \"http://www.w3.org/Graphics/SVG/1.1/DTD/svg11.dtd\">\n<!-- Created with matplotlib (https://matplotlib.org/) -->\n<svg height=\"248.518125pt\" version=\"1.1\" viewBox=\"0 0 251.565 248.518125\" width=\"251.565pt\" xmlns=\"http://www.w3.org/2000/svg\" xmlns:xlink=\"http://www.w3.org/1999/xlink\">\n <metadata>\n  <rdf:RDF xmlns:cc=\"http://creativecommons.org/ns#\" xmlns:dc=\"http://purl.org/dc/elements/1.1/\" xmlns:rdf=\"http://www.w3.org/1999/02/22-rdf-syntax-ns#\">\n   <cc:Work>\n    <dc:type rdf:resource=\"http://purl.org/dc/dcmitype/StillImage\"/>\n    <dc:date>2021-02-07T23:35:07.155037</dc:date>\n    <dc:format>image/svg+xml</dc:format>\n    <dc:creator>\n     <cc:Agent>\n      <dc:title>Matplotlib v3.3.4, https://matplotlib.org/</dc:title>\n     </cc:Agent>\n    </dc:creator>\n   </cc:Work>\n  </rdf:RDF>\n </metadata>\n <defs>\n  <style type=\"text/css\">*{stroke-linecap:butt;stroke-linejoin:round;}</style>\n </defs>\n <g id=\"figure_1\">\n  <g id=\"patch_1\">\n   <path d=\"M 0 248.518125 \nL 251.565 248.518125 \nL 251.565 0 \nL 0 0 \nz\n\" style=\"fill:none;\"/>\n  </g>\n  <g id=\"axes_1\">\n   <g id=\"patch_2\">\n    <path d=\"M 26.925 224.64 \nL 244.365 224.64 \nL 244.365 7.2 \nL 26.925 7.2 \nz\n\" style=\"fill:#ffffff;\"/>\n   </g>\n   <g clip-path=\"url(#pd37082a184)\">\n    <image height=\"218\" id=\"imagee2ff5cbebc\" transform=\"scale(1 -1)translate(0 -218)\" width=\"218\" x=\"26.925\" xlink:href=\"data:image/png;base64,\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\" y=\"-6.64\"/>\n   </g>\n   <g id=\"matplotlib.axis_1\">\n    <g id=\"xtick_1\">\n     <g id=\"line2d_1\">\n      <defs>\n       <path d=\"M 0 0 \nL 0 3.5 \n\" id=\"mfa57105f18\" style=\"stroke:#000000;stroke-width:0.8;\"/>\n      </defs>\n      <g>\n       <use style=\"stroke:#000000;stroke-width:0.8;\" x=\"30.807857\" xlink:href=\"#mfa57105f18\" y=\"224.64\"/>\n      </g>\n     </g>\n     <g id=\"text_1\">\n      <!-- 0 -->\n      <g transform=\"translate(27.626607 239.238437)scale(0.1 -0.1)\">\n       <defs>\n        <path d=\"M 31.78125 66.40625 \nQ 24.171875 66.40625 20.328125 58.90625 \nQ 16.5 51.421875 16.5 36.375 \nQ 16.5 21.390625 20.328125 13.890625 \nQ 24.171875 6.390625 31.78125 6.390625 \nQ 39.453125 6.390625 43.28125 13.890625 \nQ 47.125 21.390625 47.125 36.375 \nQ 47.125 51.421875 43.28125 58.90625 \nQ 39.453125 66.40625 31.78125 66.40625 \nz\nM 31.78125 74.21875 \nQ 44.046875 74.21875 50.515625 64.515625 \nQ 56.984375 54.828125 56.984375 36.375 \nQ 56.984375 17.96875 50.515625 8.265625 \nQ 44.046875 -1.421875 31.78125 -1.421875 \nQ 19.53125 -1.421875 13.0625 8.265625 \nQ 6.59375 17.96875 6.59375 36.375 \nQ 6.59375 54.828125 13.0625 64.515625 \nQ 19.53125 74.21875 31.78125 74.21875 \nz\n\" id=\"DejaVuSans-48\"/>\n       </defs>\n       <use xlink:href=\"#DejaVuSans-48\"/>\n      </g>\n     </g>\n    </g>\n    <g id=\"xtick_2\">\n     <g id=\"line2d_2\">\n      <g>\n       <use style=\"stroke:#000000;stroke-width:0.8;\" x=\"69.636429\" xlink:href=\"#mfa57105f18\" y=\"224.64\"/>\n      </g>\n     </g>\n     <g id=\"text_2\">\n      <!-- 5 -->\n      <g transform=\"translate(66.455179 239.238437)scale(0.1 -0.1)\">\n       <defs>\n        <path d=\"M 10.796875 72.90625 \nL 49.515625 72.90625 \nL 49.515625 64.59375 \nL 19.828125 64.59375 \nL 19.828125 46.734375 \nQ 21.96875 47.46875 24.109375 47.828125 \nQ 26.265625 48.1875 28.421875 48.1875 \nQ 40.625 48.1875 47.75 41.5 \nQ 54.890625 34.8125 54.890625 23.390625 \nQ 54.890625 11.625 47.5625 5.09375 \nQ 40.234375 -1.421875 26.90625 -1.421875 \nQ 22.3125 -1.421875 17.546875 -0.640625 \nQ 12.796875 0.140625 7.71875 1.703125 \nL 7.71875 11.625 \nQ 12.109375 9.234375 16.796875 8.0625 \nQ 21.484375 6.890625 26.703125 6.890625 \nQ 35.15625 6.890625 40.078125 11.328125 \nQ 45.015625 15.765625 45.015625 23.390625 \nQ 45.015625 31 40.078125 35.4375 \nQ 35.15625 39.890625 26.703125 39.890625 \nQ 22.75 39.890625 18.8125 39.015625 \nQ 14.890625 38.140625 10.796875 36.28125 \nz\n\" id=\"DejaVuSans-53\"/>\n       </defs>\n       <use xlink:href=\"#DejaVuSans-53\"/>\n      </g>\n     </g>\n    </g>\n    <g id=\"xtick_3\">\n     <g id=\"line2d_3\">\n      <g>\n       <use style=\"stroke:#000000;stroke-width:0.8;\" x=\"108.465\" xlink:href=\"#mfa57105f18\" y=\"224.64\"/>\n      </g>\n     </g>\n     <g id=\"text_3\">\n      <!-- 10 -->\n      <g transform=\"translate(102.1025 239.238437)scale(0.1 -0.1)\">\n       <defs>\n        <path d=\"M 12.40625 8.296875 \nL 28.515625 8.296875 \nL 28.515625 63.921875 \nL 10.984375 60.40625 \nL 10.984375 69.390625 \nL 28.421875 72.90625 \nL 38.28125 72.90625 \nL 38.28125 8.296875 \nL 54.390625 8.296875 \nL 54.390625 0 \nL 12.40625 0 \nz\n\" id=\"DejaVuSans-49\"/>\n       </defs>\n       <use xlink:href=\"#DejaVuSans-49\"/>\n       <use x=\"63.623047\" xlink:href=\"#DejaVuSans-48\"/>\n      </g>\n     </g>\n    </g>\n    <g id=\"xtick_4\">\n     <g id=\"line2d_4\">\n      <g>\n       <use style=\"stroke:#000000;stroke-width:0.8;\" x=\"147.293571\" xlink:href=\"#mfa57105f18\" y=\"224.64\"/>\n      </g>\n     </g>\n     <g id=\"text_4\">\n      <!-- 15 -->\n      <g transform=\"translate(140.931071 239.238437)scale(0.1 -0.1)\">\n       <use xlink:href=\"#DejaVuSans-49\"/>\n       <use x=\"63.623047\" xlink:href=\"#DejaVuSans-53\"/>\n      </g>\n     </g>\n    </g>\n    <g id=\"xtick_5\">\n     <g id=\"line2d_5\">\n      <g>\n       <use style=\"stroke:#000000;stroke-width:0.8;\" x=\"186.122143\" xlink:href=\"#mfa57105f18\" y=\"224.64\"/>\n      </g>\n     </g>\n     <g id=\"text_5\">\n      <!-- 20 -->\n      <g transform=\"translate(179.759643 239.238437)scale(0.1 -0.1)\">\n       <defs>\n        <path d=\"M 19.1875 8.296875 \nL 53.609375 8.296875 \nL 53.609375 0 \nL 7.328125 0 \nL 7.328125 8.296875 \nQ 12.9375 14.109375 22.625 23.890625 \nQ 32.328125 33.6875 34.8125 36.53125 \nQ 39.546875 41.84375 41.421875 45.53125 \nQ 43.3125 49.21875 43.3125 52.78125 \nQ 43.3125 58.59375 39.234375 62.25 \nQ 35.15625 65.921875 28.609375 65.921875 \nQ 23.96875 65.921875 18.8125 64.3125 \nQ 13.671875 62.703125 7.8125 59.421875 \nL 7.8125 69.390625 \nQ 13.765625 71.78125 18.9375 73 \nQ 24.125 74.21875 28.421875 74.21875 \nQ 39.75 74.21875 46.484375 68.546875 \nQ 53.21875 62.890625 53.21875 53.421875 \nQ 53.21875 48.921875 51.53125 44.890625 \nQ 49.859375 40.875 45.40625 35.40625 \nQ 44.1875 33.984375 37.640625 27.21875 \nQ 31.109375 20.453125 19.1875 8.296875 \nz\n\" id=\"DejaVuSans-50\"/>\n       </defs>\n       <use xlink:href=\"#DejaVuSans-50\"/>\n       <use x=\"63.623047\" xlink:href=\"#DejaVuSans-48\"/>\n      </g>\n     </g>\n    </g>\n    <g id=\"xtick_6\">\n     <g id=\"line2d_6\">\n      <g>\n       <use style=\"stroke:#000000;stroke-width:0.8;\" x=\"224.950714\" xlink:href=\"#mfa57105f18\" y=\"224.64\"/>\n      </g>\n     </g>\n     <g id=\"text_6\">\n      <!-- 25 -->\n      <g transform=\"translate(218.588214 239.238437)scale(0.1 -0.1)\">\n       <use xlink:href=\"#DejaVuSans-50\"/>\n       <use x=\"63.623047\" xlink:href=\"#DejaVuSans-53\"/>\n      </g>\n     </g>\n    </g>\n   </g>\n   <g id=\"matplotlib.axis_2\">\n    <g id=\"ytick_1\">\n     <g id=\"line2d_7\">\n      <defs>\n       <path d=\"M 0 0 \nL -3.5 0 \n\" id=\"m2c02d5c8b0\" style=\"stroke:#000000;stroke-width:0.8;\"/>\n      </defs>\n      <g>\n       <use style=\"stroke:#000000;stroke-width:0.8;\" x=\"26.925\" xlink:href=\"#m2c02d5c8b0\" y=\"11.082857\"/>\n      </g>\n     </g>\n     <g id=\"text_7\">\n      <!-- 0 -->\n      <g transform=\"translate(13.5625 14.882076)scale(0.1 -0.1)\">\n       <use xlink:href=\"#DejaVuSans-48\"/>\n      </g>\n     </g>\n    </g>\n    <g id=\"ytick_2\">\n     <g id=\"line2d_8\">\n      <g>\n       <use style=\"stroke:#000000;stroke-width:0.8;\" x=\"26.925\" xlink:href=\"#m2c02d5c8b0\" y=\"49.911429\"/>\n      </g>\n     </g>\n     <g id=\"text_8\">\n      <!-- 5 -->\n      <g transform=\"translate(13.5625 53.710647)scale(0.1 -0.1)\">\n       <use xlink:href=\"#DejaVuSans-53\"/>\n      </g>\n     </g>\n    </g>\n    <g id=\"ytick_3\">\n     <g id=\"line2d_9\">\n      <g>\n       <use style=\"stroke:#000000;stroke-width:0.8;\" x=\"26.925\" xlink:href=\"#m2c02d5c8b0\" y=\"88.74\"/>\n      </g>\n     </g>\n     <g id=\"text_9\">\n      <!-- 10 -->\n      <g transform=\"translate(7.2 92.539219)scale(0.1 -0.1)\">\n       <use xlink:href=\"#DejaVuSans-49\"/>\n       <use x=\"63.623047\" xlink:href=\"#DejaVuSans-48\"/>\n      </g>\n     </g>\n    </g>\n    <g id=\"ytick_4\">\n     <g id=\"line2d_10\">\n      <g>\n       <use style=\"stroke:#000000;stroke-width:0.8;\" x=\"26.925\" xlink:href=\"#m2c02d5c8b0\" y=\"127.568571\"/>\n      </g>\n     </g>\n     <g id=\"text_10\">\n      <!-- 15 -->\n      <g transform=\"translate(7.2 131.36779)scale(0.1 -0.1)\">\n       <use xlink:href=\"#DejaVuSans-49\"/>\n       <use x=\"63.623047\" xlink:href=\"#DejaVuSans-53\"/>\n      </g>\n     </g>\n    </g>\n    <g id=\"ytick_5\">\n     <g id=\"line2d_11\">\n      <g>\n       <use style=\"stroke:#000000;stroke-width:0.8;\" x=\"26.925\" xlink:href=\"#m2c02d5c8b0\" y=\"166.397143\"/>\n      </g>\n     </g>\n     <g id=\"text_11\">\n      <!-- 20 -->\n      <g transform=\"translate(7.2 170.196362)scale(0.1 -0.1)\">\n       <use xlink:href=\"#DejaVuSans-50\"/>\n       <use x=\"63.623047\" xlink:href=\"#DejaVuSans-48\"/>\n      </g>\n     </g>\n    </g>\n    <g id=\"ytick_6\">\n     <g id=\"line2d_12\">\n      <g>\n       <use style=\"stroke:#000000;stroke-width:0.8;\" x=\"26.925\" xlink:href=\"#m2c02d5c8b0\" y=\"205.225714\"/>\n      </g>\n     </g>\n     <g id=\"text_12\">\n      <!-- 25 -->\n      <g transform=\"translate(7.2 209.024933)scale(0.1 -0.1)\">\n       <use xlink:href=\"#DejaVuSans-50\"/>\n       <use x=\"63.623047\" xlink:href=\"#DejaVuSans-53\"/>\n      </g>\n     </g>\n    </g>\n   </g>\n   <g id=\"patch_3\">\n    <path d=\"M 26.925 224.64 \nL 26.925 7.2 \n\" style=\"fill:none;stroke:#000000;stroke-linecap:square;stroke-linejoin:miter;stroke-width:0.8;\"/>\n   </g>\n   <g id=\"patch_4\">\n    <path d=\"M 244.365 224.64 \nL 244.365 7.2 \n\" style=\"fill:none;stroke:#000000;stroke-linecap:square;stroke-linejoin:miter;stroke-width:0.8;\"/>\n   </g>\n   <g id=\"patch_5\">\n    <path d=\"M 26.925 224.64 \nL 244.365 224.64 \n\" style=\"fill:none;stroke:#000000;stroke-linecap:square;stroke-linejoin:miter;stroke-width:0.8;\"/>\n   </g>\n   <g id=\"patch_6\">\n    <path d=\"M 26.925 7.2 \nL 244.365 7.2 \n\" style=\"fill:none;stroke:#000000;stroke-linecap:square;stroke-linejoin:miter;stroke-width:0.8;\"/>\n   </g>\n  </g>\n </g>\n <defs>\n  <clipPath id=\"pd37082a184\">\n   <rect height=\"217.44\" width=\"217.44\" x=\"26.925\" y=\"7.2\"/>\n  </clipPath>\n </defs>\n</svg>\n",
      "image/png": "[encoded data removed]"
     },
     "metadata": {
      "needs_background": "light"
     }
    }
   ],
   "source": [
    "plt.imshow(data[0][0].view(28,28))"
   ]
  },
  {
   "source": [
    "Now this matches perfectly with the result of label(0) i.e tensor(4)"
   ],
   "cell_type": "markdown",
   "metadata": {}
  },
  {
   "cell_type": "code",
   "execution_count": 28,
   "metadata": {},
   "outputs": [
    {
     "output_type": "stream",
     "name": "stdout",
     "text": [
      "{0: 5923, 1: 6742, 2: 5958, 3: 6131, 4: 5842, 5: 5421, 6: 5918, 7: 6265, 8: 5851, 9: 5949}\n0: 9.871666666666666%\n1: 11.236666666666666%\n2: 9.93%\n3: 10.218333333333334%\n4: 9.736666666666666%\n5: 9.035%\n6: 9.863333333333333%\n7: 10.441666666666666%\n8: 9.751666666666667%\n9: 9.915000000000001%\n"
     ]
    }
   ],
   "source": [
    "total = 0\n",
    "counter_dict = {0:0, 1:0, 2:0, 3:0, 4:0, 5:0, 6:0, 7:0, 8:0, 9:0}\n",
    "\n",
    "\n",
    "for data in trainset:\n",
    "    Xs, ys = data\n",
    "    for y in ys:\n",
    "        counter_dict[int(y)] += 1\n",
    "        total += 1\n",
    "\n",
    "print(counter_dict)\n",
    "\n",
    "for i in counter_dict:\n",
    "    print(f\"{i}: {counter_dict[i]/total*100.0}%\")"
   ]
  },
  {
   "source": [
    "We are checking how balanced our dataset is.The max is around 11% while the least is around 9%.So its not perfectly balanced but its okay for ~2% variation"
   ],
   "cell_type": "markdown",
   "metadata": {}
  },
  {
   "cell_type": "code",
   "execution_count": null,
   "metadata": {},
   "outputs": [],
   "source": []
  }
 ]
}