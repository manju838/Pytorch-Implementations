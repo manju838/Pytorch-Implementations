{
  "nbformat": 4,
  "nbformat_minor": 0,
  "metadata": {
    "colab": {
      "name": "pytorch-LeNet5_6.ipynb",
      "provenance": [],
      "collapsed_sections": [],
      "mount_file_id": "1ZTteP8hbcK1vQ2xGV_cbjzeelG25ujxx",
      "authorship_tag": "ABX9TyOduv1Tr4wMkPKyTiHXb+gl",
      "include_colab_link": true
    },
    "kernelspec": {
      "name": "python3",
      "display_name": "Python 3"
    },
    "accelerator": "GPU",
    "widgets": {
      "application/vnd.jupyter.widget-state+json": {
        "6c5c7e08b97a4dabbf91d453eb4bf2fe": {
          "model_module": "@jupyter-widgets/controls",
          "model_name": "HBoxModel",
          "state": {
            "_view_name": "HBoxView",
            "_dom_classes": [],
            "_model_name": "HBoxModel",
            "_view_module": "@jupyter-widgets/controls",
            "_model_module_version": "1.5.0",
            "_view_count": null,
            "_view_module_version": "1.5.0",
            "box_style": "",
            "layout": "IPY_MODEL_a880c3d90dc04cd9afabf4865e57e413",
            "_model_module": "@jupyter-widgets/controls",
            "children": [
              "IPY_MODEL_2e73cc47dd944939ba1a3e722cfaa34f",
              "IPY_MODEL_42b7d9f3322c4a1e8a2643bfa2725751"
            ]
          }
        },
        "a880c3d90dc04cd9afabf4865e57e413": {
          "model_module": "@jupyter-widgets/base",
          "model_name": "LayoutModel",
          "state": {
            "_view_name": "LayoutView",
            "grid_template_rows": null,
            "right": null,
            "justify_content": null,
            "_view_module": "@jupyter-widgets/base",
            "overflow": null,
            "_model_module_version": "1.2.0",
            "_view_count": null,
            "flex_flow": null,
            "width": null,
            "min_width": null,
            "border": null,
            "align_items": null,
            "bottom": null,
            "_model_module": "@jupyter-widgets/base",
            "top": null,
            "grid_column": null,
            "overflow_y": null,
            "overflow_x": null,
            "grid_auto_flow": null,
            "grid_area": null,
            "grid_template_columns": null,
            "flex": null,
            "_model_name": "LayoutModel",
            "justify_items": null,
            "grid_row": null,
            "max_height": null,
            "align_content": null,
            "visibility": null,
            "align_self": null,
            "height": null,
            "min_height": null,
            "padding": null,
            "grid_auto_rows": null,
            "grid_gap": null,
            "max_width": null,
            "order": null,
            "_view_module_version": "1.2.0",
            "grid_template_areas": null,
            "object_position": null,
            "object_fit": null,
            "grid_auto_columns": null,
            "margin": null,
            "display": null,
            "left": null
          }
        },
        "2e73cc47dd944939ba1a3e722cfaa34f": {
          "model_module": "@jupyter-widgets/controls",
          "model_name": "FloatProgressModel",
          "state": {
            "_view_name": "ProgressView",
            "style": "IPY_MODEL_31dd06d01ff34e719bde4b5c85271c3c",
            "_dom_classes": [],
            "description": "",
            "_model_name": "FloatProgressModel",
            "bar_style": "success",
            "max": 9912422,
            "_view_module": "@jupyter-widgets/controls",
            "_model_module_version": "1.5.0",
            "value": 9912422,
            "_view_count": null,
            "_view_module_version": "1.5.0",
            "orientation": "horizontal",
            "min": 0,
            "description_tooltip": null,
            "_model_module": "@jupyter-widgets/controls",
            "layout": "IPY_MODEL_d47237000527406585eb8a7812535471"
          }
        },
        "42b7d9f3322c4a1e8a2643bfa2725751": {
          "model_module": "@jupyter-widgets/controls",
          "model_name": "HTMLModel",
          "state": {
            "_view_name": "HTMLView",
            "style": "IPY_MODEL_41b533143e3241fb958a6bc18ba3c374",
            "_dom_classes": [],
            "description": "",
            "_model_name": "HTMLModel",
            "placeholder": "​",
            "_view_module": "@jupyter-widgets/controls",
            "_model_module_version": "1.5.0",
            "value": " 9913344/? [08:48&lt;00:00, 18768.89it/s]",
            "_view_count": null,
            "_view_module_version": "1.5.0",
            "description_tooltip": null,
            "_model_module": "@jupyter-widgets/controls",
            "layout": "IPY_MODEL_9adc12f97909418d84655f05304dfb1d"
          }
        },
        "31dd06d01ff34e719bde4b5c85271c3c": {
          "model_module": "@jupyter-widgets/controls",
          "model_name": "ProgressStyleModel",
          "state": {
            "_view_name": "StyleView",
            "_model_name": "ProgressStyleModel",
            "description_width": "initial",
            "_view_module": "@jupyter-widgets/base",
            "_model_module_version": "1.5.0",
            "_view_count": null,
            "_view_module_version": "1.2.0",
            "bar_color": null,
            "_model_module": "@jupyter-widgets/controls"
          }
        },
        "d47237000527406585eb8a7812535471": {
          "model_module": "@jupyter-widgets/base",
          "model_name": "LayoutModel",
          "state": {
            "_view_name": "LayoutView",
            "grid_template_rows": null,
            "right": null,
            "justify_content": null,
            "_view_module": "@jupyter-widgets/base",
            "overflow": null,
            "_model_module_version": "1.2.0",
            "_view_count": null,
            "flex_flow": null,
            "width": null,
            "min_width": null,
            "border": null,
            "align_items": null,
            "bottom": null,
            "_model_module": "@jupyter-widgets/base",
            "top": null,
            "grid_column": null,
            "overflow_y": null,
            "overflow_x": null,
            "grid_auto_flow": null,
            "grid_area": null,
            "grid_template_columns": null,
            "flex": null,
            "_model_name": "LayoutModel",
            "justify_items": null,
            "grid_row": null,
            "max_height": null,
            "align_content": null,
            "visibility": null,
            "align_self": null,
            "height": null,
            "min_height": null,
            "padding": null,
            "grid_auto_rows": null,
            "grid_gap": null,
            "max_width": null,
            "order": null,
            "_view_module_version": "1.2.0",
            "grid_template_areas": null,
            "object_position": null,
            "object_fit": null,
            "grid_auto_columns": null,
            "margin": null,
            "display": null,
            "left": null
          }
        },
        "41b533143e3241fb958a6bc18ba3c374": {
          "model_module": "@jupyter-widgets/controls",
          "model_name": "DescriptionStyleModel",
          "state": {
            "_view_name": "StyleView",
            "_model_name": "DescriptionStyleModel",
            "description_width": "",
            "_view_module": "@jupyter-widgets/base",
            "_model_module_version": "1.5.0",
            "_view_count": null,
            "_view_module_version": "1.2.0",
            "_model_module": "@jupyter-widgets/controls"
          }
        },
        "9adc12f97909418d84655f05304dfb1d": {
          "model_module": "@jupyter-widgets/base",
          "model_name": "LayoutModel",
          "state": {
            "_view_name": "LayoutView",
            "grid_template_rows": null,
            "right": null,
            "justify_content": null,
            "_view_module": "@jupyter-widgets/base",
            "overflow": null,
            "_model_module_version": "1.2.0",
            "_view_count": null,
            "flex_flow": null,
            "width": null,
            "min_width": null,
            "border": null,
            "align_items": null,
            "bottom": null,
            "_model_module": "@jupyter-widgets/base",
            "top": null,
            "grid_column": null,
            "overflow_y": null,
            "overflow_x": null,
            "grid_auto_flow": null,
            "grid_area": null,
            "grid_template_columns": null,
            "flex": null,
            "_model_name": "LayoutModel",
            "justify_items": null,
            "grid_row": null,
            "max_height": null,
            "align_content": null,
            "visibility": null,
            "align_self": null,
            "height": null,
            "min_height": null,
            "padding": null,
            "grid_auto_rows": null,
            "grid_gap": null,
            "max_width": null,
            "order": null,
            "_view_module_version": "1.2.0",
            "grid_template_areas": null,
            "object_position": null,
            "object_fit": null,
            "grid_auto_columns": null,
            "margin": null,
            "display": null,
            "left": null
          }
        },
        "5b35f07d0e784a4ca074b5622f6f144a": {
          "model_module": "@jupyter-widgets/controls",
          "model_name": "HBoxModel",
          "state": {
            "_view_name": "HBoxView",
            "_dom_classes": [],
            "_model_name": "HBoxModel",
            "_view_module": "@jupyter-widgets/controls",
            "_model_module_version": "1.5.0",
            "_view_count": null,
            "_view_module_version": "1.5.0",
            "box_style": "",
            "layout": "IPY_MODEL_e2e4c07d206b4be088b814b3c57c0b91",
            "_model_module": "@jupyter-widgets/controls",
            "children": [
              "IPY_MODEL_0aa77d6cc1514cb9903c4f3c18b94077",
              "IPY_MODEL_96f0088cc1174b8c9d4995e90465654a"
            ]
          }
        },
        "e2e4c07d206b4be088b814b3c57c0b91": {
          "model_module": "@jupyter-widgets/base",
          "model_name": "LayoutModel",
          "state": {
            "_view_name": "LayoutView",
            "grid_template_rows": null,
            "right": null,
            "justify_content": null,
            "_view_module": "@jupyter-widgets/base",
            "overflow": null,
            "_model_module_version": "1.2.0",
            "_view_count": null,
            "flex_flow": null,
            "width": null,
            "min_width": null,
            "border": null,
            "align_items": null,
            "bottom": null,
            "_model_module": "@jupyter-widgets/base",
            "top": null,
            "grid_column": null,
            "overflow_y": null,
            "overflow_x": null,
            "grid_auto_flow": null,
            "grid_area": null,
            "grid_template_columns": null,
            "flex": null,
            "_model_name": "LayoutModel",
            "justify_items": null,
            "grid_row": null,
            "max_height": null,
            "align_content": null,
            "visibility": null,
            "align_self": null,
            "height": null,
            "min_height": null,
            "padding": null,
            "grid_auto_rows": null,
            "grid_gap": null,
            "max_width": null,
            "order": null,
            "_view_module_version": "1.2.0",
            "grid_template_areas": null,
            "object_position": null,
            "object_fit": null,
            "grid_auto_columns": null,
            "margin": null,
            "display": null,
            "left": null
          }
        },
        "0aa77d6cc1514cb9903c4f3c18b94077": {
          "model_module": "@jupyter-widgets/controls",
          "model_name": "FloatProgressModel",
          "state": {
            "_view_name": "ProgressView",
            "style": "IPY_MODEL_25887c9bef58451987cdf3bdd6fff38e",
            "_dom_classes": [],
            "description": "",
            "_model_name": "FloatProgressModel",
            "bar_style": "success",
            "max": 28881,
            "_view_module": "@jupyter-widgets/controls",
            "_model_module_version": "1.5.0",
            "value": 28881,
            "_view_count": null,
            "_view_module_version": "1.5.0",
            "orientation": "horizontal",
            "min": 0,
            "description_tooltip": null,
            "_model_module": "@jupyter-widgets/controls",
            "layout": "IPY_MODEL_e19af9c0f0b8481a85dae932e2917f07"
          }
        },
        "96f0088cc1174b8c9d4995e90465654a": {
          "model_module": "@jupyter-widgets/controls",
          "model_name": "HTMLModel",
          "state": {
            "_view_name": "HTMLView",
            "style": "IPY_MODEL_7aa5b3f3ac1a46ff8f12f640cf8fd9cd",
            "_dom_classes": [],
            "description": "",
            "_model_name": "HTMLModel",
            "placeholder": "​",
            "_view_module": "@jupyter-widgets/controls",
            "_model_module_version": "1.5.0",
            "value": " 29696/? [00:50&lt;00:00, 591.52it/s]",
            "_view_count": null,
            "_view_module_version": "1.5.0",
            "description_tooltip": null,
            "_model_module": "@jupyter-widgets/controls",
            "layout": "IPY_MODEL_5e7ccb5b7e8b4109ad3719116559c320"
          }
        },
        "25887c9bef58451987cdf3bdd6fff38e": {
          "model_module": "@jupyter-widgets/controls",
          "model_name": "ProgressStyleModel",
          "state": {
            "_view_name": "StyleView",
            "_model_name": "ProgressStyleModel",
            "description_width": "initial",
            "_view_module": "@jupyter-widgets/base",
            "_model_module_version": "1.5.0",
            "_view_count": null,
            "_view_module_version": "1.2.0",
            "bar_color": null,
            "_model_module": "@jupyter-widgets/controls"
          }
        },
        "e19af9c0f0b8481a85dae932e2917f07": {
          "model_module": "@jupyter-widgets/base",
          "model_name": "LayoutModel",
          "state": {
            "_view_name": "LayoutView",
            "grid_template_rows": null,
            "right": null,
            "justify_content": null,
            "_view_module": "@jupyter-widgets/base",
            "overflow": null,
            "_model_module_version": "1.2.0",
            "_view_count": null,
            "flex_flow": null,
            "width": null,
            "min_width": null,
            "border": null,
            "align_items": null,
            "bottom": null,
            "_model_module": "@jupyter-widgets/base",
            "top": null,
            "grid_column": null,
            "overflow_y": null,
            "overflow_x": null,
            "grid_auto_flow": null,
            "grid_area": null,
            "grid_template_columns": null,
            "flex": null,
            "_model_name": "LayoutModel",
            "justify_items": null,
            "grid_row": null,
            "max_height": null,
            "align_content": null,
            "visibility": null,
            "align_self": null,
            "height": null,
            "min_height": null,
            "padding": null,
            "grid_auto_rows": null,
            "grid_gap": null,
            "max_width": null,
            "order": null,
            "_view_module_version": "1.2.0",
            "grid_template_areas": null,
            "object_position": null,
            "object_fit": null,
            "grid_auto_columns": null,
            "margin": null,
            "display": null,
            "left": null
          }
        },
        "7aa5b3f3ac1a46ff8f12f640cf8fd9cd": {
          "model_module": "@jupyter-widgets/controls",
          "model_name": "DescriptionStyleModel",
          "state": {
            "_view_name": "StyleView",
            "_model_name": "DescriptionStyleModel",
            "description_width": "",
            "_view_module": "@jupyter-widgets/base",
            "_model_module_version": "1.5.0",
            "_view_count": null,
            "_view_module_version": "1.2.0",
            "_model_module": "@jupyter-widgets/controls"
          }
        },
        "5e7ccb5b7e8b4109ad3719116559c320": {
          "model_module": "@jupyter-widgets/base",
          "model_name": "LayoutModel",
          "state": {
            "_view_name": "LayoutView",
            "grid_template_rows": null,
            "right": null,
            "justify_content": null,
            "_view_module": "@jupyter-widgets/base",
            "overflow": null,
            "_model_module_version": "1.2.0",
            "_view_count": null,
            "flex_flow": null,
            "width": null,
            "min_width": null,
            "border": null,
            "align_items": null,
            "bottom": null,
            "_model_module": "@jupyter-widgets/base",
            "top": null,
            "grid_column": null,
            "overflow_y": null,
            "overflow_x": null,
            "grid_auto_flow": null,
            "grid_area": null,
            "grid_template_columns": null,
            "flex": null,
            "_model_name": "LayoutModel",
            "justify_items": null,
            "grid_row": null,
            "max_height": null,
            "align_content": null,
            "visibility": null,
            "align_self": null,
            "height": null,
            "min_height": null,
            "padding": null,
            "grid_auto_rows": null,
            "grid_gap": null,
            "max_width": null,
            "order": null,
            "_view_module_version": "1.2.0",
            "grid_template_areas": null,
            "object_position": null,
            "object_fit": null,
            "grid_auto_columns": null,
            "margin": null,
            "display": null,
            "left": null
          }
        },
        "ca406ef160584edc87da66bba6a2a87b": {
          "model_module": "@jupyter-widgets/controls",
          "model_name": "HBoxModel",
          "state": {
            "_view_name": "HBoxView",
            "_dom_classes": [],
            "_model_name": "HBoxModel",
            "_view_module": "@jupyter-widgets/controls",
            "_model_module_version": "1.5.0",
            "_view_count": null,
            "_view_module_version": "1.5.0",
            "box_style": "",
            "layout": "IPY_MODEL_b7b46b8941b1420895cbc03d44c2f397",
            "_model_module": "@jupyter-widgets/controls",
            "children": [
              "IPY_MODEL_014f0c4f0bd740239387a5fea2d7943f",
              "IPY_MODEL_b67e1fbda03d495b875d411c20bfd998"
            ]
          }
        },
        "b7b46b8941b1420895cbc03d44c2f397": {
          "model_module": "@jupyter-widgets/base",
          "model_name": "LayoutModel",
          "state": {
            "_view_name": "LayoutView",
            "grid_template_rows": null,
            "right": null,
            "justify_content": null,
            "_view_module": "@jupyter-widgets/base",
            "overflow": null,
            "_model_module_version": "1.2.0",
            "_view_count": null,
            "flex_flow": null,
            "width": null,
            "min_width": null,
            "border": null,
            "align_items": null,
            "bottom": null,
            "_model_module": "@jupyter-widgets/base",
            "top": null,
            "grid_column": null,
            "overflow_y": null,
            "overflow_x": null,
            "grid_auto_flow": null,
            "grid_area": null,
            "grid_template_columns": null,
            "flex": null,
            "_model_name": "LayoutModel",
            "justify_items": null,
            "grid_row": null,
            "max_height": null,
            "align_content": null,
            "visibility": null,
            "align_self": null,
            "height": null,
            "min_height": null,
            "padding": null,
            "grid_auto_rows": null,
            "grid_gap": null,
            "max_width": null,
            "order": null,
            "_view_module_version": "1.2.0",
            "grid_template_areas": null,
            "object_position": null,
            "object_fit": null,
            "grid_auto_columns": null,
            "margin": null,
            "display": null,
            "left": null
          }
        },
        "014f0c4f0bd740239387a5fea2d7943f": {
          "model_module": "@jupyter-widgets/controls",
          "model_name": "FloatProgressModel",
          "state": {
            "_view_name": "ProgressView",
            "style": "IPY_MODEL_731977bbd3144075835af3e775c3d84d",
            "_dom_classes": [],
            "description": "",
            "_model_name": "FloatProgressModel",
            "bar_style": "success",
            "max": 1648877,
            "_view_module": "@jupyter-widgets/controls",
            "_model_module_version": "1.5.0",
            "value": 1648877,
            "_view_count": null,
            "_view_module_version": "1.5.0",
            "orientation": "horizontal",
            "min": 0,
            "description_tooltip": null,
            "_model_module": "@jupyter-widgets/controls",
            "layout": "IPY_MODEL_1634053aeaab42f1ad7f908759320055"
          }
        },
        "b67e1fbda03d495b875d411c20bfd998": {
          "model_module": "@jupyter-widgets/controls",
          "model_name": "HTMLModel",
          "state": {
            "_view_name": "HTMLView",
            "style": "IPY_MODEL_049ccd5aa7a94bbfb00356d5753260ad",
            "_dom_classes": [],
            "description": "",
            "_model_name": "HTMLModel",
            "placeholder": "​",
            "_view_module": "@jupyter-widgets/controls",
            "_model_module_version": "1.5.0",
            "value": " 1649664/? [02:58&lt;00:00, 9262.43it/s]",
            "_view_count": null,
            "_view_module_version": "1.5.0",
            "description_tooltip": null,
            "_model_module": "@jupyter-widgets/controls",
            "layout": "IPY_MODEL_28d9435cab0c479ab8287224356ecd52"
          }
        },
        "731977bbd3144075835af3e775c3d84d": {
          "model_module": "@jupyter-widgets/controls",
          "model_name": "ProgressStyleModel",
          "state": {
            "_view_name": "StyleView",
            "_model_name": "ProgressStyleModel",
            "description_width": "initial",
            "_view_module": "@jupyter-widgets/base",
            "_model_module_version": "1.5.0",
            "_view_count": null,
            "_view_module_version": "1.2.0",
            "bar_color": null,
            "_model_module": "@jupyter-widgets/controls"
          }
        },
        "1634053aeaab42f1ad7f908759320055": {
          "model_module": "@jupyter-widgets/base",
          "model_name": "LayoutModel",
          "state": {
            "_view_name": "LayoutView",
            "grid_template_rows": null,
            "right": null,
            "justify_content": null,
            "_view_module": "@jupyter-widgets/base",
            "overflow": null,
            "_model_module_version": "1.2.0",
            "_view_count": null,
            "flex_flow": null,
            "width": null,
            "min_width": null,
            "border": null,
            "align_items": null,
            "bottom": null,
            "_model_module": "@jupyter-widgets/base",
            "top": null,
            "grid_column": null,
            "overflow_y": null,
            "overflow_x": null,
            "grid_auto_flow": null,
            "grid_area": null,
            "grid_template_columns": null,
            "flex": null,
            "_model_name": "LayoutModel",
            "justify_items": null,
            "grid_row": null,
            "max_height": null,
            "align_content": null,
            "visibility": null,
            "align_self": null,
            "height": null,
            "min_height": null,
            "padding": null,
            "grid_auto_rows": null,
            "grid_gap": null,
            "max_width": null,
            "order": null,
            "_view_module_version": "1.2.0",
            "grid_template_areas": null,
            "object_position": null,
            "object_fit": null,
            "grid_auto_columns": null,
            "margin": null,
            "display": null,
            "left": null
          }
        },
        "049ccd5aa7a94bbfb00356d5753260ad": {
          "model_module": "@jupyter-widgets/controls",
          "model_name": "DescriptionStyleModel",
          "state": {
            "_view_name": "StyleView",
            "_model_name": "DescriptionStyleModel",
            "description_width": "",
            "_view_module": "@jupyter-widgets/base",
            "_model_module_version": "1.5.0",
            "_view_count": null,
            "_view_module_version": "1.2.0",
            "_model_module": "@jupyter-widgets/controls"
          }
        },
        "28d9435cab0c479ab8287224356ecd52": {
          "model_module": "@jupyter-widgets/base",
          "model_name": "LayoutModel",
          "state": {
            "_view_name": "LayoutView",
            "grid_template_rows": null,
            "right": null,
            "justify_content": null,
            "_view_module": "@jupyter-widgets/base",
            "overflow": null,
            "_model_module_version": "1.2.0",
            "_view_count": null,
            "flex_flow": null,
            "width": null,
            "min_width": null,
            "border": null,
            "align_items": null,
            "bottom": null,
            "_model_module": "@jupyter-widgets/base",
            "top": null,
            "grid_column": null,
            "overflow_y": null,
            "overflow_x": null,
            "grid_auto_flow": null,
            "grid_area": null,
            "grid_template_columns": null,
            "flex": null,
            "_model_name": "LayoutModel",
            "justify_items": null,
            "grid_row": null,
            "max_height": null,
            "align_content": null,
            "visibility": null,
            "align_self": null,
            "height": null,
            "min_height": null,
            "padding": null,
            "grid_auto_rows": null,
            "grid_gap": null,
            "max_width": null,
            "order": null,
            "_view_module_version": "1.2.0",
            "grid_template_areas": null,
            "object_position": null,
            "object_fit": null,
            "grid_auto_columns": null,
            "margin": null,
            "display": null,
            "left": null
          }
        },
        "821c0a645379433bb0491766927c1b3f": {
          "model_module": "@jupyter-widgets/controls",
          "model_name": "HBoxModel",
          "state": {
            "_view_name": "HBoxView",
            "_dom_classes": [],
            "_model_name": "HBoxModel",
            "_view_module": "@jupyter-widgets/controls",
            "_model_module_version": "1.5.0",
            "_view_count": null,
            "_view_module_version": "1.5.0",
            "box_style": "",
            "layout": "IPY_MODEL_6eab605fdfd64de29f7d09ae835fec0f",
            "_model_module": "@jupyter-widgets/controls",
            "children": [
              "IPY_MODEL_89eae3a19d1f4f0694d82cdb49ff9670",
              "IPY_MODEL_755139e9f7c54562b69161e92341d419"
            ]
          }
        },
        "6eab605fdfd64de29f7d09ae835fec0f": {
          "model_module": "@jupyter-widgets/base",
          "model_name": "LayoutModel",
          "state": {
            "_view_name": "LayoutView",
            "grid_template_rows": null,
            "right": null,
            "justify_content": null,
            "_view_module": "@jupyter-widgets/base",
            "overflow": null,
            "_model_module_version": "1.2.0",
            "_view_count": null,
            "flex_flow": null,
            "width": null,
            "min_width": null,
            "border": null,
            "align_items": null,
            "bottom": null,
            "_model_module": "@jupyter-widgets/base",
            "top": null,
            "grid_column": null,
            "overflow_y": null,
            "overflow_x": null,
            "grid_auto_flow": null,
            "grid_area": null,
            "grid_template_columns": null,
            "flex": null,
            "_model_name": "LayoutModel",
            "justify_items": null,
            "grid_row": null,
            "max_height": null,
            "align_content": null,
            "visibility": null,
            "align_self": null,
            "height": null,
            "min_height": null,
            "padding": null,
            "grid_auto_rows": null,
            "grid_gap": null,
            "max_width": null,
            "order": null,
            "_view_module_version": "1.2.0",
            "grid_template_areas": null,
            "object_position": null,
            "object_fit": null,
            "grid_auto_columns": null,
            "margin": null,
            "display": null,
            "left": null
          }
        },
        "89eae3a19d1f4f0694d82cdb49ff9670": {
          "model_module": "@jupyter-widgets/controls",
          "model_name": "FloatProgressModel",
          "state": {
            "_view_name": "ProgressView",
            "style": "IPY_MODEL_44f8bee389f44133bb858b5dd6ff66f5",
            "_dom_classes": [],
            "description": "",
            "_model_name": "FloatProgressModel",
            "bar_style": "success",
            "max": 4542,
            "_view_module": "@jupyter-widgets/controls",
            "_model_module_version": "1.5.0",
            "value": 4542,
            "_view_count": null,
            "_view_module_version": "1.5.0",
            "orientation": "horizontal",
            "min": 0,
            "description_tooltip": null,
            "_model_module": "@jupyter-widgets/controls",
            "layout": "IPY_MODEL_07f8a7c4d022469294d9f71fb9e80e1a"
          }
        },
        "755139e9f7c54562b69161e92341d419": {
          "model_module": "@jupyter-widgets/controls",
          "model_name": "HTMLModel",
          "state": {
            "_view_name": "HTMLView",
            "style": "IPY_MODEL_940f359e6caa46cc854f95e9c4156d35",
            "_dom_classes": [],
            "description": "",
            "_model_name": "HTMLModel",
            "placeholder": "​",
            "_view_module": "@jupyter-widgets/controls",
            "_model_module_version": "1.5.0",
            "value": " 5120/? [00:00&lt;00:00, 21963.39it/s]",
            "_view_count": null,
            "_view_module_version": "1.5.0",
            "description_tooltip": null,
            "_model_module": "@jupyter-widgets/controls",
            "layout": "IPY_MODEL_221d9078570146869430c212aa6bb2a2"
          }
        },
        "44f8bee389f44133bb858b5dd6ff66f5": {
          "model_module": "@jupyter-widgets/controls",
          "model_name": "ProgressStyleModel",
          "state": {
            "_view_name": "StyleView",
            "_model_name": "ProgressStyleModel",
            "description_width": "initial",
            "_view_module": "@jupyter-widgets/base",
            "_model_module_version": "1.5.0",
            "_view_count": null,
            "_view_module_version": "1.2.0",
            "bar_color": null,
            "_model_module": "@jupyter-widgets/controls"
          }
        },
        "07f8a7c4d022469294d9f71fb9e80e1a": {
          "model_module": "@jupyter-widgets/base",
          "model_name": "LayoutModel",
          "state": {
            "_view_name": "LayoutView",
            "grid_template_rows": null,
            "right": null,
            "justify_content": null,
            "_view_module": "@jupyter-widgets/base",
            "overflow": null,
            "_model_module_version": "1.2.0",
            "_view_count": null,
            "flex_flow": null,
            "width": null,
            "min_width": null,
            "border": null,
            "align_items": null,
            "bottom": null,
            "_model_module": "@jupyter-widgets/base",
            "top": null,
            "grid_column": null,
            "overflow_y": null,
            "overflow_x": null,
            "grid_auto_flow": null,
            "grid_area": null,
            "grid_template_columns": null,
            "flex": null,
            "_model_name": "LayoutModel",
            "justify_items": null,
            "grid_row": null,
            "max_height": null,
            "align_content": null,
            "visibility": null,
            "align_self": null,
            "height": null,
            "min_height": null,
            "padding": null,
            "grid_auto_rows": null,
            "grid_gap": null,
            "max_width": null,
            "order": null,
            "_view_module_version": "1.2.0",
            "grid_template_areas": null,
            "object_position": null,
            "object_fit": null,
            "grid_auto_columns": null,
            "margin": null,
            "display": null,
            "left": null
          }
        },
        "940f359e6caa46cc854f95e9c4156d35": {
          "model_module": "@jupyter-widgets/controls",
          "model_name": "DescriptionStyleModel",
          "state": {
            "_view_name": "StyleView",
            "_model_name": "DescriptionStyleModel",
            "description_width": "",
            "_view_module": "@jupyter-widgets/base",
            "_model_module_version": "1.5.0",
            "_view_count": null,
            "_view_module_version": "1.2.0",
            "_model_module": "@jupyter-widgets/controls"
          }
        },
        "221d9078570146869430c212aa6bb2a2": {
          "model_module": "@jupyter-widgets/base",
          "model_name": "LayoutModel",
          "state": {
            "_view_name": "LayoutView",
            "grid_template_rows": null,
            "right": null,
            "justify_content": null,
            "_view_module": "@jupyter-widgets/base",
            "overflow": null,
            "_model_module_version": "1.2.0",
            "_view_count": null,
            "flex_flow": null,
            "width": null,
            "min_width": null,
            "border": null,
            "align_items": null,
            "bottom": null,
            "_model_module": "@jupyter-widgets/base",
            "top": null,
            "grid_column": null,
            "overflow_y": null,
            "overflow_x": null,
            "grid_auto_flow": null,
            "grid_area": null,
            "grid_template_columns": null,
            "flex": null,
            "_model_name": "LayoutModel",
            "justify_items": null,
            "grid_row": null,
            "max_height": null,
            "align_content": null,
            "visibility": null,
            "align_self": null,
            "height": null,
            "min_height": null,
            "padding": null,
            "grid_auto_rows": null,
            "grid_gap": null,
            "max_width": null,
            "order": null,
            "_view_module_version": "1.2.0",
            "grid_template_areas": null,
            "object_position": null,
            "object_fit": null,
            "grid_auto_columns": null,
            "margin": null,
            "display": null,
            "left": null
          }
        }
      }
    }
  },
  "cells": [
    {
      "cell_type": "markdown",
      "metadata": {
        "id": "view-in-github",
        "colab_type": "text"
      },
      "source": [
        "<a href=\"https://colab.research.google.com/github/manju838/Pytorch-Implementations/blob/main/pytorch_LeNet5_6.ipynb\" target=\"_parent\"><img src=\"https://colab.research.google.com/assets/colab-badge.svg\" alt=\"Open In Colab\"/></a>"
      ]
    },
    {
      "cell_type": "code",
      "metadata": {
        "id": "5JbSfwZwchPT"
      },
      "source": [
        "import torch \n",
        "from torchvision import datasets, transforms \n",
        "import numpy as np \n",
        "import matplotlib.pyplot as plt \n",
        "import seaborn as sns\n",
        "import torch.nn as nn \n",
        "import torch.nn.functional as F "
      ],
      "execution_count": 1,
      "outputs": []
    },
    {
      "cell_type": "code",
      "metadata": {
        "id": "DV-updTigImo",
        "colab": {
          "base_uri": "https://localhost:8080/",
          "height": 443,
          "referenced_widgets": [
            "6c5c7e08b97a4dabbf91d453eb4bf2fe",
            "a880c3d90dc04cd9afabf4865e57e413",
            "2e73cc47dd944939ba1a3e722cfaa34f",
            "42b7d9f3322c4a1e8a2643bfa2725751",
            "31dd06d01ff34e719bde4b5c85271c3c",
            "d47237000527406585eb8a7812535471",
            "41b533143e3241fb958a6bc18ba3c374",
            "9adc12f97909418d84655f05304dfb1d",
            "5b35f07d0e784a4ca074b5622f6f144a",
            "e2e4c07d206b4be088b814b3c57c0b91",
            "0aa77d6cc1514cb9903c4f3c18b94077",
            "96f0088cc1174b8c9d4995e90465654a",
            "25887c9bef58451987cdf3bdd6fff38e",
            "e19af9c0f0b8481a85dae932e2917f07",
            "7aa5b3f3ac1a46ff8f12f640cf8fd9cd",
            "5e7ccb5b7e8b4109ad3719116559c320",
            "ca406ef160584edc87da66bba6a2a87b",
            "b7b46b8941b1420895cbc03d44c2f397",
            "014f0c4f0bd740239387a5fea2d7943f",
            "b67e1fbda03d495b875d411c20bfd998",
            "731977bbd3144075835af3e775c3d84d",
            "1634053aeaab42f1ad7f908759320055",
            "049ccd5aa7a94bbfb00356d5753260ad",
            "28d9435cab0c479ab8287224356ecd52",
            "821c0a645379433bb0491766927c1b3f",
            "6eab605fdfd64de29f7d09ae835fec0f",
            "89eae3a19d1f4f0694d82cdb49ff9670",
            "755139e9f7c54562b69161e92341d419",
            "44f8bee389f44133bb858b5dd6ff66f5",
            "07f8a7c4d022469294d9f71fb9e80e1a",
            "940f359e6caa46cc854f95e9c4156d35",
            "221d9078570146869430c212aa6bb2a2"
          ]
        },
        "outputId": "9b50146d-9d04-423f-a02b-bd2374006e81"
      },
      "source": [
        "mnist_train = datasets.MNIST(root = \"\",download = True, train = True,transform = transforms.ToTensor())\n",
        "mnist_test = datasets.MNIST(root = \"\",download = True, train = False, transform = transforms.ToTensor())"
      ],
      "execution_count": 3,
      "outputs": [
        {
          "output_type": "stream",
          "text": [
            "Downloading http://yann.lecun.com/exdb/mnist/train-images-idx3-ubyte.gz to MNIST/raw/train-images-idx3-ubyte.gz\n"
          ],
          "name": "stdout"
        },
        {
          "output_type": "display_data",
          "data": {
            "application/vnd.jupyter.widget-view+json": {
              "model_id": "6c5c7e08b97a4dabbf91d453eb4bf2fe",
              "version_minor": 0,
              "version_major": 2
            },
            "text/plain": [
              "HBox(children=(FloatProgress(value=0.0, max=9912422.0), HTML(value='')))"
            ]
          },
          "metadata": {
            "tags": []
          }
        },
        {
          "output_type": "stream",
          "text": [
            "\n",
            "Extracting MNIST/raw/train-images-idx3-ubyte.gz to MNIST/raw\n",
            "Downloading http://yann.lecun.com/exdb/mnist/train-labels-idx1-ubyte.gz to MNIST/raw/train-labels-idx1-ubyte.gz\n"
          ],
          "name": "stdout"
        },
        {
          "output_type": "display_data",
          "data": {
            "application/vnd.jupyter.widget-view+json": {
              "model_id": "5b35f07d0e784a4ca074b5622f6f144a",
              "version_minor": 0,
              "version_major": 2
            },
            "text/plain": [
              "HBox(children=(FloatProgress(value=0.0, max=28881.0), HTML(value='')))"
            ]
          },
          "metadata": {
            "tags": []
          }
        },
        {
          "output_type": "stream",
          "text": [
            "\n",
            "Extracting MNIST/raw/train-labels-idx1-ubyte.gz to MNIST/raw\n",
            "Downloading http://yann.lecun.com/exdb/mnist/t10k-images-idx3-ubyte.gz to MNIST/raw/t10k-images-idx3-ubyte.gz\n"
          ],
          "name": "stdout"
        },
        {
          "output_type": "display_data",
          "data": {
            "application/vnd.jupyter.widget-view+json": {
              "model_id": "ca406ef160584edc87da66bba6a2a87b",
              "version_minor": 0,
              "version_major": 2
            },
            "text/plain": [
              "HBox(children=(FloatProgress(value=0.0, max=1648877.0), HTML(value='')))"
            ]
          },
          "metadata": {
            "tags": []
          }
        },
        {
          "output_type": "stream",
          "text": [
            "\n",
            "Extracting MNIST/raw/t10k-images-idx3-ubyte.gz to MNIST/raw\n",
            "Downloading http://yann.lecun.com/exdb/mnist/t10k-labels-idx1-ubyte.gz to MNIST/raw/t10k-labels-idx1-ubyte.gz\n"
          ],
          "name": "stdout"
        },
        {
          "output_type": "display_data",
          "data": {
            "application/vnd.jupyter.widget-view+json": {
              "model_id": "821c0a645379433bb0491766927c1b3f",
              "version_minor": 0,
              "version_major": 2
            },
            "text/plain": [
              "HBox(children=(FloatProgress(value=0.0, max=4542.0), HTML(value='')))"
            ]
          },
          "metadata": {
            "tags": []
          }
        },
        {
          "output_type": "stream",
          "text": [
            "\n",
            "Extracting MNIST/raw/t10k-labels-idx1-ubyte.gz to MNIST/raw\n",
            "Processing...\n",
            "Done!\n"
          ],
          "name": "stdout"
        },
        {
          "output_type": "stream",
          "text": [
            "/usr/local/lib/python3.7/dist-packages/torchvision/datasets/mnist.py:479: UserWarning: The given NumPy array is not writeable, and PyTorch does not support non-writeable tensors. This means you can write to the underlying (supposedly non-writeable) NumPy array using the tensor. You may want to copy the array to protect its data or make it writeable before converting it to a tensor. This type of warning will be suppressed for the rest of this program. (Triggered internally at  /pytorch/torch/csrc/utils/tensor_numpy.cpp:143.)\n",
            "  return torch.from_numpy(parsed.astype(m[2], copy=False)).view(*s)\n"
          ],
          "name": "stderr"
        }
      ]
    },
    {
      "cell_type": "code",
      "metadata": {
        "id": "G5g-g6tqgIwg"
      },
      "source": [
        "mnist_trainloader = torch.utils.data.DataLoader(mnist_train, batch_size = 10, shuffle = True)\n",
        "mnist_testloader = torch.utils.data.DataLoader(mnist_test, batch_size = 10, shuffle = True)"
      ],
      "execution_count": 4,
      "outputs": []
    },
    {
      "cell_type": "code",
      "metadata": {
        "id": "pkK1yTclcry_"
      },
      "source": [
        "class LeNet(nn.Module):\n",
        "  def __init__(self):\n",
        "    super().__init__()\n",
        "    self.conv1 = nn.Conv2d(in_channels = 1, out_channels = 6, kernel_size = 5, stride=1)\n",
        "    self.conv2 = nn.Conv2d(in_channels = 6, out_channels = 16, kernel_size = 5, stride=1)\n",
        "    self.conv3 = nn.Conv2d(in_channels = 16, out_channels = 120, kernel_size = 5, stride=1)\n",
        "    self.pool1 = nn.AvgPool2d(kernel_size = 2, stride=2)\n",
        "    self.pool2 = nn.AvgPool2d(kernel_size = 2, stride=2)\n",
        "    self.fc1 = nn.Linear(120,84)\n",
        "    self.fc2 = nn.Linear(84,10)\n",
        "  \n",
        "  def forward(self, x):\n",
        "    x = torch.tanh(self.pool1(torch.tanh(self.conv1(x))))\n",
        "    x = self.conv3(torch.tanh(self.pool2(torch.tanh(self.conv2(x)))))\n",
        "    x = torch.tanh(self.fc1(x.view(-1,120)))\n",
        "    x = nn.Softmax(self.fc2(x))\n",
        "    return(x)\n"
      ],
      "execution_count": 24,
      "outputs": []
    },
    {
      "cell_type": "code",
      "metadata": {
        "id": "TFqkOvJAcr1e",
        "colab": {
          "base_uri": "https://localhost:8080/"
        },
        "outputId": "866def84-9c17-406c-c0f9-2b9c14078127"
      },
      "source": [
        "x = torch.randn(64, 1, 32, 32)\n",
        "model = LeNet()\n",
        "model(x)"
      ],
      "execution_count": 25,
      "outputs": [
        {
          "output_type": "execute_result",
          "data": {
            "text/plain": [
              "Softmax(\n",
              "  dim=tensor([[ 1.1183e-01,  1.1243e-02,  2.9660e-02, -8.5716e-02,  1.2787e-02,\n",
              "            4.1595e-02,  6.6436e-02, -8.0315e-02,  1.1355e-02, -3.5073e-02],\n",
              "          [ 1.1652e-01,  1.4541e-02,  3.5791e-02, -7.9753e-02,  2.3147e-02,\n",
              "            4.6768e-02,  7.6869e-02, -8.6405e-02,  9.0649e-03, -2.5391e-02],\n",
              "          [ 1.2423e-01,  1.9364e-02,  2.8922e-02, -1.1488e-01,  5.5121e-03,\n",
              "            2.6705e-02,  8.5089e-02, -1.0894e-01,  1.9203e-02, -2.1891e-02],\n",
              "          [ 1.1429e-01,  1.3154e-02,  3.9950e-02, -1.0993e-01,  1.4614e-02,\n",
              "            4.4306e-02,  7.0286e-02, -7.5060e-02, -1.3161e-03, -5.6706e-02],\n",
              "          [ 1.3796e-01,  1.3896e-02,  4.4189e-02, -1.0562e-01,  1.0592e-02,\n",
              "            4.6191e-02,  8.9830e-02, -1.0176e-01,  1.4904e-02, -1.7575e-02],\n",
              "          [ 1.2296e-01,  2.7855e-02,  3.1735e-02, -9.7863e-02,  9.1696e-03,\n",
              "            4.5337e-02,  7.2635e-02, -8.7407e-02,  8.8215e-03, -3.2071e-02],\n",
              "          [ 1.3622e-01,  4.2037e-03,  2.5261e-02, -1.0248e-01, -9.5506e-03,\n",
              "            3.6420e-02,  7.8034e-02, -9.8039e-02, -8.4698e-03, -3.1548e-02],\n",
              "          [ 1.2961e-01, -9.0547e-03,  3.3903e-02, -9.5850e-02,  1.6460e-02,\n",
              "            5.1753e-02,  7.7708e-02, -7.1425e-02,  1.6247e-03, -1.6907e-02],\n",
              "          [ 1.1304e-01,  1.7247e-02,  2.2662e-02, -9.2780e-02,  2.1928e-02,\n",
              "            4.2033e-02,  8.1561e-02, -8.2389e-02,  5.6187e-03, -2.8965e-02],\n",
              "          [ 1.0839e-01,  1.9872e-02,  3.8189e-02, -9.2637e-02,  4.6115e-03,\n",
              "            4.7067e-02,  5.7782e-02, -8.3529e-02,  7.4260e-03, -2.5559e-02],\n",
              "          [ 1.0614e-01, -1.0280e-02,  3.1784e-02, -8.1870e-02,  2.0723e-02,\n",
              "            6.6401e-02,  7.8279e-02, -7.4349e-02, -8.3980e-04, -2.3889e-02],\n",
              "          [ 8.6970e-02,  1.2011e-02,  3.0296e-02, -8.5503e-02,  1.9758e-02,\n",
              "            4.8172e-02,  7.0626e-02, -7.2203e-02, -1.9507e-03, -3.7136e-02],\n",
              "          [ 1.1856e-01,  1.4035e-02,  3.3411e-02, -8.0199e-02,  1.9289e-02,\n",
              "            4.7997e-02,  6.6915e-02, -9.6164e-02, -1.2277e-02, -3.7037e-02],\n",
              "          [ 1.0839e-01, -6.9632e-03,  3.5709e-02, -8.4481e-02,  2.0743e-02,\n",
              "            5.8660e-02,  8.2058e-02, -6.0952e-02, -1.7386e-03, -1.3320e-02],\n",
              "          [ 1.1531e-01,  2.4362e-02,  3.0190e-02, -1.0172e-01,  2.6161e-02,\n",
              "            3.3924e-02,  6.7652e-02, -9.9570e-02,  1.1276e-04, -3.7607e-02],\n",
              "          [ 1.1900e-01,  1.3140e-02,  4.6132e-02, -9.7639e-02,  7.0264e-03,\n",
              "            5.4175e-02,  7.6777e-02, -8.4791e-02, -1.3070e-02, -3.8336e-02],\n",
              "          [ 1.1591e-01,  1.1743e-02,  3.4963e-02, -8.3365e-02,  4.9537e-03,\n",
              "            4.8600e-02,  8.8080e-02, -9.2445e-02,  1.1296e-02, -2.4907e-02],\n",
              "          [ 1.3350e-01,  1.1963e-02,  2.5579e-02, -1.0310e-01,  1.4520e-03,\n",
              "            2.5040e-02,  8.5415e-02, -9.8773e-02, -2.4779e-03, -2.8649e-02],\n",
              "          [ 1.2195e-01,  4.8182e-03,  3.5325e-02, -8.5665e-02,  1.1060e-02,\n",
              "            6.1029e-02,  5.2509e-02, -7.3725e-02, -1.5058e-02, -2.2601e-02],\n",
              "          [ 1.0517e-01,  1.6218e-02,  2.2158e-02, -1.0676e-01,  1.2425e-02,\n",
              "            3.1014e-02,  8.6989e-02, -9.9238e-02,  6.6023e-03, -2.5232e-02],\n",
              "          [ 1.2736e-01, -4.7766e-03,  3.9644e-02, -7.9819e-02,  7.3350e-03,\n",
              "            5.5505e-02,  7.8881e-02, -9.2027e-02, -6.6715e-03, -2.8832e-02],\n",
              "          [ 1.0429e-01,  1.9345e-02,  3.6602e-02, -1.0385e-01,  2.0333e-02,\n",
              "            3.6795e-02,  6.6736e-02, -8.7775e-02,  9.0221e-03, -2.7450e-02],\n",
              "          [ 9.9806e-02,  8.1790e-03,  2.2706e-02, -9.7448e-02,  2.2396e-02,\n",
              "            3.4336e-02,  7.2694e-02, -8.6997e-02,  4.7651e-03, -2.3805e-02],\n",
              "          [ 1.2515e-01,  3.5917e-03,  2.9662e-02, -7.5189e-02,  4.4547e-03,\n",
              "            5.4437e-02,  9.1106e-02, -7.8656e-02,  3.5768e-03, -2.7335e-02],\n",
              "          [ 1.1459e-01,  1.3391e-02,  3.5930e-02, -8.2063e-02,  5.3743e-03,\n",
              "            5.1352e-02,  7.7229e-02, -8.9671e-02,  9.4975e-03, -2.8445e-02],\n",
              "          [ 1.2013e-01,  5.2742e-03,  2.9808e-02, -8.6216e-02,  1.0011e-02,\n",
              "            3.3407e-02,  7.4437e-02, -9.8497e-02,  4.4872e-03, -1.8108e-02],\n",
              "          [ 1.1942e-01,  1.6754e-02,  1.2776e-02, -9.9543e-02,  1.6904e-03,\n",
              "            3.8242e-02,  8.7309e-02, -9.4173e-02,  4.8207e-04, -4.2168e-02],\n",
              "          [ 1.1692e-01,  9.0624e-03,  3.4614e-02, -8.1264e-02,  1.8192e-02,\n",
              "            5.9154e-02,  7.3892e-02, -8.1950e-02,  4.8767e-03, -3.8628e-02],\n",
              "          [ 9.4579e-02,  7.3591e-03,  2.6754e-02, -8.3238e-02,  2.8909e-02,\n",
              "            4.8025e-02,  7.9980e-02, -7.7922e-02, -5.0973e-04, -3.5769e-02],\n",
              "          [ 1.3243e-01,  1.1565e-02,  2.8523e-02, -8.7934e-02,  1.1490e-02,\n",
              "            2.9363e-02,  7.9988e-02, -9.0885e-02, -2.8941e-04, -1.8974e-02],\n",
              "          [ 1.0699e-01, -1.4346e-02,  4.6411e-02, -9.9498e-02,  2.5524e-02,\n",
              "            4.5498e-02,  7.6330e-02, -7.9797e-02,  3.0674e-04, -3.3826e-02],\n",
              "          [ 1.2351e-01,  1.6074e-02,  1.7012e-02, -1.1149e-01,  1.4161e-02,\n",
              "            5.1402e-02,  8.7997e-02, -8.9179e-02,  7.0050e-03, -3.9380e-02],\n",
              "          [ 9.9387e-02, -9.9971e-03,  3.8566e-02, -7.1218e-02,  1.2152e-02,\n",
              "            4.9596e-02,  7.2583e-02, -8.0965e-02, -7.0172e-03, -4.5178e-02],\n",
              "          [ 1.2253e-01, -7.8397e-03,  2.2789e-02, -9.4970e-02,  9.3541e-03,\n",
              "            6.1090e-02,  8.5883e-02, -8.9250e-02, -1.2198e-02, -2.1381e-02],\n",
              "          [ 1.0724e-01,  1.4839e-02,  2.5081e-02, -1.0558e-01,  1.2541e-02,\n",
              "            4.4207e-02,  8.7473e-02, -8.3732e-02, -1.1553e-02, -9.7430e-03],\n",
              "          [ 1.2317e-01,  9.9860e-03,  4.2822e-02, -1.0029e-01, -2.0814e-04,\n",
              "            5.1715e-02,  6.9056e-02, -9.5605e-02,  2.5039e-04, -3.4458e-02],\n",
              "          [ 1.1094e-01, -7.7716e-03,  3.2155e-02, -8.5879e-02,  1.0124e-02,\n",
              "            6.7811e-02,  7.2426e-02, -8.8774e-02, -9.4832e-03, -4.4123e-02],\n",
              "          [ 1.2656e-01, -5.6155e-04,  2.7861e-02, -8.7846e-02,  7.6468e-03,\n",
              "            4.8808e-02,  6.1206e-02, -9.1860e-02,  4.4734e-03, -2.5024e-02],\n",
              "          [ 1.1666e-01, -2.1000e-02,  2.1577e-02, -1.0017e-01,  9.1911e-03,\n",
              "            4.0668e-02,  7.8396e-02, -7.5883e-02, -5.1246e-03, -4.7579e-02],\n",
              "          [ 1.0376e-01,  3.1097e-03,  2.4353e-02, -7.3747e-02,  1.6892e-02,\n",
              "            3.9972e-02,  6.9721e-02, -8.0726e-02, -7.3738e-03, -3.6950e-02],\n",
              "          [ 1.2232e-01, -3.7969e-03,  2.6173e-02, -8.1993e-02,  6.5704e-03,\n",
              "            4.2564e-02,  6.9235e-02, -9.6569e-02, -4.1770e-03, -3.0115e-02],\n",
              "          [ 1.2195e-01,  1.1254e-02,  1.9756e-02, -1.0355e-01,  1.4454e-03,\n",
              "            4.3109e-02,  8.5538e-02, -9.8974e-02, -7.2211e-04, -2.4345e-02],\n",
              "          [ 1.2597e-01,  2.9716e-03,  4.3488e-02, -8.3933e-02,  2.9769e-03,\n",
              "            5.9710e-02,  7.4107e-02, -8.5852e-02, -1.5295e-02, -1.8331e-02],\n",
              "          [ 9.4094e-02,  6.7197e-03,  3.6034e-02, -6.8748e-02,  1.6984e-02,\n",
              "            5.4455e-02,  4.6609e-02, -9.0896e-02,  1.1669e-02, -2.6707e-02],\n",
              "          [ 1.3785e-01, -7.0452e-03,  4.3202e-02, -9.7051e-02,  4.1798e-03,\n",
              "            5.1262e-02,  7.7702e-02, -9.5171e-02, -6.3289e-04, -1.3227e-02],\n",
              "          [ 1.1623e-01,  5.5830e-03,  3.2748e-02, -8.3461e-02, -1.2759e-04,\n",
              "            5.4908e-02,  7.8075e-02, -7.8804e-02, -1.1370e-02, -2.6901e-02],\n",
              "          [ 1.1216e-01,  6.6956e-04,  3.3702e-02, -9.4870e-02,  1.7494e-02,\n",
              "            4.5196e-02,  7.4060e-02, -9.4020e-02,  2.0835e-04, -3.9564e-02],\n",
              "          [ 1.0068e-01,  2.0596e-02,  2.8473e-02, -1.0356e-01,  1.5140e-02,\n",
              "            6.1205e-02,  7.7766e-02, -9.8371e-02,  8.3706e-03, -7.8918e-03],\n",
              "          [ 1.1471e-01,  1.4404e-03,  2.3712e-02, -7.9543e-02, -2.3426e-03,\n",
              "            3.4776e-02,  8.1496e-02, -8.4589e-02,  1.4807e-03, -4.1554e-02],\n",
              "          [ 1.2182e-01,  5.5749e-03,  3.7445e-02, -1.0232e-01,  4.1853e-03,\n",
              "            4.7938e-02,  8.6566e-02, -9.3346e-02, -8.8270e-03, -3.3087e-02],\n",
              "          [ 1.2666e-01,  6.3757e-03,  2.3947e-02, -9.3105e-02,  7.4539e-04,\n",
              "            3.3842e-02,  8.2841e-02, -9.6632e-02,  9.9627e-03, -3.1240e-02],\n",
              "          [ 1.0608e-01,  5.0730e-03,  4.1687e-02, -7.6913e-02,  1.4009e-02,\n",
              "            1.8726e-02,  6.9472e-02, -7.9346e-02,  6.5500e-03, -3.9770e-02],\n",
              "          [ 1.0903e-01,  6.8724e-03,  3.6556e-02, -9.7676e-02,  1.3080e-02,\n",
              "            2.8401e-02,  7.8943e-02, -9.8577e-02,  3.9968e-03, -3.9550e-02],\n",
              "          [ 1.0046e-01, -6.5964e-03,  3.5782e-02, -7.8948e-02,  3.2204e-02,\n",
              "            4.6970e-02,  5.8718e-02, -7.3426e-02,  1.9819e-06, -2.1082e-02],\n",
              "          [ 1.3044e-01,  6.3865e-05,  4.5862e-02, -9.5901e-02,  1.0356e-02,\n",
              "            6.1354e-02,  7.8580e-02, -9.3904e-02, -5.9569e-03, -1.9581e-02],\n",
              "          [ 1.2798e-01, -5.8524e-03,  3.3405e-02, -1.0264e-01,  4.7342e-03,\n",
              "            5.7143e-02,  8.6180e-02, -7.5067e-02, -9.4380e-03, -2.6004e-02],\n",
              "          [ 1.2452e-01,  6.5893e-03,  3.2542e-02, -8.9045e-02,  4.5712e-03,\n",
              "            3.6463e-02,  8.5337e-02, -8.5613e-02,  1.3104e-02, -2.7078e-02],\n",
              "          [ 1.1422e-01,  1.2378e-02,  2.0758e-02, -7.7276e-02,  1.8361e-02,\n",
              "            4.2407e-02,  7.8999e-02, -9.9932e-02,  5.8263e-03, -2.2623e-02],\n",
              "          [ 1.1172e-01, -6.0229e-03,  4.2208e-02, -7.5123e-02,  1.2007e-02,\n",
              "            4.9664e-02,  5.8372e-02, -7.8337e-02,  1.2378e-03, -2.1426e-02],\n",
              "          [ 1.2878e-01, -1.5495e-02,  2.6368e-02, -9.8883e-02,  6.1890e-03,\n",
              "            3.1354e-02,  8.2759e-02, -1.0146e-01,  3.6697e-03, -3.4583e-02],\n",
              "          [ 1.0659e-01,  1.9240e-02,  2.5454e-02, -8.0303e-02,  1.9719e-02,\n",
              "            5.5592e-02,  6.2705e-02, -7.4246e-02, -1.0744e-02, -2.7697e-02],\n",
              "          [ 1.0758e-01,  1.6749e-02,  2.3973e-02, -9.2981e-02,  1.9091e-02,\n",
              "            3.6898e-02,  6.7006e-02, -9.9393e-02, -2.5308e-03,  1.9485e-04],\n",
              "          [ 1.2765e-01,  1.5127e-02,  3.8577e-02, -1.0608e-01,  8.8543e-03,\n",
              "            4.9906e-02,  9.7709e-02, -1.0228e-01,  1.1779e-02, -2.8800e-02],\n",
              "          [ 1.1736e-01,  2.7393e-03,  4.8617e-02, -7.7002e-02, -3.3293e-04,\n",
              "            3.2105e-02,  6.8657e-02, -8.9468e-02, -1.1954e-04, -1.2226e-02]],\n",
              "         grad_fn=<AddmmBackward>)\n",
              ")"
            ]
          },
          "metadata": {
            "tags": []
          },
          "execution_count": 25
        }
      ]
    },
    {
      "cell_type": "code",
      "metadata": {
        "id": "zmhSFO62cr4f"
      },
      "source": [
        "device = torch.device('cuda' if torch.cuda.is_available() else 'cpu')"
      ],
      "execution_count": 17,
      "outputs": []
    },
    {
      "cell_type": "code",
      "metadata": {
        "id": "ebnJvnBvcr7F"
      },
      "source": [
        "model = LeNet().to(device=device)"
      ],
      "execution_count": 18,
      "outputs": []
    },
    {
      "cell_type": "code",
      "metadata": {
        "id": "FCQMAS2Wcr-K",
        "colab": {
          "base_uri": "https://localhost:8080/"
        },
        "outputId": "55ea27bb-f2ee-4dfd-a173-9c2002b2ed04"
      },
      "source": [
        "model"
      ],
      "execution_count": 19,
      "outputs": [
        {
          "output_type": "execute_result",
          "data": {
            "text/plain": [
              "LeNet(\n",
              "  (conv1): Conv2d(1, 6, kernel_size=(5, 5), stride=(1, 1))\n",
              "  (conv2): Conv2d(6, 16, kernel_size=(5, 5), stride=(1, 1))\n",
              "  (conv3): Conv2d(16, 120, kernel_size=(5, 5), stride=(1, 1))\n",
              "  (pool1): AvgPool2d(kernel_size=2, stride=2, padding=0)\n",
              "  (pool2): AvgPool2d(kernel_size=2, stride=2, padding=0)\n",
              "  (fc1): Linear(in_features=120, out_features=84, bias=True)\n",
              "  (fc2): Linear(in_features=84, out_features=10, bias=True)\n",
              ")"
            ]
          },
          "metadata": {
            "tags": []
          },
          "execution_count": 19
        }
      ]
    },
    {
      "cell_type": "code",
      "metadata": {
        "id": "AyKZNy0_csA1"
      },
      "source": [
        "import torch.optim as optim\n",
        "criterion = nn.CrossEntropyLoss()\n",
        "optimizer = torch.optim.Adam(model.parameters(), lr = 0.0001)"
      ],
      "execution_count": 20,
      "outputs": []
    },
    {
      "cell_type": "code",
      "metadata": {
        "id": "wGyFiuorcsDw",
        "colab": {
          "base_uri": "https://localhost:8080/",
          "height": 869
        },
        "outputId": "3dcbf836-dfd5-4204-f0c9-73d670c9297e"
      },
      "source": [
        "for epoch in range(10):\n",
        "    for img,lbl in mnist_trainloader:\n",
        "        img = img.to(device=device)\n",
        "        lbl = lbl.to(device=device)\n",
        "        y_pred = model(img)\n",
        "        loss = criterion(y_pred, lbl)\n",
        "        loss.backward() #Calculates the gradient\n",
        "        optimizer.step() #Updates weights\n",
        "        optimizer.zero_grad() #To prevet gradient accumulation\n",
        "    \n",
        "    if(epoch % 2 ==0): \n",
        "        model.eval()\n",
        "        correct = 0\n",
        "        total = 0\n",
        "        for img,lbl in mnist_trainloader:\n",
        "            img = img.to(device=device)\n",
        "            lbl = lbl.to(device=device)\n",
        "            y_pred = model(img)\n",
        "            preds = torch.argmax(y_pred, 1)\n",
        "            correct += (preds == lbl).sum()\n",
        "            total += len(lbl)\n",
        "        print(epoch, correct/total)\n"
      ],
      "execution_count": 21,
      "outputs": [
        {
          "output_type": "error",
          "ename": "RuntimeError",
          "evalue": "ignored",
          "traceback": [
            "\u001b[0;31m---------------------------------------------------------------------------\u001b[0m",
            "\u001b[0;31mRuntimeError\u001b[0m                              Traceback (most recent call last)",
            "\u001b[0;32m<ipython-input-21-af26098dfe7b>\u001b[0m in \u001b[0;36m<module>\u001b[0;34m()\u001b[0m\n\u001b[1;32m      3\u001b[0m         \u001b[0mimg\u001b[0m \u001b[0;34m=\u001b[0m \u001b[0mimg\u001b[0m\u001b[0;34m.\u001b[0m\u001b[0mto\u001b[0m\u001b[0;34m(\u001b[0m\u001b[0mdevice\u001b[0m\u001b[0;34m=\u001b[0m\u001b[0mdevice\u001b[0m\u001b[0;34m)\u001b[0m\u001b[0;34m\u001b[0m\u001b[0;34m\u001b[0m\u001b[0m\n\u001b[1;32m      4\u001b[0m         \u001b[0mlbl\u001b[0m \u001b[0;34m=\u001b[0m \u001b[0mlbl\u001b[0m\u001b[0;34m.\u001b[0m\u001b[0mto\u001b[0m\u001b[0;34m(\u001b[0m\u001b[0mdevice\u001b[0m\u001b[0;34m=\u001b[0m\u001b[0mdevice\u001b[0m\u001b[0;34m)\u001b[0m\u001b[0;34m\u001b[0m\u001b[0;34m\u001b[0m\u001b[0m\n\u001b[0;32m----> 5\u001b[0;31m         \u001b[0my_pred\u001b[0m \u001b[0;34m=\u001b[0m \u001b[0mmodel\u001b[0m\u001b[0;34m(\u001b[0m\u001b[0mimg\u001b[0m\u001b[0;34m)\u001b[0m\u001b[0;34m\u001b[0m\u001b[0;34m\u001b[0m\u001b[0m\n\u001b[0m\u001b[1;32m      6\u001b[0m         \u001b[0mloss\u001b[0m \u001b[0;34m=\u001b[0m \u001b[0mcriterion\u001b[0m\u001b[0;34m(\u001b[0m\u001b[0my_pred\u001b[0m\u001b[0;34m,\u001b[0m \u001b[0mlbl\u001b[0m\u001b[0;34m)\u001b[0m\u001b[0;34m\u001b[0m\u001b[0;34m\u001b[0m\u001b[0m\n\u001b[1;32m      7\u001b[0m         \u001b[0mloss\u001b[0m\u001b[0;34m.\u001b[0m\u001b[0mbackward\u001b[0m\u001b[0;34m(\u001b[0m\u001b[0;34m)\u001b[0m \u001b[0;31m#Calculates the gradient\u001b[0m\u001b[0;34m\u001b[0m\u001b[0;34m\u001b[0m\u001b[0m\n",
            "\u001b[0;32m/usr/local/lib/python3.7/dist-packages/torch/nn/modules/module.py\u001b[0m in \u001b[0;36m_call_impl\u001b[0;34m(self, *input, **kwargs)\u001b[0m\n\u001b[1;32m    887\u001b[0m             \u001b[0mresult\u001b[0m \u001b[0;34m=\u001b[0m \u001b[0mself\u001b[0m\u001b[0;34m.\u001b[0m\u001b[0m_slow_forward\u001b[0m\u001b[0;34m(\u001b[0m\u001b[0;34m*\u001b[0m\u001b[0minput\u001b[0m\u001b[0;34m,\u001b[0m \u001b[0;34m**\u001b[0m\u001b[0mkwargs\u001b[0m\u001b[0;34m)\u001b[0m\u001b[0;34m\u001b[0m\u001b[0;34m\u001b[0m\u001b[0m\n\u001b[1;32m    888\u001b[0m         \u001b[0;32melse\u001b[0m\u001b[0;34m:\u001b[0m\u001b[0;34m\u001b[0m\u001b[0;34m\u001b[0m\u001b[0m\n\u001b[0;32m--> 889\u001b[0;31m             \u001b[0mresult\u001b[0m \u001b[0;34m=\u001b[0m \u001b[0mself\u001b[0m\u001b[0;34m.\u001b[0m\u001b[0mforward\u001b[0m\u001b[0;34m(\u001b[0m\u001b[0;34m*\u001b[0m\u001b[0minput\u001b[0m\u001b[0;34m,\u001b[0m \u001b[0;34m**\u001b[0m\u001b[0mkwargs\u001b[0m\u001b[0;34m)\u001b[0m\u001b[0;34m\u001b[0m\u001b[0;34m\u001b[0m\u001b[0m\n\u001b[0m\u001b[1;32m    890\u001b[0m         for hook in itertools.chain(\n\u001b[1;32m    891\u001b[0m                 \u001b[0m_global_forward_hooks\u001b[0m\u001b[0;34m.\u001b[0m\u001b[0mvalues\u001b[0m\u001b[0;34m(\u001b[0m\u001b[0;34m)\u001b[0m\u001b[0;34m,\u001b[0m\u001b[0;34m\u001b[0m\u001b[0;34m\u001b[0m\u001b[0m\n",
            "\u001b[0;32m<ipython-input-15-cc07f5baec61>\u001b[0m in \u001b[0;36mforward\u001b[0;34m(self, x)\u001b[0m\n\u001b[1;32m     12\u001b[0m   \u001b[0;32mdef\u001b[0m \u001b[0mforward\u001b[0m\u001b[0;34m(\u001b[0m\u001b[0mself\u001b[0m\u001b[0;34m,\u001b[0m \u001b[0mx\u001b[0m\u001b[0;34m)\u001b[0m\u001b[0;34m:\u001b[0m\u001b[0;34m\u001b[0m\u001b[0;34m\u001b[0m\u001b[0m\n\u001b[1;32m     13\u001b[0m     \u001b[0mx\u001b[0m \u001b[0;34m=\u001b[0m \u001b[0mtorch\u001b[0m\u001b[0;34m.\u001b[0m\u001b[0mtanh\u001b[0m\u001b[0;34m(\u001b[0m\u001b[0mself\u001b[0m\u001b[0;34m.\u001b[0m\u001b[0mpool1\u001b[0m\u001b[0;34m(\u001b[0m\u001b[0mtorch\u001b[0m\u001b[0;34m.\u001b[0m\u001b[0mtanh\u001b[0m\u001b[0;34m(\u001b[0m\u001b[0mself\u001b[0m\u001b[0;34m.\u001b[0m\u001b[0mconv1\u001b[0m\u001b[0;34m(\u001b[0m\u001b[0mx\u001b[0m\u001b[0;34m)\u001b[0m\u001b[0;34m)\u001b[0m\u001b[0;34m)\u001b[0m\u001b[0;34m)\u001b[0m\u001b[0;34m\u001b[0m\u001b[0;34m\u001b[0m\u001b[0m\n\u001b[0;32m---> 14\u001b[0;31m     \u001b[0mx\u001b[0m \u001b[0;34m=\u001b[0m \u001b[0mself\u001b[0m\u001b[0;34m.\u001b[0m\u001b[0mconv3\u001b[0m\u001b[0;34m(\u001b[0m\u001b[0mtorch\u001b[0m\u001b[0;34m.\u001b[0m\u001b[0mtanh\u001b[0m\u001b[0;34m(\u001b[0m\u001b[0mself\u001b[0m\u001b[0;34m.\u001b[0m\u001b[0mpool2\u001b[0m\u001b[0;34m(\u001b[0m\u001b[0mtorch\u001b[0m\u001b[0;34m.\u001b[0m\u001b[0mtanh\u001b[0m\u001b[0;34m(\u001b[0m\u001b[0mself\u001b[0m\u001b[0;34m.\u001b[0m\u001b[0mconv2\u001b[0m\u001b[0;34m(\u001b[0m\u001b[0mx\u001b[0m\u001b[0;34m)\u001b[0m\u001b[0;34m)\u001b[0m\u001b[0;34m)\u001b[0m\u001b[0;34m)\u001b[0m\u001b[0;34m)\u001b[0m\u001b[0;34m\u001b[0m\u001b[0;34m\u001b[0m\u001b[0m\n\u001b[0m\u001b[1;32m     15\u001b[0m     \u001b[0mx\u001b[0m \u001b[0;34m=\u001b[0m \u001b[0mtorch\u001b[0m\u001b[0;34m.\u001b[0m\u001b[0mtanh\u001b[0m\u001b[0;34m(\u001b[0m\u001b[0mself\u001b[0m\u001b[0;34m.\u001b[0m\u001b[0mfc1\u001b[0m\u001b[0;34m(\u001b[0m\u001b[0mx\u001b[0m\u001b[0;34m.\u001b[0m\u001b[0mview\u001b[0m\u001b[0;34m(\u001b[0m\u001b[0;34m-\u001b[0m\u001b[0;36m1\u001b[0m\u001b[0;34m,\u001b[0m\u001b[0;36m120\u001b[0m\u001b[0;34m)\u001b[0m\u001b[0;34m)\u001b[0m\u001b[0;34m)\u001b[0m\u001b[0;34m\u001b[0m\u001b[0;34m\u001b[0m\u001b[0m\n\u001b[1;32m     16\u001b[0m     \u001b[0mx\u001b[0m \u001b[0;34m=\u001b[0m \u001b[0mnn\u001b[0m\u001b[0;34m.\u001b[0m\u001b[0mSoftmax\u001b[0m\u001b[0;34m(\u001b[0m\u001b[0mself\u001b[0m\u001b[0;34m.\u001b[0m\u001b[0mfc2\u001b[0m\u001b[0;34m(\u001b[0m\u001b[0mx\u001b[0m\u001b[0;34m)\u001b[0m\u001b[0;34m)\u001b[0m\u001b[0;34m\u001b[0m\u001b[0;34m\u001b[0m\u001b[0m\n",
            "\u001b[0;32m/usr/local/lib/python3.7/dist-packages/torch/nn/modules/module.py\u001b[0m in \u001b[0;36m_call_impl\u001b[0;34m(self, *input, **kwargs)\u001b[0m\n\u001b[1;32m    887\u001b[0m             \u001b[0mresult\u001b[0m \u001b[0;34m=\u001b[0m \u001b[0mself\u001b[0m\u001b[0;34m.\u001b[0m\u001b[0m_slow_forward\u001b[0m\u001b[0;34m(\u001b[0m\u001b[0;34m*\u001b[0m\u001b[0minput\u001b[0m\u001b[0;34m,\u001b[0m \u001b[0;34m**\u001b[0m\u001b[0mkwargs\u001b[0m\u001b[0;34m)\u001b[0m\u001b[0;34m\u001b[0m\u001b[0;34m\u001b[0m\u001b[0m\n\u001b[1;32m    888\u001b[0m         \u001b[0;32melse\u001b[0m\u001b[0;34m:\u001b[0m\u001b[0;34m\u001b[0m\u001b[0;34m\u001b[0m\u001b[0m\n\u001b[0;32m--> 889\u001b[0;31m             \u001b[0mresult\u001b[0m \u001b[0;34m=\u001b[0m \u001b[0mself\u001b[0m\u001b[0;34m.\u001b[0m\u001b[0mforward\u001b[0m\u001b[0;34m(\u001b[0m\u001b[0;34m*\u001b[0m\u001b[0minput\u001b[0m\u001b[0;34m,\u001b[0m \u001b[0;34m**\u001b[0m\u001b[0mkwargs\u001b[0m\u001b[0;34m)\u001b[0m\u001b[0;34m\u001b[0m\u001b[0;34m\u001b[0m\u001b[0m\n\u001b[0m\u001b[1;32m    890\u001b[0m         for hook in itertools.chain(\n\u001b[1;32m    891\u001b[0m                 \u001b[0m_global_forward_hooks\u001b[0m\u001b[0;34m.\u001b[0m\u001b[0mvalues\u001b[0m\u001b[0;34m(\u001b[0m\u001b[0;34m)\u001b[0m\u001b[0;34m,\u001b[0m\u001b[0;34m\u001b[0m\u001b[0;34m\u001b[0m\u001b[0m\n",
            "\u001b[0;32m/usr/local/lib/python3.7/dist-packages/torch/nn/modules/conv.py\u001b[0m in \u001b[0;36mforward\u001b[0;34m(self, input)\u001b[0m\n\u001b[1;32m    397\u001b[0m \u001b[0;34m\u001b[0m\u001b[0m\n\u001b[1;32m    398\u001b[0m     \u001b[0;32mdef\u001b[0m \u001b[0mforward\u001b[0m\u001b[0;34m(\u001b[0m\u001b[0mself\u001b[0m\u001b[0;34m,\u001b[0m \u001b[0minput\u001b[0m\u001b[0;34m:\u001b[0m \u001b[0mTensor\u001b[0m\u001b[0;34m)\u001b[0m \u001b[0;34m->\u001b[0m \u001b[0mTensor\u001b[0m\u001b[0;34m:\u001b[0m\u001b[0;34m\u001b[0m\u001b[0;34m\u001b[0m\u001b[0m\n\u001b[0;32m--> 399\u001b[0;31m         \u001b[0;32mreturn\u001b[0m \u001b[0mself\u001b[0m\u001b[0;34m.\u001b[0m\u001b[0m_conv_forward\u001b[0m\u001b[0;34m(\u001b[0m\u001b[0minput\u001b[0m\u001b[0;34m,\u001b[0m \u001b[0mself\u001b[0m\u001b[0;34m.\u001b[0m\u001b[0mweight\u001b[0m\u001b[0;34m,\u001b[0m \u001b[0mself\u001b[0m\u001b[0;34m.\u001b[0m\u001b[0mbias\u001b[0m\u001b[0;34m)\u001b[0m\u001b[0;34m\u001b[0m\u001b[0;34m\u001b[0m\u001b[0m\n\u001b[0m\u001b[1;32m    400\u001b[0m \u001b[0;34m\u001b[0m\u001b[0m\n\u001b[1;32m    401\u001b[0m \u001b[0;32mclass\u001b[0m \u001b[0mConv3d\u001b[0m\u001b[0;34m(\u001b[0m\u001b[0m_ConvNd\u001b[0m\u001b[0;34m)\u001b[0m\u001b[0;34m:\u001b[0m\u001b[0;34m\u001b[0m\u001b[0;34m\u001b[0m\u001b[0m\n",
            "\u001b[0;32m/usr/local/lib/python3.7/dist-packages/torch/nn/modules/conv.py\u001b[0m in \u001b[0;36m_conv_forward\u001b[0;34m(self, input, weight, bias)\u001b[0m\n\u001b[1;32m    394\u001b[0m                             _pair(0), self.dilation, self.groups)\n\u001b[1;32m    395\u001b[0m         return F.conv2d(input, weight, bias, self.stride,\n\u001b[0;32m--> 396\u001b[0;31m                         self.padding, self.dilation, self.groups)\n\u001b[0m\u001b[1;32m    397\u001b[0m \u001b[0;34m\u001b[0m\u001b[0m\n\u001b[1;32m    398\u001b[0m     \u001b[0;32mdef\u001b[0m \u001b[0mforward\u001b[0m\u001b[0;34m(\u001b[0m\u001b[0mself\u001b[0m\u001b[0;34m,\u001b[0m \u001b[0minput\u001b[0m\u001b[0;34m:\u001b[0m \u001b[0mTensor\u001b[0m\u001b[0;34m)\u001b[0m \u001b[0;34m->\u001b[0m \u001b[0mTensor\u001b[0m\u001b[0;34m:\u001b[0m\u001b[0;34m\u001b[0m\u001b[0;34m\u001b[0m\u001b[0m\n",
            "\u001b[0;31mRuntimeError\u001b[0m: Calculated padded input size per channel: (4 x 4). Kernel size: (5 x 5). Kernel size can't be greater than actual input size"
          ]
        }
      ]
    },
    {
      "cell_type": "code",
      "metadata": {
        "id": "wvT41PdtcsGk"
      },
      "source": [
        ""
      ],
      "execution_count": null,
      "outputs": []
    },
    {
      "cell_type": "code",
      "metadata": {
        "id": "eVLrvoFrcsJZ"
      },
      "source": [
        ""
      ],
      "execution_count": null,
      "outputs": []
    },
    {
      "cell_type": "code",
      "metadata": {
        "id": "V_5zvYUucsMU"
      },
      "source": [
        ""
      ],
      "execution_count": null,
      "outputs": []
    },
    {
      "cell_type": "code",
      "metadata": {
        "id": "WZqa4faYcsPV"
      },
      "source": [
        ""
      ],
      "execution_count": null,
      "outputs": []
    },
    {
      "cell_type": "code",
      "metadata": {
        "id": "XH5zbO78csR0"
      },
      "source": [
        ""
      ],
      "execution_count": null,
      "outputs": []
    },
    {
      "cell_type": "code",
      "metadata": {
        "id": "5uklouqEcsUv"
      },
      "source": [
        ""
      ],
      "execution_count": null,
      "outputs": []
    },
    {
      "cell_type": "code",
      "metadata": {
        "id": "I3Boi5_4csXy"
      },
      "source": [
        ""
      ],
      "execution_count": null,
      "outputs": []
    },
    {
      "cell_type": "code",
      "metadata": {
        "id": "vPkLtIrhcsaZ"
      },
      "source": [
        ""
      ],
      "execution_count": null,
      "outputs": []
    },
    {
      "cell_type": "code",
      "metadata": {
        "id": "G1qKfFnBcsc-"
      },
      "source": [
        ""
      ],
      "execution_count": null,
      "outputs": []
    },
    {
      "cell_type": "code",
      "metadata": {
        "id": "Hvd6jTB5csf0"
      },
      "source": [
        ""
      ],
      "execution_count": null,
      "outputs": []
    },
    {
      "cell_type": "code",
      "metadata": {
        "id": "jimodRHmcsib"
      },
      "source": [
        ""
      ],
      "execution_count": null,
      "outputs": []
    },
    {
      "cell_type": "code",
      "metadata": {
        "id": "Jc18zhqncskz"
      },
      "source": [
        ""
      ],
      "execution_count": null,
      "outputs": []
    },
    {
      "cell_type": "code",
      "metadata": {
        "id": "blpIDXtxcsnr"
      },
      "source": [
        ""
      ],
      "execution_count": null,
      "outputs": []
    },
    {
      "cell_type": "code",
      "metadata": {
        "id": "nLHkFzezcsqh"
      },
      "source": [
        ""
      ],
      "execution_count": null,
      "outputs": []
    },
    {
      "cell_type": "code",
      "metadata": {
        "id": "lgLdceP-cstM"
      },
      "source": [
        ""
      ],
      "execution_count": null,
      "outputs": []
    },
    {
      "cell_type": "code",
      "metadata": {
        "id": "-EDCxJjtcswD"
      },
      "source": [
        ""
      ],
      "execution_count": null,
      "outputs": []
    },
    {
      "cell_type": "code",
      "metadata": {
        "id": "E99h4EKycsyv"
      },
      "source": [
        ""
      ],
      "execution_count": null,
      "outputs": []
    },
    {
      "cell_type": "code",
      "metadata": {
        "id": "W784GoaXcs1k"
      },
      "source": [
        ""
      ],
      "execution_count": null,
      "outputs": []
    },
    {
      "cell_type": "code",
      "metadata": {
        "id": "8omjf3v0cs4Y"
      },
      "source": [
        ""
      ],
      "execution_count": null,
      "outputs": []
    },
    {
      "cell_type": "code",
      "metadata": {
        "id": "GS-HBq4Ccs7T"
      },
      "source": [
        ""
      ],
      "execution_count": null,
      "outputs": []
    },
    {
      "cell_type": "code",
      "metadata": {
        "id": "k2pbYw8qcs-D"
      },
      "source": [
        ""
      ],
      "execution_count": null,
      "outputs": []
    },
    {
      "cell_type": "code",
      "metadata": {
        "id": "BxPYfeusctAr"
      },
      "source": [
        ""
      ],
      "execution_count": null,
      "outputs": []
    }
  ]
}