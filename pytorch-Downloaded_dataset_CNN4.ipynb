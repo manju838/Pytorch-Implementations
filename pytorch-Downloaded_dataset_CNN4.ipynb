{
 "metadata": {
  "language_info": {
   "codemirror_mode": {
    "name": "ipython",
    "version": 3
   },
   "file_extension": ".py",
   "mimetype": "text/x-python",
   "name": "python",
   "nbconvert_exporter": "python",
   "pygments_lexer": "ipython3",
   "version": "3.8.5-final"
  },
  "orig_nbformat": 2,
  "kernelspec": {
   "name": "python3",
   "display_name": "Python 3.8.5 64-bit",
   "metadata": {
    "interpreter": {
     "hash": "1806376677c8b7d13a490fec5ea446823ad786c23886db3b0e0bc74d0bf6d737"
    }
   }
  }
 },
 "nbformat": 4,
 "nbformat_minor": 2,
 "cells": [
  {
   "cell_type": "code",
   "execution_count": 10,
   "metadata": {},
   "outputs": [],
   "source": [
    "import torch \n",
    "import torchvision \n",
    "from torchvision import transforms, datasets\n",
    "import matplotlib.pyplot as plt \n",
    "import torch.nn as nn \n",
    "import torch.nn.functional as F "
   ]
  },
  {
   "cell_type": "code",
   "execution_count": 6,
   "metadata": {},
   "outputs": [],
   "source": [
    "import os \n",
    "import cv2 \n",
    "import numpy as np \n",
    "from tqdm import tqdm\n",
    "\n",
    "REBUILD_DATA = False #This is True in the first run of class DogsVsCats and later on its false as this is for making train data"
   ]
  },
  {
   "cell_type": "code",
   "execution_count": 7,
   "metadata": {},
   "outputs": [
    {
     "output_type": "stream",
     "name": "stderr",
     "text": [
      "  1%|          | 116/12501 [00:00<00:10, 1158.60it/s]/home/manju838/coding/env/pytorch_env/Datasets/PetImages/Cat\n",
      "100%|██████████| 12501/12501 [00:11<00:00, 1128.21it/s]\n",
      "  1%|          | 81/12501 [00:00<00:15, 807.47it/s]/home/manju838/coding/env/pytorch_env/Datasets/PetImages/Dog\n",
      "100%|██████████| 12501/12501 [00:11<00:00, 1052.39it/s]\n",
      "Cats:  12476\n",
      "Dogs:  12470\n"
     ]
    }
   ],
   "source": [
    "class DogsVsCats():\n",
    "    IMG_SIZE = 50 #Resizing to 50*50\n",
    "    CATS = '/home/manju838/coding/env/pytorch_env/Datasets/PetImages/Cat'\n",
    "    DOGS = '/home/manju838/coding/env/pytorch_env/Datasets/PetImages/Dog'\n",
    "    LABELS = {CATS:0,DOGS:1}\n",
    "    training_data = []\n",
    "    cat_count = 0\n",
    "    dog_count = 0\n",
    "\n",
    "    def make_training_data(self):\n",
    "        for label in self.LABELS:\n",
    "            print(label)\n",
    "            for f in tqdm(os.listdir(label)):\n",
    "                try:\n",
    "                    path = os.path.join(label, f)\n",
    "                    img = cv2.imread(path, cv2.IMREAD_GRAYSCALE)\n",
    "                    img = cv2.resize(img,(self.IMG_SIZE,self.IMG_SIZE))\n",
    "                    self.training_data.append([np.array(img), np.eye(2)[self.LABELS[label]]])\n",
    "\n",
    "                    if label == self.CATS:\n",
    "                        self.cat_count += 1\n",
    "                    elif label == self.DOGS:\n",
    "                        self.dog_count += 1\n",
    "                except Exception as e:\n",
    "                    pass\n",
    "                    #print(str(e))\n",
    "        np.random.shuffle(self.training_data)\n",
    "        np.save(\"training_data.npy\", self.training_data)\n",
    "        print(\"Cats: \",self.cat_count)\n",
    "        print(\"Dogs: \",self.dog_count)\n",
    "\n",
    "if REBUILD_DATA:\n",
    "    dogsvcats = DogsVsCats()\n",
    "    dogsvcats.make_training_data()\n",
    "\n",
    "\n"
   ]
  },
  {
   "cell_type": "code",
   "execution_count": 8,
   "metadata": {},
   "outputs": [],
   "source": [
    "training_data = np.load(\"training_data.npy\",allow_pickle = True)"
   ]
  },
  {
   "cell_type": "code",
   "execution_count": 9,
   "metadata": {},
   "outputs": [
    {
     "output_type": "stream",
     "name": "stdout",
     "text": [
      "24946\n[array([[ 23,  37,  27, ...,  44,  49,  43],\n       [ 23,  36,  31, ...,  47,  49,  50],\n       [ 21,  32,  32, ...,  50,  51,  50],\n       ...,\n       [ 31,  25,  21, ..., 255, 246, 252],\n       [ 53,  31,  33, ..., 255, 246, 252],\n       [ 56,  57,  26, ..., 255, 254, 248]], dtype=uint8)\n array([1., 0.])]\n"
     ]
    }
   ],
   "source": [
    "print(len(training_data))\n",
    "print(training_data[1])"
   ]
  },
  {
   "cell_type": "code",
   "execution_count": 13,
   "metadata": {},
   "outputs": [
    {
     "output_type": "display_data",
     "data": {
      "text/plain": "<Figure size 432x288 with 1 Axes>",
      "image/svg+xml": "<?xml version=\"1.0\" encoding=\"utf-8\" standalone=\"no\"?>\n<!DOCTYPE svg PUBLIC \"-//W3C//DTD SVG 1.1//EN\"\n  \"http://www.w3.org/Graphics/SVG/1.1/DTD/svg11.dtd\">\n<!-- Created with matplotlib (https://matplotlib.org/) -->\n<svg height=\"250.142944pt\" version=\"1.1\" viewBox=\"0 0 251.565 250.142944\" width=\"251.565pt\" xmlns=\"http://www.w3.org/2000/svg\" xmlns:xlink=\"http://www.w3.org/1999/xlink\">\n <metadata>\n  <rdf:RDF xmlns:cc=\"http://creativecommons.org/ns#\" xmlns:dc=\"http://purl.org/dc/elements/1.1/\" xmlns:rdf=\"http://www.w3.org/1999/02/22-rdf-syntax-ns#\">\n   <cc:Work>\n    <dc:type rdf:resource=\"http://purl.org/dc/dcmitype/StillImage\"/>\n    <dc:date>2021-03-15T16:32:41.558505</dc:date>\n    <dc:format>image/svg+xml</dc:format>\n    <dc:creator>\n     <cc:Agent>\n      <dc:title>Matplotlib v3.3.4, https://matplotlib.org/</dc:title>\n     </cc:Agent>\n    </dc:creator>\n   </cc:Work>\n  </rdf:RDF>\n </metadata>\n <defs>\n  <style type=\"text/css\">*{stroke-linecap:butt;stroke-linejoin:round;}</style>\n </defs>\n <g id=\"figure_1\">\n  <g id=\"patch_1\">\n   <path d=\"M 0 250.142944 \nL 251.565 250.142944 \nL 251.565 0 \nL 0 0 \nz\n\" style=\"fill:none;\"/>\n  </g>\n  <g id=\"axes_1\">\n   <g id=\"patch_2\">\n    <path d=\"M 26.925 226.264819 \nL 244.365 226.264819 \nL 244.365 8.824819 \nL 26.925 8.824819 \nz\n\" style=\"fill:#ffffff;\"/>\n   </g>\n   <g clip-path=\"url(#paf6e2bf555)\">\n    <image height=\"218\" id=\"image573880cfa5\" transform=\"scale(1 -1)translate(0 -218)\" width=\"218\" x=\"26.925\" xlink:href=\"data:image/png;base64,\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\" y=\"-8.264819\"/>\n   </g>\n   <g id=\"matplotlib.axis_1\">\n    <g id=\"xtick_1\">\n     <g id=\"line2d_1\">\n      <defs>\n       <path d=\"M 0 0 \nL 0 3.5 \n\" id=\"m73a096ff35\" style=\"stroke:#000000;stroke-width:0.8;\"/>\n      </defs>\n      <g>\n       <use style=\"stroke:#000000;stroke-width:0.8;\" x=\"29.0994\" xlink:href=\"#m73a096ff35\" y=\"226.264819\"/>\n      </g>\n     </g>\n     <g id=\"text_1\">\n      <!-- 0 -->\n      <g transform=\"translate(25.91815 240.863256)scale(0.1 -0.1)\">\n       <defs>\n        <path d=\"M 31.78125 66.40625 \nQ 24.171875 66.40625 20.328125 58.90625 \nQ 16.5 51.421875 16.5 36.375 \nQ 16.5 21.390625 20.328125 13.890625 \nQ 24.171875 6.390625 31.78125 6.390625 \nQ 39.453125 6.390625 43.28125 13.890625 \nQ 47.125 21.390625 47.125 36.375 \nQ 47.125 51.421875 43.28125 58.90625 \nQ 39.453125 66.40625 31.78125 66.40625 \nz\nM 31.78125 74.21875 \nQ 44.046875 74.21875 50.515625 64.515625 \nQ 56.984375 54.828125 56.984375 36.375 \nQ 56.984375 17.96875 50.515625 8.265625 \nQ 44.046875 -1.421875 31.78125 -1.421875 \nQ 19.53125 -1.421875 13.0625 8.265625 \nQ 6.59375 17.96875 6.59375 36.375 \nQ 6.59375 54.828125 13.0625 64.515625 \nQ 19.53125 74.21875 31.78125 74.21875 \nz\n\" id=\"DejaVuSans-48\"/>\n       </defs>\n       <use xlink:href=\"#DejaVuSans-48\"/>\n      </g>\n     </g>\n    </g>\n    <g id=\"xtick_2\">\n     <g id=\"line2d_2\">\n      <g>\n       <use style=\"stroke:#000000;stroke-width:0.8;\" x=\"72.5874\" xlink:href=\"#m73a096ff35\" y=\"226.264819\"/>\n      </g>\n     </g>\n     <g id=\"text_2\">\n      <!-- 10 -->\n      <g transform=\"translate(66.2249 240.863256)scale(0.1 -0.1)\">\n       <defs>\n        <path d=\"M 12.40625 8.296875 \nL 28.515625 8.296875 \nL 28.515625 63.921875 \nL 10.984375 60.40625 \nL 10.984375 69.390625 \nL 28.421875 72.90625 \nL 38.28125 72.90625 \nL 38.28125 8.296875 \nL 54.390625 8.296875 \nL 54.390625 0 \nL 12.40625 0 \nz\n\" id=\"DejaVuSans-49\"/>\n       </defs>\n       <use xlink:href=\"#DejaVuSans-49\"/>\n       <use x=\"63.623047\" xlink:href=\"#DejaVuSans-48\"/>\n      </g>\n     </g>\n    </g>\n    <g id=\"xtick_3\">\n     <g id=\"line2d_3\">\n      <g>\n       <use style=\"stroke:#000000;stroke-width:0.8;\" x=\"116.0754\" xlink:href=\"#m73a096ff35\" y=\"226.264819\"/>\n      </g>\n     </g>\n     <g id=\"text_3\">\n      <!-- 20 -->\n      <g transform=\"translate(109.7129 240.863256)scale(0.1 -0.1)\">\n       <defs>\n        <path d=\"M 19.1875 8.296875 \nL 53.609375 8.296875 \nL 53.609375 0 \nL 7.328125 0 \nL 7.328125 8.296875 \nQ 12.9375 14.109375 22.625 23.890625 \nQ 32.328125 33.6875 34.8125 36.53125 \nQ 39.546875 41.84375 41.421875 45.53125 \nQ 43.3125 49.21875 43.3125 52.78125 \nQ 43.3125 58.59375 39.234375 62.25 \nQ 35.15625 65.921875 28.609375 65.921875 \nQ 23.96875 65.921875 18.8125 64.3125 \nQ 13.671875 62.703125 7.8125 59.421875 \nL 7.8125 69.390625 \nQ 13.765625 71.78125 18.9375 73 \nQ 24.125 74.21875 28.421875 74.21875 \nQ 39.75 74.21875 46.484375 68.546875 \nQ 53.21875 62.890625 53.21875 53.421875 \nQ 53.21875 48.921875 51.53125 44.890625 \nQ 49.859375 40.875 45.40625 35.40625 \nQ 44.1875 33.984375 37.640625 27.21875 \nQ 31.109375 20.453125 19.1875 8.296875 \nz\n\" id=\"DejaVuSans-50\"/>\n       </defs>\n       <use xlink:href=\"#DejaVuSans-50\"/>\n       <use x=\"63.623047\" xlink:href=\"#DejaVuSans-48\"/>\n      </g>\n     </g>\n    </g>\n    <g id=\"xtick_4\">\n     <g id=\"line2d_4\">\n      <g>\n       <use style=\"stroke:#000000;stroke-width:0.8;\" x=\"159.5634\" xlink:href=\"#m73a096ff35\" y=\"226.264819\"/>\n      </g>\n     </g>\n     <g id=\"text_4\">\n      <!-- 30 -->\n      <g transform=\"translate(153.2009 240.863256)scale(0.1 -0.1)\">\n       <defs>\n        <path d=\"M 40.578125 39.3125 \nQ 47.65625 37.796875 51.625 33 \nQ 55.609375 28.21875 55.609375 21.1875 \nQ 55.609375 10.40625 48.1875 4.484375 \nQ 40.765625 -1.421875 27.09375 -1.421875 \nQ 22.515625 -1.421875 17.65625 -0.515625 \nQ 12.796875 0.390625 7.625 2.203125 \nL 7.625 11.71875 \nQ 11.71875 9.328125 16.59375 8.109375 \nQ 21.484375 6.890625 26.8125 6.890625 \nQ 36.078125 6.890625 40.9375 10.546875 \nQ 45.796875 14.203125 45.796875 21.1875 \nQ 45.796875 27.640625 41.28125 31.265625 \nQ 36.765625 34.90625 28.71875 34.90625 \nL 20.21875 34.90625 \nL 20.21875 43.015625 \nL 29.109375 43.015625 \nQ 36.375 43.015625 40.234375 45.921875 \nQ 44.09375 48.828125 44.09375 54.296875 \nQ 44.09375 59.90625 40.109375 62.90625 \nQ 36.140625 65.921875 28.71875 65.921875 \nQ 24.65625 65.921875 20.015625 65.03125 \nQ 15.375 64.15625 9.8125 62.3125 \nL 9.8125 71.09375 \nQ 15.4375 72.65625 20.34375 73.4375 \nQ 25.25 74.21875 29.59375 74.21875 \nQ 40.828125 74.21875 47.359375 69.109375 \nQ 53.90625 64.015625 53.90625 55.328125 \nQ 53.90625 49.265625 50.4375 45.09375 \nQ 46.96875 40.921875 40.578125 39.3125 \nz\n\" id=\"DejaVuSans-51\"/>\n       </defs>\n       <use xlink:href=\"#DejaVuSans-51\"/>\n       <use x=\"63.623047\" xlink:href=\"#DejaVuSans-48\"/>\n      </g>\n     </g>\n    </g>\n    <g id=\"xtick_5\">\n     <g id=\"line2d_5\">\n      <g>\n       <use style=\"stroke:#000000;stroke-width:0.8;\" x=\"203.0514\" xlink:href=\"#m73a096ff35\" y=\"226.264819\"/>\n      </g>\n     </g>\n     <g id=\"text_5\">\n      <!-- 40 -->\n      <g transform=\"translate(196.6889 240.863256)scale(0.1 -0.1)\">\n       <defs>\n        <path d=\"M 37.796875 64.3125 \nL 12.890625 25.390625 \nL 37.796875 25.390625 \nz\nM 35.203125 72.90625 \nL 47.609375 72.90625 \nL 47.609375 25.390625 \nL 58.015625 25.390625 \nL 58.015625 17.1875 \nL 47.609375 17.1875 \nL 47.609375 0 \nL 37.796875 0 \nL 37.796875 17.1875 \nL 4.890625 17.1875 \nL 4.890625 26.703125 \nz\n\" id=\"DejaVuSans-52\"/>\n       </defs>\n       <use xlink:href=\"#DejaVuSans-52\"/>\n       <use x=\"63.623047\" xlink:href=\"#DejaVuSans-48\"/>\n      </g>\n     </g>\n    </g>\n   </g>\n   <g id=\"matplotlib.axis_2\">\n    <g id=\"ytick_1\">\n     <g id=\"line2d_6\">\n      <defs>\n       <path d=\"M 0 0 \nL -3.5 0 \n\" id=\"m641bbb1828\" style=\"stroke:#000000;stroke-width:0.8;\"/>\n      </defs>\n      <g>\n       <use style=\"stroke:#000000;stroke-width:0.8;\" x=\"26.925\" xlink:href=\"#m641bbb1828\" y=\"10.999219\"/>\n      </g>\n     </g>\n     <g id=\"text_6\">\n      <!-- 0 -->\n      <g transform=\"translate(13.5625 14.798437)scale(0.1 -0.1)\">\n       <use xlink:href=\"#DejaVuSans-48\"/>\n      </g>\n     </g>\n    </g>\n    <g id=\"ytick_2\">\n     <g id=\"line2d_7\">\n      <g>\n       <use style=\"stroke:#000000;stroke-width:0.8;\" x=\"26.925\" xlink:href=\"#m641bbb1828\" y=\"54.487219\"/>\n      </g>\n     </g>\n     <g id=\"text_7\">\n      <!-- 10 -->\n      <g transform=\"translate(7.2 58.286437)scale(0.1 -0.1)\">\n       <use xlink:href=\"#DejaVuSans-49\"/>\n       <use x=\"63.623047\" xlink:href=\"#DejaVuSans-48\"/>\n      </g>\n     </g>\n    </g>\n    <g id=\"ytick_3\">\n     <g id=\"line2d_8\">\n      <g>\n       <use style=\"stroke:#000000;stroke-width:0.8;\" x=\"26.925\" xlink:href=\"#m641bbb1828\" y=\"97.975219\"/>\n      </g>\n     </g>\n     <g id=\"text_8\">\n      <!-- 20 -->\n      <g transform=\"translate(7.2 101.774437)scale(0.1 -0.1)\">\n       <use xlink:href=\"#DejaVuSans-50\"/>\n       <use x=\"63.623047\" xlink:href=\"#DejaVuSans-48\"/>\n      </g>\n     </g>\n    </g>\n    <g id=\"ytick_4\">\n     <g id=\"line2d_9\">\n      <g>\n       <use style=\"stroke:#000000;stroke-width:0.8;\" x=\"26.925\" xlink:href=\"#m641bbb1828\" y=\"141.463219\"/>\n      </g>\n     </g>\n     <g id=\"text_9\">\n      <!-- 30 -->\n      <g transform=\"translate(7.2 145.262437)scale(0.1 -0.1)\">\n       <use xlink:href=\"#DejaVuSans-51\"/>\n       <use x=\"63.623047\" xlink:href=\"#DejaVuSans-48\"/>\n      </g>\n     </g>\n    </g>\n    <g id=\"ytick_5\">\n     <g id=\"line2d_10\">\n      <g>\n       <use style=\"stroke:#000000;stroke-width:0.8;\" x=\"26.925\" xlink:href=\"#m641bbb1828\" y=\"184.951219\"/>\n      </g>\n     </g>\n     <g id=\"text_10\">\n      <!-- 40 -->\n      <g transform=\"translate(7.2 188.750437)scale(0.1 -0.1)\">\n       <use xlink:href=\"#DejaVuSans-52\"/>\n       <use x=\"63.623047\" xlink:href=\"#DejaVuSans-48\"/>\n      </g>\n     </g>\n    </g>\n   </g>\n   <g id=\"patch_3\">\n    <path d=\"M 26.925 226.264819 \nL 26.925 8.824819 \n\" style=\"fill:none;stroke:#000000;stroke-linecap:square;stroke-linejoin:miter;stroke-width:0.8;\"/>\n   </g>\n   <g id=\"patch_4\">\n    <path d=\"M 244.365 226.264819 \nL 244.365 8.824819 \n\" style=\"fill:none;stroke:#000000;stroke-linecap:square;stroke-linejoin:miter;stroke-width:0.8;\"/>\n   </g>\n   <g id=\"patch_5\">\n    <path d=\"M 26.925 226.264819 \nL 244.365 226.264819 \n\" style=\"fill:none;stroke:#000000;stroke-linecap:square;stroke-linejoin:miter;stroke-width:0.8;\"/>\n   </g>\n   <g id=\"patch_6\">\n    <path d=\"M 26.925 8.824819 \nL 244.365 8.824819 \n\" style=\"fill:none;stroke:#000000;stroke-linecap:square;stroke-linejoin:miter;stroke-width:0.8;\"/>\n   </g>\n  </g>\n </g>\n <defs>\n  <clipPath id=\"paf6e2bf555\">\n   <rect height=\"217.44\" width=\"217.44\" x=\"26.925\" y=\"8.824819\"/>\n  </clipPath>\n </defs>\n</svg>\n",
      "image/png": "[encoded data removed]"
     },
     "metadata": {
      "needs_background": "light"
     }
    },
    {
     "output_type": "stream",
     "name": "stdout",
     "text": [
      "[1. 0.]\n"
     ]
    }
   ],
   "source": [
    "plt.imshow(training_data[1][0], cmap = \"gray\")\n",
    "plt.show()\n",
    "print(training_data[1][1])"
   ]
  },
  {
   "source": [
    "Since the one hot vector is (1 , 0) this picture is a cat"
   ],
   "cell_type": "markdown",
   "metadata": {}
  },
  {
   "cell_type": "code",
   "execution_count": 14,
   "metadata": {},
   "outputs": [
    {
     "output_type": "display_data",
     "data": {
      "text/plain": "<Figure size 432x288 with 1 Axes>",
      "image/svg+xml": "<?xml version=\"1.0\" encoding=\"utf-8\" standalone=\"no\"?>\n<!DOCTYPE svg PUBLIC \"-//W3C//DTD SVG 1.1//EN\"\n  \"http://www.w3.org/Graphics/SVG/1.1/DTD/svg11.dtd\">\n<!-- Created with matplotlib (https://matplotlib.org/) -->\n<svg height=\"250.142944pt\" version=\"1.1\" viewBox=\"0 0 251.565 250.142944\" width=\"251.565pt\" xmlns=\"http://www.w3.org/2000/svg\" xmlns:xlink=\"http://www.w3.org/1999/xlink\">\n <metadata>\n  <rdf:RDF xmlns:cc=\"http://creativecommons.org/ns#\" xmlns:dc=\"http://purl.org/dc/elements/1.1/\" xmlns:rdf=\"http://www.w3.org/1999/02/22-rdf-syntax-ns#\">\n   <cc:Work>\n    <dc:type rdf:resource=\"http://purl.org/dc/dcmitype/StillImage\"/>\n    <dc:date>2021-03-15T16:34:16.403459</dc:date>\n    <dc:format>image/svg+xml</dc:format>\n    <dc:creator>\n     <cc:Agent>\n      <dc:title>Matplotlib v3.3.4, https://matplotlib.org/</dc:title>\n     </cc:Agent>\n    </dc:creator>\n   </cc:Work>\n  </rdf:RDF>\n </metadata>\n <defs>\n  <style type=\"text/css\">*{stroke-linecap:butt;stroke-linejoin:round;}</style>\n </defs>\n <g id=\"figure_1\">\n  <g id=\"patch_1\">\n   <path d=\"M 0 250.142944 \nL 251.565 250.142944 \nL 251.565 0 \nL 0 0 \nz\n\" style=\"fill:none;\"/>\n  </g>\n  <g id=\"axes_1\">\n   <g id=\"patch_2\">\n    <path d=\"M 26.925 226.264819 \nL 244.365 226.264819 \nL 244.365 8.824819 \nL 26.925 8.824819 \nz\n\" style=\"fill:#ffffff;\"/>\n   </g>\n   <g clip-path=\"url(#p0aad06f71b)\">\n    <image height=\"218\" id=\"imagea839b346b8\" transform=\"scale(1 -1)translate(0 -218)\" width=\"218\" x=\"26.925\" xlink:href=\"data:image/png;base64,\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\" y=\"-8.264819\"/>\n   </g>\n   <g id=\"matplotlib.axis_1\">\n    <g id=\"xtick_1\">\n     <g id=\"line2d_1\">\n      <defs>\n       <path d=\"M 0 0 \nL 0 3.5 \n\" id=\"mf10ca54fa4\" style=\"stroke:#000000;stroke-width:0.8;\"/>\n      </defs>\n      <g>\n       <use style=\"stroke:#000000;stroke-width:0.8;\" x=\"29.0994\" xlink:href=\"#mf10ca54fa4\" y=\"226.264819\"/>\n      </g>\n     </g>\n     <g id=\"text_1\">\n      <!-- 0 -->\n      <g transform=\"translate(25.91815 240.863256)scale(0.1 -0.1)\">\n       <defs>\n        <path d=\"M 31.78125 66.40625 \nQ 24.171875 66.40625 20.328125 58.90625 \nQ 16.5 51.421875 16.5 36.375 \nQ 16.5 21.390625 20.328125 13.890625 \nQ 24.171875 6.390625 31.78125 6.390625 \nQ 39.453125 6.390625 43.28125 13.890625 \nQ 47.125 21.390625 47.125 36.375 \nQ 47.125 51.421875 43.28125 58.90625 \nQ 39.453125 66.40625 31.78125 66.40625 \nz\nM 31.78125 74.21875 \nQ 44.046875 74.21875 50.515625 64.515625 \nQ 56.984375 54.828125 56.984375 36.375 \nQ 56.984375 17.96875 50.515625 8.265625 \nQ 44.046875 -1.421875 31.78125 -1.421875 \nQ 19.53125 -1.421875 13.0625 8.265625 \nQ 6.59375 17.96875 6.59375 36.375 \nQ 6.59375 54.828125 13.0625 64.515625 \nQ 19.53125 74.21875 31.78125 74.21875 \nz\n\" id=\"DejaVuSans-48\"/>\n       </defs>\n       <use xlink:href=\"#DejaVuSans-48\"/>\n      </g>\n     </g>\n    </g>\n    <g id=\"xtick_2\">\n     <g id=\"line2d_2\">\n      <g>\n       <use style=\"stroke:#000000;stroke-width:0.8;\" x=\"72.5874\" xlink:href=\"#mf10ca54fa4\" y=\"226.264819\"/>\n      </g>\n     </g>\n     <g id=\"text_2\">\n      <!-- 10 -->\n      <g transform=\"translate(66.2249 240.863256)scale(0.1 -0.1)\">\n       <defs>\n        <path d=\"M 12.40625 8.296875 \nL 28.515625 8.296875 \nL 28.515625 63.921875 \nL 10.984375 60.40625 \nL 10.984375 69.390625 \nL 28.421875 72.90625 \nL 38.28125 72.90625 \nL 38.28125 8.296875 \nL 54.390625 8.296875 \nL 54.390625 0 \nL 12.40625 0 \nz\n\" id=\"DejaVuSans-49\"/>\n       </defs>\n       <use xlink:href=\"#DejaVuSans-49\"/>\n       <use x=\"63.623047\" xlink:href=\"#DejaVuSans-48\"/>\n      </g>\n     </g>\n    </g>\n    <g id=\"xtick_3\">\n     <g id=\"line2d_3\">\n      <g>\n       <use style=\"stroke:#000000;stroke-width:0.8;\" x=\"116.0754\" xlink:href=\"#mf10ca54fa4\" y=\"226.264819\"/>\n      </g>\n     </g>\n     <g id=\"text_3\">\n      <!-- 20 -->\n      <g transform=\"translate(109.7129 240.863256)scale(0.1 -0.1)\">\n       <defs>\n        <path d=\"M 19.1875 8.296875 \nL 53.609375 8.296875 \nL 53.609375 0 \nL 7.328125 0 \nL 7.328125 8.296875 \nQ 12.9375 14.109375 22.625 23.890625 \nQ 32.328125 33.6875 34.8125 36.53125 \nQ 39.546875 41.84375 41.421875 45.53125 \nQ 43.3125 49.21875 43.3125 52.78125 \nQ 43.3125 58.59375 39.234375 62.25 \nQ 35.15625 65.921875 28.609375 65.921875 \nQ 23.96875 65.921875 18.8125 64.3125 \nQ 13.671875 62.703125 7.8125 59.421875 \nL 7.8125 69.390625 \nQ 13.765625 71.78125 18.9375 73 \nQ 24.125 74.21875 28.421875 74.21875 \nQ 39.75 74.21875 46.484375 68.546875 \nQ 53.21875 62.890625 53.21875 53.421875 \nQ 53.21875 48.921875 51.53125 44.890625 \nQ 49.859375 40.875 45.40625 35.40625 \nQ 44.1875 33.984375 37.640625 27.21875 \nQ 31.109375 20.453125 19.1875 8.296875 \nz\n\" id=\"DejaVuSans-50\"/>\n       </defs>\n       <use xlink:href=\"#DejaVuSans-50\"/>\n       <use x=\"63.623047\" xlink:href=\"#DejaVuSans-48\"/>\n      </g>\n     </g>\n    </g>\n    <g id=\"xtick_4\">\n     <g id=\"line2d_4\">\n      <g>\n       <use style=\"stroke:#000000;stroke-width:0.8;\" x=\"159.5634\" xlink:href=\"#mf10ca54fa4\" y=\"226.264819\"/>\n      </g>\n     </g>\n     <g id=\"text_4\">\n      <!-- 30 -->\n      <g transform=\"translate(153.2009 240.863256)scale(0.1 -0.1)\">\n       <defs>\n        <path d=\"M 40.578125 39.3125 \nQ 47.65625 37.796875 51.625 33 \nQ 55.609375 28.21875 55.609375 21.1875 \nQ 55.609375 10.40625 48.1875 4.484375 \nQ 40.765625 -1.421875 27.09375 -1.421875 \nQ 22.515625 -1.421875 17.65625 -0.515625 \nQ 12.796875 0.390625 7.625 2.203125 \nL 7.625 11.71875 \nQ 11.71875 9.328125 16.59375 8.109375 \nQ 21.484375 6.890625 26.8125 6.890625 \nQ 36.078125 6.890625 40.9375 10.546875 \nQ 45.796875 14.203125 45.796875 21.1875 \nQ 45.796875 27.640625 41.28125 31.265625 \nQ 36.765625 34.90625 28.71875 34.90625 \nL 20.21875 34.90625 \nL 20.21875 43.015625 \nL 29.109375 43.015625 \nQ 36.375 43.015625 40.234375 45.921875 \nQ 44.09375 48.828125 44.09375 54.296875 \nQ 44.09375 59.90625 40.109375 62.90625 \nQ 36.140625 65.921875 28.71875 65.921875 \nQ 24.65625 65.921875 20.015625 65.03125 \nQ 15.375 64.15625 9.8125 62.3125 \nL 9.8125 71.09375 \nQ 15.4375 72.65625 20.34375 73.4375 \nQ 25.25 74.21875 29.59375 74.21875 \nQ 40.828125 74.21875 47.359375 69.109375 \nQ 53.90625 64.015625 53.90625 55.328125 \nQ 53.90625 49.265625 50.4375 45.09375 \nQ 46.96875 40.921875 40.578125 39.3125 \nz\n\" id=\"DejaVuSans-51\"/>\n       </defs>\n       <use xlink:href=\"#DejaVuSans-51\"/>\n       <use x=\"63.623047\" xlink:href=\"#DejaVuSans-48\"/>\n      </g>\n     </g>\n    </g>\n    <g id=\"xtick_5\">\n     <g id=\"line2d_5\">\n      <g>\n       <use style=\"stroke:#000000;stroke-width:0.8;\" x=\"203.0514\" xlink:href=\"#mf10ca54fa4\" y=\"226.264819\"/>\n      </g>\n     </g>\n     <g id=\"text_5\">\n      <!-- 40 -->\n      <g transform=\"translate(196.6889 240.863256)scale(0.1 -0.1)\">\n       <defs>\n        <path d=\"M 37.796875 64.3125 \nL 12.890625 25.390625 \nL 37.796875 25.390625 \nz\nM 35.203125 72.90625 \nL 47.609375 72.90625 \nL 47.609375 25.390625 \nL 58.015625 25.390625 \nL 58.015625 17.1875 \nL 47.609375 17.1875 \nL 47.609375 0 \nL 37.796875 0 \nL 37.796875 17.1875 \nL 4.890625 17.1875 \nL 4.890625 26.703125 \nz\n\" id=\"DejaVuSans-52\"/>\n       </defs>\n       <use xlink:href=\"#DejaVuSans-52\"/>\n       <use x=\"63.623047\" xlink:href=\"#DejaVuSans-48\"/>\n      </g>\n     </g>\n    </g>\n   </g>\n   <g id=\"matplotlib.axis_2\">\n    <g id=\"ytick_1\">\n     <g id=\"line2d_6\">\n      <defs>\n       <path d=\"M 0 0 \nL -3.5 0 \n\" id=\"mefccde9665\" style=\"stroke:#000000;stroke-width:0.8;\"/>\n      </defs>\n      <g>\n       <use style=\"stroke:#000000;stroke-width:0.8;\" x=\"26.925\" xlink:href=\"#mefccde9665\" y=\"10.999219\"/>\n      </g>\n     </g>\n     <g id=\"text_6\">\n      <!-- 0 -->\n      <g transform=\"translate(13.5625 14.798437)scale(0.1 -0.1)\">\n       <use xlink:href=\"#DejaVuSans-48\"/>\n      </g>\n     </g>\n    </g>\n    <g id=\"ytick_2\">\n     <g id=\"line2d_7\">\n      <g>\n       <use style=\"stroke:#000000;stroke-width:0.8;\" x=\"26.925\" xlink:href=\"#mefccde9665\" y=\"54.487219\"/>\n      </g>\n     </g>\n     <g id=\"text_7\">\n      <!-- 10 -->\n      <g transform=\"translate(7.2 58.286437)scale(0.1 -0.1)\">\n       <use xlink:href=\"#DejaVuSans-49\"/>\n       <use x=\"63.623047\" xlink:href=\"#DejaVuSans-48\"/>\n      </g>\n     </g>\n    </g>\n    <g id=\"ytick_3\">\n     <g id=\"line2d_8\">\n      <g>\n       <use style=\"stroke:#000000;stroke-width:0.8;\" x=\"26.925\" xlink:href=\"#mefccde9665\" y=\"97.975219\"/>\n      </g>\n     </g>\n     <g id=\"text_8\">\n      <!-- 20 -->\n      <g transform=\"translate(7.2 101.774437)scale(0.1 -0.1)\">\n       <use xlink:href=\"#DejaVuSans-50\"/>\n       <use x=\"63.623047\" xlink:href=\"#DejaVuSans-48\"/>\n      </g>\n     </g>\n    </g>\n    <g id=\"ytick_4\">\n     <g id=\"line2d_9\">\n      <g>\n       <use style=\"stroke:#000000;stroke-width:0.8;\" x=\"26.925\" xlink:href=\"#mefccde9665\" y=\"141.463219\"/>\n      </g>\n     </g>\n     <g id=\"text_9\">\n      <!-- 30 -->\n      <g transform=\"translate(7.2 145.262437)scale(0.1 -0.1)\">\n       <use xlink:href=\"#DejaVuSans-51\"/>\n       <use x=\"63.623047\" xlink:href=\"#DejaVuSans-48\"/>\n      </g>\n     </g>\n    </g>\n    <g id=\"ytick_5\">\n     <g id=\"line2d_10\">\n      <g>\n       <use style=\"stroke:#000000;stroke-width:0.8;\" x=\"26.925\" xlink:href=\"#mefccde9665\" y=\"184.951219\"/>\n      </g>\n     </g>\n     <g id=\"text_10\">\n      <!-- 40 -->\n      <g transform=\"translate(7.2 188.750437)scale(0.1 -0.1)\">\n       <use xlink:href=\"#DejaVuSans-52\"/>\n       <use x=\"63.623047\" xlink:href=\"#DejaVuSans-48\"/>\n      </g>\n     </g>\n    </g>\n   </g>\n   <g id=\"patch_3\">\n    <path d=\"M 26.925 226.264819 \nL 26.925 8.824819 \n\" style=\"fill:none;stroke:#000000;stroke-linecap:square;stroke-linejoin:miter;stroke-width:0.8;\"/>\n   </g>\n   <g id=\"patch_4\">\n    <path d=\"M 244.365 226.264819 \nL 244.365 8.824819 \n\" style=\"fill:none;stroke:#000000;stroke-linecap:square;stroke-linejoin:miter;stroke-width:0.8;\"/>\n   </g>\n   <g id=\"patch_5\">\n    <path d=\"M 26.925 226.264819 \nL 244.365 226.264819 \n\" style=\"fill:none;stroke:#000000;stroke-linecap:square;stroke-linejoin:miter;stroke-width:0.8;\"/>\n   </g>\n   <g id=\"patch_6\">\n    <path d=\"M 26.925 8.824819 \nL 244.365 8.824819 \n\" style=\"fill:none;stroke:#000000;stroke-linecap:square;stroke-linejoin:miter;stroke-width:0.8;\"/>\n   </g>\n  </g>\n </g>\n <defs>\n  <clipPath id=\"p0aad06f71b\">\n   <rect height=\"217.44\" width=\"217.44\" x=\"26.925\" y=\"8.824819\"/>\n  </clipPath>\n </defs>\n</svg>\n",
      "image/png": "[encoded data removed]"
     },
     "metadata": {
      "needs_background": "light"
     }
    },
    {
     "output_type": "stream",
     "name": "stdout",
     "text": [
      "[0. 1.]\n"
     ]
    }
   ],
   "source": [
    "plt.imshow(training_data[0][0], cmap = \"gray\")\n",
    "plt.show()\n",
    "print(training_data[0][1])"
   ]
  },
  {
   "source": [
    "This is a dog"
   ],
   "cell_type": "markdown",
   "metadata": {}
  },
  {
   "cell_type": "code",
   "execution_count": 23,
   "metadata": {},
   "outputs": [
    {
     "output_type": "stream",
     "name": "stdout",
     "text": [
      "24946\n(24946, 2)\nThis is the first record's image in pixels(0-255)\n[[128 111 102 ... 201 197 122]\n [123 129 119 ... 140 143 107]\n [118 133 120 ... 184 178 105]\n ...\n [237 245 247 ... 242 243 236]\n [235 243 247 ... 243 243 233]\n [235 248 249 ... 239 238 232]]\n-----------------\nThis is the first record's digit label's one hot vector\n[0. 1.]\n(50, 50)\n(2,)\n(50, 50)\n"
     ]
    },
    {
     "output_type": "error",
     "ename": "IndexError",
     "evalue": "index 24946 is out of bounds for axis 0 with size 24946",
     "traceback": [
      "\u001b[0;31m---------------------------------------------------------------------------\u001b[0m",
      "\u001b[0;31mIndexError\u001b[0m                                Traceback (most recent call last)",
      "\u001b[0;32m<ipython-input-23-d7a783a16db1>\u001b[0m in \u001b[0;36m<module>\u001b[0;34m\u001b[0m\n\u001b[1;32m      9\u001b[0m \u001b[0mprint\u001b[0m\u001b[0;34m(\u001b[0m\u001b[0mtraining_data\u001b[0m\u001b[0;34m[\u001b[0m\u001b[0;36m0\u001b[0m\u001b[0;34m]\u001b[0m\u001b[0;34m[\u001b[0m\u001b[0;36m1\u001b[0m\u001b[0;34m]\u001b[0m\u001b[0;34m.\u001b[0m\u001b[0mshape\u001b[0m\u001b[0;34m)\u001b[0m\u001b[0;34m\u001b[0m\u001b[0;34m\u001b[0m\u001b[0m\n\u001b[1;32m     10\u001b[0m \u001b[0mprint\u001b[0m\u001b[0;34m(\u001b[0m\u001b[0mtraining_data\u001b[0m\u001b[0;34m[\u001b[0m\u001b[0;36m24945\u001b[0m\u001b[0;34m]\u001b[0m\u001b[0;34m[\u001b[0m\u001b[0;36m0\u001b[0m\u001b[0;34m]\u001b[0m\u001b[0;34m.\u001b[0m\u001b[0mshape\u001b[0m\u001b[0;34m)\u001b[0m\u001b[0;34m\u001b[0m\u001b[0;34m\u001b[0m\u001b[0m\n\u001b[0;32m---> 11\u001b[0;31m \u001b[0mprint\u001b[0m\u001b[0;34m(\u001b[0m\u001b[0mtraining_data\u001b[0m\u001b[0;34m[\u001b[0m\u001b[0;36m24946\u001b[0m\u001b[0;34m]\u001b[0m\u001b[0;34m[\u001b[0m\u001b[0;36m0\u001b[0m\u001b[0;34m]\u001b[0m\u001b[0;34m.\u001b[0m\u001b[0mshape\u001b[0m\u001b[0;34m)\u001b[0m\u001b[0;34m\u001b[0m\u001b[0;34m\u001b[0m\u001b[0m\n\u001b[0m",
      "\u001b[0;31mIndexError\u001b[0m: index 24946 is out of bounds for axis 0 with size 24946"
     ]
    }
   ],
   "source": [
    "print(len(training_data))#Total no. of images is 24946\n",
    "print(training_data.shape) #Each of these records has two elements,one for feature(tensor representing pic) and the other \n",
    "print(\"This is the first record's image in pixels(0-255)\")\n",
    "print(training_data[0][0]) \n",
    "print(\"-----------------\")\n",
    "print(\"This is the first record's digit label's one hot vector\")\n",
    "print(training_data[0][1])#So this is a dog\n",
    "print(training_data[0][0].shape) #Each record is a 50*50 pixel image(as specified by IMG_SIZE)\n",
    "print(training_data[0][1].shape) #The second element of record is an array of size 2 = No.of one hot vector encodings(no.of classes here Dog and Cat)\n",
    "print(training_data[24945][0].shape) #Since total no.of images is 24946,the last one is 24945 and 24946 gives index out of bounds error \n",
    "print(training_data[24946][0].shape)"
   ]
  },
  {
   "cell_type": "code",
   "execution_count": null,
   "metadata": {},
   "outputs": [],
   "source": [
    "class Net(nn.Module):\n",
    "    def __init__(self):\n",
    "        super().__init__()\n",
    "        #torch.nn.Conv2d(in_channels, out_channels, kernel_size, stride=1, padding=0, dilation=1, groups=1, bias=True, padding_mode='zeros')\n",
    "        self.conv1 = nn.Conv2d(1, 32, 5) #Input Channel is one as its Grayscale image,32 layers for recognising pattern,for RGB image,channel is 3\n",
    "        self.conv2 = nn.Conv2d(32, 64, 5)\n",
    "        self.conv3 = nn.Conv2d(64, 128, 5)\n",
    "#Here 32 layers in conv1 means to detect the features of cats an dogs,we use different features.Eg,for dog we have an elongated mouth while its not the case for a cat.So if I use a layer to detect that feature then it becomes one of the layers in the initial 32 layers.\n",
    "#Kernel size is written as a single number if the kernel is a squared one(here 5*5) but if it is a rectangular one we use a tuple to denote it\n",
    "        x = torch.rand(50,50).view(-1,1,50,50) # Each of these images are of shape(1,50,50),1 is for Grayscale channel is 1,(50,50) image pixels,and -1 is to automatically take no.of records or images\n",
    "        self._to_linear_ = None\n",
    "        self.convs(x)\n",
    "\n",
    "        #self.fc1 = nn.Linear(???????, 512)\n",
    "        #self.fc2 = nn.Linear(512, 2) #2 classes(Dog and Cat)\n",
    "\n",
    "    def convs(self, x):\n",
    "        \n"
   ]
  },
  {
   "cell_type": "code",
   "execution_count": null,
   "metadata": {},
   "outputs": [],
   "source": []
  },
  {
   "cell_type": "code",
   "execution_count": null,
   "metadata": {},
   "outputs": [],
   "source": []
  },
  {
   "cell_type": "code",
   "execution_count": null,
   "metadata": {},
   "outputs": [],
   "source": []
  },
  {
   "cell_type": "code",
   "execution_count": null,
   "metadata": {},
   "outputs": [],
   "source": []
  },
  {
   "cell_type": "code",
   "execution_count": null,
   "metadata": {},
   "outputs": [],
   "source": []
  },
  {
   "cell_type": "code",
   "execution_count": null,
   "metadata": {},
   "outputs": [],
   "source": []
  },
  {
   "cell_type": "code",
   "execution_count": null,
   "metadata": {},
   "outputs": [],
   "source": []
  },
  {
   "cell_type": "code",
   "execution_count": null,
   "metadata": {},
   "outputs": [],
   "source": []
  },
  {
   "cell_type": "code",
   "execution_count": null,
   "metadata": {},
   "outputs": [],
   "source": []
  },
  {
   "cell_type": "code",
   "execution_count": null,
   "metadata": {},
   "outputs": [],
   "source": []
  },
  {
   "cell_type": "code",
   "execution_count": null,
   "metadata": {},
   "outputs": [],
   "source": []
  },
  {
   "cell_type": "code",
   "execution_count": null,
   "metadata": {},
   "outputs": [],
   "source": []
  },
  {
   "cell_type": "code",
   "execution_count": null,
   "metadata": {},
   "outputs": [],
   "source": []
  },
  {
   "cell_type": "code",
   "execution_count": null,
   "metadata": {},
   "outputs": [],
   "source": []
  },
  {
   "cell_type": "code",
   "execution_count": null,
   "metadata": {},
   "outputs": [],
   "source": []
  },
  {
   "cell_type": "code",
   "execution_count": null,
   "metadata": {},
   "outputs": [],
   "source": []
  },
  {
   "cell_type": "code",
   "execution_count": null,
   "metadata": {},
   "outputs": [],
   "source": []
  },
  {
   "cell_type": "code",
   "execution_count": null,
   "metadata": {},
   "outputs": [],
   "source": []
  },
  {
   "cell_type": "code",
   "execution_count": null,
   "metadata": {},
   "outputs": [],
   "source": []
  },
  {
   "cell_type": "code",
   "execution_count": null,
   "metadata": {},
   "outputs": [],
   "source": []
  },
  {
   "cell_type": "code",
   "execution_count": null,
   "metadata": {},
   "outputs": [],
   "source": []
  }
 ]
}